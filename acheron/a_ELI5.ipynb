{
 "cells": [
  {
   "cell_type": "markdown",
   "metadata": {},
   "source": [
    "This notebook performs ANOVA analysis on the 20% data split from 60 - 20 - 20 train-ANOVA-test split obtained from xgb notebook. By reading the 9959301 kmer features into chunks of size 30000, and use ANOVA to get the top 10 features in each chunk, the notebook ends with selected top 3320 features for gradient-boosted model and SVM training."
   ]
  },
  {
   "cell_type": "code",
   "execution_count": 1,
   "metadata": {
    "execution": {
     "iopub.execute_input": "2023-04-26T21:37:17.540432Z",
     "iopub.status.busy": "2023-04-26T21:37:17.538748Z",
     "iopub.status.idle": "2023-04-26T21:37:36.379280Z",
     "shell.execute_reply": "2023-04-26T21:37:36.379689Z"
    }
   },
   "outputs": [],
   "source": [
    "import pandas as pd\n",
    "import pyarrow.parquet as pq\n",
    "import pyarrow as pa\n",
    "import numpy as np\n",
    "from sklearn.model_selection import (\n",
    "    GridSearchCV,\n",
    "    RandomizedSearchCV,\n",
    "    cross_val_score,\n",
    "    cross_validate,\n",
    "    train_test_split,\n",
    ")\n",
    "from xgboost import XGBClassifier\n",
    "from sklearn.ensemble import RandomForestClassifier\n",
    "from sklearn.compose import ColumnTransformer, make_column_transformer\n",
    "from sklearn.pipeline import Pipeline, make_pipeline\n",
    "from sklearn.impute import SimpleImputer\n",
    "from sklearn.model_selection import RandomizedSearchCV\n",
    "import matplotlib.pyplot as plt\n",
    "from sklearn.preprocessing import LabelEncoder\n",
    "from catboost import CatBoostClassifier\n",
    "from sklearn.datasets import load_iris\n",
    "from sklearn.feature_selection import SelectKBest, f_classif\n",
    "import matplotlib.pyplot as plt\n",
    "from sklearn.decomposition import PCA\n",
    "import eli5"
   ]
  },
  {
   "cell_type": "code",
   "execution_count": 2,
   "metadata": {
    "execution": {
     "iopub.execute_input": "2023-04-26T21:37:36.384457Z",
     "iopub.status.busy": "2023-04-26T21:37:36.383520Z",
     "iopub.status.idle": "2023-04-26T21:37:36.415403Z",
     "shell.execute_reply": "2023-04-26T21:37:36.415822Z"
    }
   },
   "outputs": [
    {
     "name": "stdout",
     "output_type": "stream",
     "text": [
      "1\n"
     ]
    }
   ],
   "source": [
    "print(1)"
   ]
  },
  {
   "cell_type": "code",
   "execution_count": 3,
   "metadata": {
    "execution": {
     "iopub.execute_input": "2023-04-26T21:37:36.420860Z",
     "iopub.status.busy": "2023-04-26T21:37:36.419898Z",
     "iopub.status.idle": "2023-04-26T21:37:36.425123Z",
     "shell.execute_reply": "2023-04-26T21:37:36.425530Z"
    }
   },
   "outputs": [],
   "source": [
    "chunks = pd.read_csv(\"ANOVA_before_transpose.csv\", chunksize = 40000)"
   ]
  },
  {
   "cell_type": "code",
   "execution_count": 4,
   "metadata": {
    "execution": {
     "iopub.execute_input": "2023-04-26T21:37:36.429635Z",
     "iopub.status.busy": "2023-04-26T21:37:36.428908Z",
     "iopub.status.idle": "2023-04-26T21:37:36.626779Z",
     "shell.execute_reply": "2023-04-26T21:37:36.627218Z"
    }
   },
   "outputs": [],
   "source": [
    "df_species = pd.read_parquet('final_df_species.parquet')\n",
    "df_species = df_species.T\n",
    "df_species.rename(columns={0: 'species'}, inplace=True)"
   ]
  },
  {
   "cell_type": "code",
   "execution_count": 5,
   "metadata": {
    "execution": {
     "iopub.execute_input": "2023-04-26T21:37:36.632718Z",
     "iopub.status.busy": "2023-04-26T21:37:36.632032Z",
     "iopub.status.idle": "2023-04-26T21:37:36.643997Z",
     "shell.execute_reply": "2023-04-26T21:37:36.644663Z"
    }
   },
   "outputs": [
    {
     "data": {
      "text/html": [
       "<div>\n",
       "<style scoped>\n",
       "    .dataframe tbody tr th:only-of-type {\n",
       "        vertical-align: middle;\n",
       "    }\n",
       "\n",
       "    .dataframe tbody tr th {\n",
       "        vertical-align: top;\n",
       "    }\n",
       "\n",
       "    .dataframe thead th {\n",
       "        text-align: right;\n",
       "    }\n",
       "</style>\n",
       "<table border=\"1\" class=\"dataframe\">\n",
       "  <thead>\n",
       "    <tr style=\"text-align: right;\">\n",
       "      <th></th>\n",
       "      <th>species</th>\n",
       "    </tr>\n",
       "  </thead>\n",
       "  <tbody>\n",
       "    <tr>\n",
       "      <th>GCF_900446045.1_58932_D01.genomic.fna.gz</th>\n",
       "      <td>Brucella abortus</td>\n",
       "    </tr>\n",
       "    <tr>\n",
       "      <th>GCF_005938105.1_ASM593810v1.genomic.fna.gz</th>\n",
       "      <td>Brucella haematophila</td>\n",
       "    </tr>\n",
       "    <tr>\n",
       "      <th>GCF_000413955.1_Bruc_abor_biovar_1_B10-0091_V1.genomic.fna.gz</th>\n",
       "      <td>Brucella abortus</td>\n",
       "    </tr>\n",
       "    <tr>\n",
       "      <th>GCF_022024335.1_ASM2202433v1.genomic.fna.gz</th>\n",
       "      <td>Brucella pseudogrignonensis</td>\n",
       "    </tr>\n",
       "    <tr>\n",
       "      <th>GCF_002191835.1_ASM219183v1.genomic.fna.gz</th>\n",
       "      <td>Brucella melitensis</td>\n",
       "    </tr>\n",
       "    <tr>\n",
       "      <th>...</th>\n",
       "      <td>...</td>\n",
       "    </tr>\n",
       "    <tr>\n",
       "      <th>GCF_000698245.1_ASM69824v1.genomic.fna.gz</th>\n",
       "      <td>Brucella suis</td>\n",
       "    </tr>\n",
       "    <tr>\n",
       "      <th>GCF_003993895.1_ASM399389v1.genomic.fna.gz</th>\n",
       "      <td>Brucella melitensis</td>\n",
       "    </tr>\n",
       "    <tr>\n",
       "      <th>GCF_023651035.1_ASM2365103v1.genomic.fna.gz</th>\n",
       "      <td>Brucella abortus</td>\n",
       "    </tr>\n",
       "    <tr>\n",
       "      <th>GCF_017177355.1_ASM1717735v1.genomic.fna.gz</th>\n",
       "      <td>Brucella melitensis</td>\n",
       "    </tr>\n",
       "    <tr>\n",
       "      <th>GCF_002749475.1_ASM274947v1.genomic.fna.gz</th>\n",
       "      <td>Brucella suis</td>\n",
       "    </tr>\n",
       "  </tbody>\n",
       "</table>\n",
       "<p>1164 rows × 1 columns</p>\n",
       "</div>"
      ],
      "text/plain": [
       "                                                                        species\n",
       "GCF_900446045.1_58932_D01.genomic.fna.gz                       Brucella abortus\n",
       "GCF_005938105.1_ASM593810v1.genomic.fna.gz                Brucella haematophila\n",
       "GCF_000413955.1_Bruc_abor_biovar_1_B10-0091_V1....             Brucella abortus\n",
       "GCF_022024335.1_ASM2202433v1.genomic.fna.gz         Brucella pseudogrignonensis\n",
       "GCF_002191835.1_ASM219183v1.genomic.fna.gz                  Brucella melitensis\n",
       "...                                                                         ...\n",
       "GCF_000698245.1_ASM69824v1.genomic.fna.gz                         Brucella suis\n",
       "GCF_003993895.1_ASM399389v1.genomic.fna.gz                  Brucella melitensis\n",
       "GCF_023651035.1_ASM2365103v1.genomic.fna.gz                    Brucella abortus\n",
       "GCF_017177355.1_ASM1717735v1.genomic.fna.gz                 Brucella melitensis\n",
       "GCF_002749475.1_ASM274947v1.genomic.fna.gz                        Brucella suis\n",
       "\n",
       "[1164 rows x 1 columns]"
      ]
     },
     "execution_count": 5,
     "metadata": {},
     "output_type": "execute_result"
    }
   ],
   "source": [
    "df_species"
   ]
  },
  {
   "cell_type": "code",
   "execution_count": 6,
   "metadata": {
    "execution": {
     "iopub.execute_input": "2023-04-26T21:37:36.648837Z",
     "iopub.status.busy": "2023-04-26T21:37:36.647162Z",
     "iopub.status.idle": "2023-04-26T21:37:36.651952Z",
     "shell.execute_reply": "2023-04-26T21:37:36.651506Z"
    }
   },
   "outputs": [],
   "source": [
    "import pandas as pd\n",
    "from sklearn.preprocessing import LabelEncoder\n",
    "from sklearn.pipeline import Pipeline"
   ]
  },
  {
   "cell_type": "code",
   "execution_count": 7,
   "metadata": {
    "execution": {
     "iopub.execute_input": "2023-04-26T21:37:36.655948Z",
     "iopub.status.busy": "2023-04-26T21:37:36.655388Z",
     "iopub.status.idle": "2023-04-26T21:37:36.659059Z",
     "shell.execute_reply": "2023-04-26T21:37:36.658596Z"
    }
   },
   "outputs": [],
   "source": [
    "# class MultiColumnLabelEncoder:\n",
    "#     def __init__(self,columns = None):\n",
    "#         self.columns = columns # array of column names to encode\n",
    "\n",
    "#     def fit(self,X,y=None):\n",
    "#         return self # not relevant here\n",
    "\n",
    "#     def transform(self,X):\n",
    "#         '''\n",
    "#         Transforms columns of X specified in self.columns using\n",
    "#         LabelEncoder(). If no columns specified, transforms all\n",
    "#         columns in X.\n",
    "#         '''\n",
    "#         output = X.copy()\n",
    "#         if self.columns is not None:\n",
    "#             for col in self.columns:\n",
    "#                 output[col] = LabelEncoder().fit_transform(output[col])\n",
    "#         else:\n",
    "#             for colname,col in output.iteritems():\n",
    "#                 output[colname] = LabelEncoder().fit_transform(col)\n",
    "#         return output\n",
    "\n",
    "#     def fit_transform(self,X,y=None):\n",
    "#         return self.fit(X,y).transform(X)"
   ]
  },
  {
   "cell_type": "code",
   "execution_count": 8,
   "metadata": {
    "execution": {
     "iopub.execute_input": "2023-04-26T21:37:36.662437Z",
     "iopub.status.busy": "2023-04-26T21:37:36.661886Z",
     "iopub.status.idle": "2023-04-26T21:37:36.665463Z",
     "shell.execute_reply": "2023-04-26T21:37:36.665019Z"
    }
   },
   "outputs": [],
   "source": [
    "# df_species_enc = MultiColumnLabelEncoder(columns = ['species']).fit_transform(df_species)\n",
    "# df_species_enc"
   ]
  },
  {
   "cell_type": "code",
   "execution_count": 9,
   "metadata": {
    "execution": {
     "iopub.execute_input": "2023-04-26T21:37:36.669258Z",
     "iopub.status.busy": "2023-04-26T21:37:36.668710Z",
     "iopub.status.idle": "2023-04-26T21:37:36.671990Z",
     "shell.execute_reply": "2023-04-26T21:37:36.672375Z"
    }
   },
   "outputs": [],
   "source": [
    "selected_features = []"
   ]
  },
  {
   "cell_type": "code",
   "execution_count": 10,
   "metadata": {
    "execution": {
     "iopub.execute_input": "2023-04-26T21:37:36.678798Z",
     "iopub.status.busy": "2023-04-26T21:37:36.677917Z",
     "iopub.status.idle": "2023-04-26T21:38:39.499908Z",
     "shell.execute_reply": "2023-04-26T21:38:39.499424Z"
    }
   },
   "outputs": [
    {
     "name": "stderr",
     "output_type": "stream",
     "text": [
      "/hobbitholes/waymoot/hchen/micromamba/envs/ach.0.8/lib/python3.7/site-packages/xgboost/sklearn.py:888: UserWarning: The use of label encoder in XGBClassifier is deprecated and will be removed in a future release. To remove this warning, do the following: 1) Pass option use_label_encoder=False when constructing XGBClassifier object; and 2) Encode your labels (y) as integers starting with 0, i.e. 0, 1, 2, ..., [num_class - 1].\n",
      "  warnings.warn(label_encoder_deprecation_msg, UserWarning)\n"
     ]
    }
   ],
   "source": [
    "for chunk in chunks:\n",
    "    column_name = chunk.columns.values.tolist()[0]\n",
    "    chunk = chunk.set_index(column_name)\n",
    "    chunk.index.name = None\n",
    "    X = chunk.T\n",
    "    checker = X\n",
    "    data = X.join(df_species)\n",
    "    x_data = data.drop(columns=[\"species\"])\n",
    "    y_data = data[\"species\"]\n",
    "    pipe_final = make_pipeline(XGBClassifier(eval_metric = 'mlogloss', random_state = 123, max_depth = 9, n_estimators = 50))\n",
    "    pipe_final.fit(x_data,y_data)\n",
    "    eli5_table = eli5.formatters.as_dataframe.explain_weights_df(pipe_final.named_steps[\"xgbclassifier\"])\n",
    "    features = list(eli5_table.values[:10,0])\n",
    "    score_checker = eli5_table\n",
    "    for i in features:\n",
    "        selected_features.append(i)\n",
    "    break"
   ]
  },
  {
   "cell_type": "code",
   "execution_count": 11,
   "metadata": {
    "execution": {
     "iopub.execute_input": "2023-04-26T21:38:39.504809Z",
     "iopub.status.busy": "2023-04-26T21:38:39.503990Z",
     "iopub.status.idle": "2023-04-26T21:38:39.507264Z",
     "shell.execute_reply": "2023-04-26T21:38:39.507662Z"
    }
   },
   "outputs": [
    {
     "data": {
      "text/plain": [
       "['ATTTTAGATGCTCCTCAAGACGGGC',\n",
       " 'GACGCTCGTTGTCTTCTTCGGCGCA',\n",
       " 'AAAAGAGCCGAACCATCTTCCAATC',\n",
       " 'AGCTTCTCGACCTGATCGAGAGCCT',\n",
       " 'ATCTCTAAAGACTCGCACATCACAA',\n",
       " 'ATCCGACCAGAGTGGAACGAGAACA',\n",
       " 'ATCCTGCTCCGGCAAAACCTCCTTC',\n",
       " 'CGGTGGAACGCCTACTCCTTTTGGA',\n",
       " 'CCTGCCCGTGCTTGAGCTTGGGCCG',\n",
       " 'CTGGTGATCGACCTCGTGGTAGCGA']"
      ]
     },
     "execution_count": 11,
     "metadata": {},
     "output_type": "execute_result"
    }
   ],
   "source": [
    "selected_features"
   ]
  },
  {
   "cell_type": "code",
   "execution_count": 12,
   "metadata": {
    "execution": {
     "iopub.execute_input": "2023-04-26T21:38:39.511500Z",
     "iopub.status.busy": "2023-04-26T21:38:39.510873Z",
     "iopub.status.idle": "2023-04-26T21:38:39.605919Z",
     "shell.execute_reply": "2023-04-26T21:38:39.606325Z"
    }
   },
   "outputs": [
    {
     "data": {
      "text/plain": [
       "(364, 2)"
      ]
     },
     "execution_count": 12,
     "metadata": {},
     "output_type": "execute_result"
    }
   ],
   "source": [
    "np.shape(eli5_table[eli5_table[\"weight\"] != 0])"
   ]
  },
  {
   "cell_type": "code",
   "execution_count": 13,
   "metadata": {
    "collapsed": false,
    "execution": {
     "iopub.execute_input": "2023-04-26T21:38:39.610105Z",
     "iopub.status.busy": "2023-04-26T21:38:39.609570Z",
     "iopub.status.idle": "2023-04-26T21:38:39.619153Z",
     "shell.execute_reply": "2023-04-26T21:38:39.619746Z"
    }
   },
   "outputs": [
    {
     "data": {
      "text/html": [
       "<div>\n",
       "<style scoped>\n",
       "    .dataframe tbody tr th:only-of-type {\n",
       "        vertical-align: middle;\n",
       "    }\n",
       "\n",
       "    .dataframe tbody tr th {\n",
       "        vertical-align: top;\n",
       "    }\n",
       "\n",
       "    .dataframe thead th {\n",
       "        text-align: right;\n",
       "    }\n",
       "</style>\n",
       "<table border=\"1\" class=\"dataframe\">\n",
       "  <thead>\n",
       "    <tr style=\"text-align: right;\">\n",
       "      <th></th>\n",
       "      <th>feature</th>\n",
       "      <th>weight</th>\n",
       "    </tr>\n",
       "  </thead>\n",
       "  <tbody>\n",
       "    <tr>\n",
       "      <th>0</th>\n",
       "      <td>ATTTTAGATGCTCCTCAAGACGGGC</td>\n",
       "      <td>0.311563</td>\n",
       "    </tr>\n",
       "    <tr>\n",
       "      <th>1</th>\n",
       "      <td>GACGCTCGTTGTCTTCTTCGGCGCA</td>\n",
       "      <td>0.253261</td>\n",
       "    </tr>\n",
       "    <tr>\n",
       "      <th>2</th>\n",
       "      <td>AAAAGAGCCGAACCATCTTCCAATC</td>\n",
       "      <td>0.068675</td>\n",
       "    </tr>\n",
       "    <tr>\n",
       "      <th>3</th>\n",
       "      <td>AGCTTCTCGACCTGATCGAGAGCCT</td>\n",
       "      <td>0.023459</td>\n",
       "    </tr>\n",
       "    <tr>\n",
       "      <th>4</th>\n",
       "      <td>ATCTCTAAAGACTCGCACATCACAA</td>\n",
       "      <td>0.023459</td>\n",
       "    </tr>\n",
       "    <tr>\n",
       "      <th>...</th>\n",
       "      <td>...</td>\n",
       "      <td>...</td>\n",
       "    </tr>\n",
       "    <tr>\n",
       "      <th>359</th>\n",
       "      <td>CTTGCCGCGTGAAACCGAATAAAAC</td>\n",
       "      <td>0.000013</td>\n",
       "    </tr>\n",
       "    <tr>\n",
       "      <th>360</th>\n",
       "      <td>AAAACTGATAATGCCCGCCGTTTCC</td>\n",
       "      <td>0.000013</td>\n",
       "    </tr>\n",
       "    <tr>\n",
       "      <th>361</th>\n",
       "      <td>TGATGTCGCCAAGGCGCTCGTCGCA</td>\n",
       "      <td>0.000004</td>\n",
       "    </tr>\n",
       "    <tr>\n",
       "      <th>362</th>\n",
       "      <td>GGATAAACGGCTTCCAGCGTGAAAC</td>\n",
       "      <td>0.000003</td>\n",
       "    </tr>\n",
       "    <tr>\n",
       "      <th>363</th>\n",
       "      <td>GCCGCTCTGCCGGTGAAAATCGGGA</td>\n",
       "      <td>0.000002</td>\n",
       "    </tr>\n",
       "  </tbody>\n",
       "</table>\n",
       "<p>364 rows × 2 columns</p>\n",
       "</div>"
      ],
      "text/plain": [
       "                       feature    weight\n",
       "0    ATTTTAGATGCTCCTCAAGACGGGC  0.311563\n",
       "1    GACGCTCGTTGTCTTCTTCGGCGCA  0.253261\n",
       "2    AAAAGAGCCGAACCATCTTCCAATC  0.068675\n",
       "3    AGCTTCTCGACCTGATCGAGAGCCT  0.023459\n",
       "4    ATCTCTAAAGACTCGCACATCACAA  0.023459\n",
       "..                         ...       ...\n",
       "359  CTTGCCGCGTGAAACCGAATAAAAC  0.000013\n",
       "360  AAAACTGATAATGCCCGCCGTTTCC  0.000013\n",
       "361  TGATGTCGCCAAGGCGCTCGTCGCA  0.000004\n",
       "362  GGATAAACGGCTTCCAGCGTGAAAC  0.000003\n",
       "363  GCCGCTCTGCCGGTGAAAATCGGGA  0.000002\n",
       "\n",
       "[364 rows x 2 columns]"
      ]
     },
     "execution_count": 13,
     "metadata": {},
     "output_type": "execute_result"
    }
   ],
   "source": [
    "eli5_table[eli5_table[\"weight\"] != 0]"
   ]
  },
  {
   "cell_type": "code",
   "execution_count": 14,
   "metadata": {
    "execution": {
     "iopub.execute_input": "2023-04-26T21:38:39.627760Z",
     "iopub.status.busy": "2023-04-26T21:38:39.621966Z",
     "iopub.status.idle": "2023-04-26T21:38:39.632065Z",
     "shell.execute_reply": "2023-04-26T21:38:39.632432Z"
    }
   },
   "outputs": [
    {
     "data": {
      "text/html": [
       "<div>\n",
       "<style scoped>\n",
       "    .dataframe tbody tr th:only-of-type {\n",
       "        vertical-align: middle;\n",
       "    }\n",
       "\n",
       "    .dataframe tbody tr th {\n",
       "        vertical-align: top;\n",
       "    }\n",
       "\n",
       "    .dataframe thead th {\n",
       "        text-align: right;\n",
       "    }\n",
       "</style>\n",
       "<table border=\"1\" class=\"dataframe\">\n",
       "  <thead>\n",
       "    <tr style=\"text-align: right;\">\n",
       "      <th></th>\n",
       "      <th>feature</th>\n",
       "      <th>weight</th>\n",
       "    </tr>\n",
       "  </thead>\n",
       "  <tbody>\n",
       "    <tr>\n",
       "      <th>0</th>\n",
       "      <td>ATTTTAGATGCTCCTCAAGACGGGC</td>\n",
       "      <td>0.311563</td>\n",
       "    </tr>\n",
       "    <tr>\n",
       "      <th>1</th>\n",
       "      <td>GACGCTCGTTGTCTTCTTCGGCGCA</td>\n",
       "      <td>0.253261</td>\n",
       "    </tr>\n",
       "    <tr>\n",
       "      <th>2</th>\n",
       "      <td>AAAAGAGCCGAACCATCTTCCAATC</td>\n",
       "      <td>0.068675</td>\n",
       "    </tr>\n",
       "    <tr>\n",
       "      <th>3</th>\n",
       "      <td>AGCTTCTCGACCTGATCGAGAGCCT</td>\n",
       "      <td>0.023459</td>\n",
       "    </tr>\n",
       "    <tr>\n",
       "      <th>4</th>\n",
       "      <td>ATCTCTAAAGACTCGCACATCACAA</td>\n",
       "      <td>0.023459</td>\n",
       "    </tr>\n",
       "    <tr>\n",
       "      <th>...</th>\n",
       "      <td>...</td>\n",
       "      <td>...</td>\n",
       "    </tr>\n",
       "    <tr>\n",
       "      <th>39995</th>\n",
       "      <td>AATAGGGCAGTAAGGCAATAAGGCA</td>\n",
       "      <td>0.000000</td>\n",
       "    </tr>\n",
       "    <tr>\n",
       "      <th>39996</th>\n",
       "      <td>GCGATGGCCGTGACATTCAGCACGC</td>\n",
       "      <td>0.000000</td>\n",
       "    </tr>\n",
       "    <tr>\n",
       "      <th>39997</th>\n",
       "      <td>CGGCGCCCATCAGTCCGAGAAAACG</td>\n",
       "      <td>0.000000</td>\n",
       "    </tr>\n",
       "    <tr>\n",
       "      <th>39998</th>\n",
       "      <td>AAAACAGAACCAGCGGCACCAGGGC</td>\n",
       "      <td>0.000000</td>\n",
       "    </tr>\n",
       "    <tr>\n",
       "      <th>39999</th>\n",
       "      <td>GGTCGAAGACGTAATCGCGGGTGAC</td>\n",
       "      <td>0.000000</td>\n",
       "    </tr>\n",
       "  </tbody>\n",
       "</table>\n",
       "<p>40000 rows × 2 columns</p>\n",
       "</div>"
      ],
      "text/plain": [
       "                         feature    weight\n",
       "0      ATTTTAGATGCTCCTCAAGACGGGC  0.311563\n",
       "1      GACGCTCGTTGTCTTCTTCGGCGCA  0.253261\n",
       "2      AAAAGAGCCGAACCATCTTCCAATC  0.068675\n",
       "3      AGCTTCTCGACCTGATCGAGAGCCT  0.023459\n",
       "4      ATCTCTAAAGACTCGCACATCACAA  0.023459\n",
       "...                          ...       ...\n",
       "39995  AATAGGGCAGTAAGGCAATAAGGCA  0.000000\n",
       "39996  GCGATGGCCGTGACATTCAGCACGC  0.000000\n",
       "39997  CGGCGCCCATCAGTCCGAGAAAACG  0.000000\n",
       "39998  AAAACAGAACCAGCGGCACCAGGGC  0.000000\n",
       "39999  GGTCGAAGACGTAATCGCGGGTGAC  0.000000\n",
       "\n",
       "[40000 rows x 2 columns]"
      ]
     },
     "execution_count": 14,
     "metadata": {},
     "output_type": "execute_result"
    }
   ],
   "source": [
    "eli5_table"
   ]
  },
  {
   "cell_type": "code",
   "execution_count": 15,
   "metadata": {
    "execution": {
     "iopub.execute_input": "2023-04-26T21:38:39.635684Z",
     "iopub.status.busy": "2023-04-26T21:38:39.634765Z",
     "iopub.status.idle": "2023-04-26T21:38:39.638974Z",
     "shell.execute_reply": "2023-04-26T21:38:39.639381Z"
    }
   },
   "outputs": [
    {
     "name": "stdout",
     "output_type": "stream",
     "text": [
      "['ATTTTAGATGCTCCTCAAGACGGGC', 'GACGCTCGTTGTCTTCTTCGGCGCA', 'AAAAGAGCCGAACCATCTTCCAATC', 'AGCTTCTCGACCTGATCGAGAGCCT', 'ATCTCTAAAGACTCGCACATCACAA', 'ATCCGACCAGAGTGGAACGAGAACA', 'ATCCTGCTCCGGCAAAACCTCCTTC', 'CGGTGGAACGCCTACTCCTTTTGGA', 'CCTGCCCGTGCTTGAGCTTGGGCCG', 'CTGGTGATCGACCTCGTGGTAGCGA']\n"
     ]
    }
   ],
   "source": [
    "print(selected_features)"
   ]
  },
  {
   "cell_type": "code",
   "execution_count": 16,
   "metadata": {
    "execution": {
     "iopub.execute_input": "2023-04-26T21:38:39.642591Z",
     "iopub.status.busy": "2023-04-26T21:38:39.642066Z",
     "iopub.status.idle": "2023-04-26T21:38:39.645722Z",
     "shell.execute_reply": "2023-04-26T21:38:39.645292Z"
    }
   },
   "outputs": [],
   "source": [
    "# final_selected_features"
   ]
  }
 ],
 "metadata": {
  "kernelspec": {
   "display_name": "Python 3 (ipykernel)",
   "language": "python",
   "name": "python3"
  },
  "language_info": {
   "codemirror_mode": {
    "name": "ipython",
    "version": 3
   },
   "file_extension": ".py",
   "mimetype": "text/x-python",
   "name": "python",
   "nbconvert_exporter": "python",
   "pygments_lexer": "ipython3",
   "version": "3.7.10"
  }
 },
 "nbformat": 4,
 "nbformat_minor": 1
}
