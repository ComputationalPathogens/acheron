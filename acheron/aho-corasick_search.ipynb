{
 "cells": [
  {
   "cell_type": "code",
   "execution_count": 13,
   "metadata": {},
   "outputs": [],
   "source": [
    "import pandas as pd\n",
    "import pyarrow.parquet as pq\n",
    "import pyarrow as pa\n",
    "import ahocorasick"
   ]
  },
  {
   "cell_type": "markdown",
   "metadata": {},
   "source": [
    "#### to do in sbatch:\n",
    "in terminal acheron/acheron:\n",
    "\n",
    "sbatch -c 4 --mem 10G --wraps=\"jupyter nbconvert --execute --to notebook aho-corasick_search.ipynb\"\n",
    "\n",
    "will create a notebook named aho-corasick_search.nbconvert.ipynb\n"
   ]
  },
  {
   "cell_type": "code",
   "execution_count": 10,
   "metadata": {
    "pycharm": {
     "is_executing": true
    }
   },
   "outputs": [],
   "source": [
    "best_kmers_comps = pq.read_table('add_reverse_complement.parquet')"
   ]
  },
  {
   "cell_type": "code",
   "execution_count": 16,
   "metadata": {},
   "outputs": [
    {
     "data": {
      "text/html": [
       "<div>\n",
       "<style scoped>\n",
       "    .dataframe tbody tr th:only-of-type {\n",
       "        vertical-align: middle;\n",
       "    }\n",
       "\n",
       "    .dataframe tbody tr th {\n",
       "        vertical-align: top;\n",
       "    }\n",
       "\n",
       "    .dataframe thead th {\n",
       "        text-align: right;\n",
       "    }\n",
       "</style>\n",
       "<table border=\"1\" class=\"dataframe\">\n",
       "  <thead>\n",
       "    <tr style=\"text-align: right;\">\n",
       "      <th></th>\n",
       "      <th>0</th>\n",
       "      <th>1</th>\n",
       "    </tr>\n",
       "  </thead>\n",
       "  <tbody>\n",
       "    <tr>\n",
       "      <th>0</th>\n",
       "      <td>AAAAAAAAAAAAAAAAAAAAAAAAA</td>\n",
       "      <td>TTTTTTTTTTTTTTTTTTTTTTTTT</td>\n",
       "    </tr>\n",
       "    <tr>\n",
       "      <th>1</th>\n",
       "      <td>CCGGCGCATGGGCCGGGCTTTTCTC</td>\n",
       "      <td>GAGAAAAGCCCGGCCCATGCGCCGG</td>\n",
       "    </tr>\n",
       "    <tr>\n",
       "      <th>2</th>\n",
       "      <td>CGGCATTGGCAAGCGCGAGCAAGAC</td>\n",
       "      <td>GTCTTGCTCGCGCTTGCCAATGCCG</td>\n",
       "    </tr>\n",
       "    <tr>\n",
       "      <th>3</th>\n",
       "      <td>CCCGAAAGCAAATCCGCCCAACCCG</td>\n",
       "      <td>CGGGTTGGGCGGATTTGCTTTCGGG</td>\n",
       "    </tr>\n",
       "    <tr>\n",
       "      <th>4</th>\n",
       "      <td>CAGGATCAATGTACCACCATCGGCC</td>\n",
       "      <td>GGCCGATGGTGGTACATTGATCCTG</td>\n",
       "    </tr>\n",
       "    <tr>\n",
       "      <th>...</th>\n",
       "      <td>...</td>\n",
       "      <td>...</td>\n",
       "    </tr>\n",
       "    <tr>\n",
       "      <th>9959296</th>\n",
       "      <td>ATCGTTGAACGGCGCAGAATTGGAC</td>\n",
       "      <td>GTCCAATTCTGCGCCGTTCAACGAT</td>\n",
       "    </tr>\n",
       "    <tr>\n",
       "      <th>9959297</th>\n",
       "      <td>ACCTCGGCCTGCAAACGCGGATGTA</td>\n",
       "      <td>TACATCCGCGTTTGCAGGCCGAGGT</td>\n",
       "    </tr>\n",
       "    <tr>\n",
       "      <th>9959298</th>\n",
       "      <td>CTCGCGTCACCGATCGGGCCATTCA</td>\n",
       "      <td>TGAATGGCCCGATCGGTGACGCGAG</td>\n",
       "    </tr>\n",
       "    <tr>\n",
       "      <th>9959299</th>\n",
       "      <td>CGGCAGGCCGACGCGGCCCGCTGCC</td>\n",
       "      <td>GGCAGCGGGCCGCGTCGGCCTGCCG</td>\n",
       "    </tr>\n",
       "    <tr>\n",
       "      <th>9959300</th>\n",
       "      <td>CATGGTCGTCACCCACGATCAGGAA</td>\n",
       "      <td>TTCCTGATCGTGGGTGACGACCATG</td>\n",
       "    </tr>\n",
       "  </tbody>\n",
       "</table>\n",
       "<p>9959301 rows × 2 columns</p>\n",
       "</div>"
      ],
      "text/plain": [
       "                                 0                          1\n",
       "0        AAAAAAAAAAAAAAAAAAAAAAAAA  TTTTTTTTTTTTTTTTTTTTTTTTT\n",
       "1        CCGGCGCATGGGCCGGGCTTTTCTC  GAGAAAAGCCCGGCCCATGCGCCGG\n",
       "2        CGGCATTGGCAAGCGCGAGCAAGAC  GTCTTGCTCGCGCTTGCCAATGCCG\n",
       "3        CCCGAAAGCAAATCCGCCCAACCCG  CGGGTTGGGCGGATTTGCTTTCGGG\n",
       "4        CAGGATCAATGTACCACCATCGGCC  GGCCGATGGTGGTACATTGATCCTG\n",
       "...                            ...                        ...\n",
       "9959296  ATCGTTGAACGGCGCAGAATTGGAC  GTCCAATTCTGCGCCGTTCAACGAT\n",
       "9959297  ACCTCGGCCTGCAAACGCGGATGTA  TACATCCGCGTTTGCAGGCCGAGGT\n",
       "9959298  CTCGCGTCACCGATCGGGCCATTCA  TGAATGGCCCGATCGGTGACGCGAG\n",
       "9959299  CGGCAGGCCGACGCGGCCCGCTGCC  GGCAGCGGGCCGCGTCGGCCTGCCG\n",
       "9959300  CATGGTCGTCACCCACGATCAGGAA  TTCCTGATCGTGGGTGACGACCATG\n",
       "\n",
       "[9959301 rows x 2 columns]"
      ]
     },
     "execution_count": 16,
     "metadata": {},
     "output_type": "execute_result"
    }
   ],
   "source": [
    "best_kmers_comps_df = best_kmers_complements.to_pandas()\n",
    "best_kmers_comps_df"
   ]
  },
  {
   "cell_type": "code",
   "execution_count": 22,
   "metadata": {},
   "outputs": [
    {
     "data": {
      "text/html": [
       "<div>\n",
       "<style scoped>\n",
       "    .dataframe tbody tr th:only-of-type {\n",
       "        vertical-align: middle;\n",
       "    }\n",
       "\n",
       "    .dataframe tbody tr th {\n",
       "        vertical-align: top;\n",
       "    }\n",
       "\n",
       "    .dataframe thead th {\n",
       "        text-align: right;\n",
       "    }\n",
       "</style>\n",
       "<table border=\"1\" class=\"dataframe\">\n",
       "  <thead>\n",
       "    <tr style=\"text-align: right;\">\n",
       "      <th></th>\n",
       "      <th>best_kmers</th>\n",
       "      <th>rev_comps</th>\n",
       "    </tr>\n",
       "  </thead>\n",
       "  <tbody>\n",
       "    <tr>\n",
       "      <th>0</th>\n",
       "      <td>AAAAAAAAAAAAAAAAAAAAAAAAA</td>\n",
       "      <td>TTTTTTTTTTTTTTTTTTTTTTTTT</td>\n",
       "    </tr>\n",
       "    <tr>\n",
       "      <th>1</th>\n",
       "      <td>CCGGCGCATGGGCCGGGCTTTTCTC</td>\n",
       "      <td>GAGAAAAGCCCGGCCCATGCGCCGG</td>\n",
       "    </tr>\n",
       "    <tr>\n",
       "      <th>2</th>\n",
       "      <td>CGGCATTGGCAAGCGCGAGCAAGAC</td>\n",
       "      <td>GTCTTGCTCGCGCTTGCCAATGCCG</td>\n",
       "    </tr>\n",
       "    <tr>\n",
       "      <th>3</th>\n",
       "      <td>CCCGAAAGCAAATCCGCCCAACCCG</td>\n",
       "      <td>CGGGTTGGGCGGATTTGCTTTCGGG</td>\n",
       "    </tr>\n",
       "    <tr>\n",
       "      <th>4</th>\n",
       "      <td>CAGGATCAATGTACCACCATCGGCC</td>\n",
       "      <td>GGCCGATGGTGGTACATTGATCCTG</td>\n",
       "    </tr>\n",
       "    <tr>\n",
       "      <th>...</th>\n",
       "      <td>...</td>\n",
       "      <td>...</td>\n",
       "    </tr>\n",
       "    <tr>\n",
       "      <th>9959296</th>\n",
       "      <td>ATCGTTGAACGGCGCAGAATTGGAC</td>\n",
       "      <td>GTCCAATTCTGCGCCGTTCAACGAT</td>\n",
       "    </tr>\n",
       "    <tr>\n",
       "      <th>9959297</th>\n",
       "      <td>ACCTCGGCCTGCAAACGCGGATGTA</td>\n",
       "      <td>TACATCCGCGTTTGCAGGCCGAGGT</td>\n",
       "    </tr>\n",
       "    <tr>\n",
       "      <th>9959298</th>\n",
       "      <td>CTCGCGTCACCGATCGGGCCATTCA</td>\n",
       "      <td>TGAATGGCCCGATCGGTGACGCGAG</td>\n",
       "    </tr>\n",
       "    <tr>\n",
       "      <th>9959299</th>\n",
       "      <td>CGGCAGGCCGACGCGGCCCGCTGCC</td>\n",
       "      <td>GGCAGCGGGCCGCGTCGGCCTGCCG</td>\n",
       "    </tr>\n",
       "    <tr>\n",
       "      <th>9959300</th>\n",
       "      <td>CATGGTCGTCACCCACGATCAGGAA</td>\n",
       "      <td>TTCCTGATCGTGGGTGACGACCATG</td>\n",
       "    </tr>\n",
       "  </tbody>\n",
       "</table>\n",
       "<p>9959301 rows × 2 columns</p>\n",
       "</div>"
      ],
      "text/plain": [
       "                        best_kmers                  rev_comps\n",
       "0        AAAAAAAAAAAAAAAAAAAAAAAAA  TTTTTTTTTTTTTTTTTTTTTTTTT\n",
       "1        CCGGCGCATGGGCCGGGCTTTTCTC  GAGAAAAGCCCGGCCCATGCGCCGG\n",
       "2        CGGCATTGGCAAGCGCGAGCAAGAC  GTCTTGCTCGCGCTTGCCAATGCCG\n",
       "3        CCCGAAAGCAAATCCGCCCAACCCG  CGGGTTGGGCGGATTTGCTTTCGGG\n",
       "4        CAGGATCAATGTACCACCATCGGCC  GGCCGATGGTGGTACATTGATCCTG\n",
       "...                            ...                        ...\n",
       "9959296  ATCGTTGAACGGCGCAGAATTGGAC  GTCCAATTCTGCGCCGTTCAACGAT\n",
       "9959297  ACCTCGGCCTGCAAACGCGGATGTA  TACATCCGCGTTTGCAGGCCGAGGT\n",
       "9959298  CTCGCGTCACCGATCGGGCCATTCA  TGAATGGCCCGATCGGTGACGCGAG\n",
       "9959299  CGGCAGGCCGACGCGGCCCGCTGCC  GGCAGCGGGCCGCGTCGGCCTGCCG\n",
       "9959300  CATGGTCGTCACCCACGATCAGGAA  TTCCTGATCGTGGGTGACGACCATG\n",
       "\n",
       "[9959301 rows x 2 columns]"
      ]
     },
     "execution_count": 22,
     "metadata": {},
     "output_type": "execute_result"
    }
   ],
   "source": [
    "best_kmers_comps_df.columns = [\"best_kmers\", \"rev_comps\"]\n",
    "best_kmers_comps_df"
   ]
  },
  {
   "cell_type": "code",
   "execution_count": 14,
   "metadata": {},
   "outputs": [],
   "source": [
    "aho = ahocorasick.Automaton()"
   ]
  },
  {
   "cell_type": "code",
   "execution_count": 26,
   "metadata": {},
   "outputs": [
    {
     "data": {
      "text/plain": [
       "9959301"
      ]
     },
     "execution_count": 26,
     "metadata": {},
     "output_type": "execute_result"
    }
   ],
   "source": [
    "kmers = best_kmers_comps_df.best_kmers\n",
    "len(kmers)"
   ]
  },
  {
   "cell_type": "code",
   "execution_count": 28,
   "metadata": {},
   "outputs": [],
   "source": [
    "rev_comps = best_kmers_comps_df.rev_comps"
   ]
  },
  {
   "cell_type": "code",
   "execution_count": null,
   "metadata": {},
   "outputs": [],
   "source": [
    "for i in range(len(kmers)):\n",
    "    aho.add_word(kmers[i],0)\n",
    "    aho.add_word(rev_comps[i],0)\n",
    "aho.make_automaton()"
   ]
  },
  {
   "cell_type": "code",
   "execution_count": null,
   "metadata": {},
   "outputs": [],
   "source": [
    "#Creates the needles (all kmers)\n",
    "def needles(strain):\n",
    "    kmers = ranks.index.values\n",
    "    rank = ranks[strain+' RANK']\n",
    "    aho = ahocorasick.Automaton()\n",
    "    for i in range(0,len(kmers)):\n",
    "        kmer = kmers[i]\n",
    "        rev_c = reverse_complement(kmer)\n",
    "        aho.add_word(kmer,(kmer,rank[kmer]))\n",
    "        aho.add_word(rev_c,(kmer,rank[kmer]))\n",
    "    aho.make_automaton()\n",
    "    return(aho)"
   ]
  },
  {
   "cell_type": "code",
   "execution_count": null,
   "metadata": {},
   "outputs": [],
   "source": []
  },
  {
   "cell_type": "code",
   "execution_count": null,
   "metadata": {},
   "outputs": [],
   "source": []
  },
  {
   "cell_type": "code",
   "execution_count": null,
   "metadata": {},
   "outputs": [],
   "source": []
  },
  {
   "cell_type": "code",
   "execution_count": null,
   "metadata": {},
   "outputs": [],
   "source": []
  }
 ],
 "metadata": {
  "kernelspec": {
   "display_name": "Python 3 (ipykernel)",
   "language": "python",
   "name": "python3"
  },
  "language_info": {
   "codemirror_mode": {
    "name": "ipython",
    "version": 3
   },
   "file_extension": ".py",
   "mimetype": "text/x-python",
   "name": "python",
   "nbconvert_exporter": "python",
   "pygments_lexer": "ipython3",
   "version": "3.7.10"
  }
 },
 "nbformat": 4,
 "nbformat_minor": 1
}
