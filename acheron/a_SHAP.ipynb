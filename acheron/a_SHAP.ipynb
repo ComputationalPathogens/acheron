{
 "cells": [
  {
   "cell_type": "markdown",
   "metadata": {},
   "source": [
    "This notebook performs ANOVA analysis on the 20% data split from 60 - 20 - 20 train-ANOVA-test split obtained from xgb notebook. By reading the 9959301 kmer features into chunks of size 30000, and use ANOVA to get the top 10 features in each chunk, the notebook ends with selected top 3320 features for gradient-boosted model and SVM training."
   ]
  },
  {
   "cell_type": "code",
   "execution_count": 1,
   "metadata": {
    "execution": {
     "iopub.execute_input": "2023-04-25T09:18:18.206976Z",
     "iopub.status.busy": "2023-04-25T09:18:18.204416Z",
     "iopub.status.idle": "2023-04-25T09:18:21.429577Z",
     "shell.execute_reply": "2023-04-25T09:18:21.430087Z"
    }
   },
   "outputs": [],
   "source": [
    "import pandas as pd\n",
    "import pyarrow.parquet as pq\n",
    "import pyarrow as pa\n",
    "import numpy as np\n",
    "from sklearn.model_selection import (\n",
    "    GridSearchCV,\n",
    "    RandomizedSearchCV,\n",
    "    cross_val_score,\n",
    "    cross_validate,\n",
    "    train_test_split,\n",
    ")\n",
    "from xgboost import XGBClassifier\n",
    "from sklearn.ensemble import RandomForestClassifier\n",
    "from sklearn.compose import ColumnTransformer, make_column_transformer\n",
    "from sklearn.pipeline import Pipeline, make_pipeline\n",
    "from sklearn.impute import SimpleImputer\n",
    "from sklearn.model_selection import RandomizedSearchCV\n",
    "import matplotlib.pyplot as plt\n",
    "from sklearn.preprocessing import LabelEncoder\n",
    "from catboost import CatBoostClassifier\n",
    "from sklearn.datasets import load_iris\n",
    "from sklearn.feature_selection import SelectKBest, f_classif\n",
    "import matplotlib.pyplot as plt\n",
    "from sklearn.decomposition import PCA\n",
    "import shap\n",
    "# import eli5"
   ]
  },
  {
   "cell_type": "code",
   "execution_count": 1,
   "metadata": {
    "execution": {
     "iopub.execute_input": "2023-04-25T09:18:21.436210Z",
     "iopub.status.busy": "2023-04-25T09:18:21.434989Z",
     "iopub.status.idle": "2023-04-25T09:18:21.473259Z",
     "shell.execute_reply": "2023-04-25T09:18:21.473763Z"
    }
   },
   "outputs": [
    {
     "name": "stdout",
     "output_type": "stream",
     "text": [
      "1\n"
     ]
    }
   ],
   "source": [
    "print(1)"
   ]
  },
  {
   "cell_type": "code",
   "execution_count": 3,
   "metadata": {
    "execution": {
     "iopub.execute_input": "2023-04-25T09:18:21.479701Z",
     "iopub.status.busy": "2023-04-25T09:18:21.478545Z",
     "iopub.status.idle": "2023-04-25T09:18:21.485101Z",
     "shell.execute_reply": "2023-04-25T09:18:21.485708Z"
    }
   },
   "outputs": [],
   "source": [
    "chunks = pd.read_csv(\"ANOVA_before_transpose.csv\", chunksize = 40000)"
   ]
  },
  {
   "cell_type": "code",
   "execution_count": 4,
   "metadata": {
    "execution": {
     "iopub.execute_input": "2023-04-25T09:18:21.491857Z",
     "iopub.status.busy": "2023-04-25T09:18:21.490680Z",
     "iopub.status.idle": "2023-04-25T09:18:21.669597Z",
     "shell.execute_reply": "2023-04-25T09:18:21.670042Z"
    }
   },
   "outputs": [],
   "source": [
    "df_species = pd.read_parquet('final_df_species.parquet')\n",
    "df_species = df_species.T\n",
    "df_species.rename(columns={0: 'species'}, inplace=True)"
   ]
  },
  {
   "cell_type": "code",
   "execution_count": 5,
   "metadata": {
    "execution": {
     "iopub.execute_input": "2023-04-25T09:18:21.675820Z",
     "iopub.status.busy": "2023-04-25T09:18:21.675007Z",
     "iopub.status.idle": "2023-04-25T09:18:21.685809Z",
     "shell.execute_reply": "2023-04-25T09:18:21.686217Z"
    }
   },
   "outputs": [
    {
     "data": {
      "text/html": [
       "<div>\n",
       "<style scoped>\n",
       "    .dataframe tbody tr th:only-of-type {\n",
       "        vertical-align: middle;\n",
       "    }\n",
       "\n",
       "    .dataframe tbody tr th {\n",
       "        vertical-align: top;\n",
       "    }\n",
       "\n",
       "    .dataframe thead th {\n",
       "        text-align: right;\n",
       "    }\n",
       "</style>\n",
       "<table border=\"1\" class=\"dataframe\">\n",
       "  <thead>\n",
       "    <tr style=\"text-align: right;\">\n",
       "      <th></th>\n",
       "      <th>species</th>\n",
       "    </tr>\n",
       "  </thead>\n",
       "  <tbody>\n",
       "    <tr>\n",
       "      <th>GCF_900446045.1_58932_D01.genomic.fna.gz</th>\n",
       "      <td>Brucella abortus</td>\n",
       "    </tr>\n",
       "    <tr>\n",
       "      <th>GCF_005938105.1_ASM593810v1.genomic.fna.gz</th>\n",
       "      <td>Brucella haematophila</td>\n",
       "    </tr>\n",
       "    <tr>\n",
       "      <th>GCF_000413955.1_Bruc_abor_biovar_1_B10-0091_V1.genomic.fna.gz</th>\n",
       "      <td>Brucella abortus</td>\n",
       "    </tr>\n",
       "    <tr>\n",
       "      <th>GCF_022024335.1_ASM2202433v1.genomic.fna.gz</th>\n",
       "      <td>Brucella pseudogrignonensis</td>\n",
       "    </tr>\n",
       "    <tr>\n",
       "      <th>GCF_002191835.1_ASM219183v1.genomic.fna.gz</th>\n",
       "      <td>Brucella melitensis</td>\n",
       "    </tr>\n",
       "    <tr>\n",
       "      <th>...</th>\n",
       "      <td>...</td>\n",
       "    </tr>\n",
       "    <tr>\n",
       "      <th>GCF_000698245.1_ASM69824v1.genomic.fna.gz</th>\n",
       "      <td>Brucella suis</td>\n",
       "    </tr>\n",
       "    <tr>\n",
       "      <th>GCF_003993895.1_ASM399389v1.genomic.fna.gz</th>\n",
       "      <td>Brucella melitensis</td>\n",
       "    </tr>\n",
       "    <tr>\n",
       "      <th>GCF_023651035.1_ASM2365103v1.genomic.fna.gz</th>\n",
       "      <td>Brucella abortus</td>\n",
       "    </tr>\n",
       "    <tr>\n",
       "      <th>GCF_017177355.1_ASM1717735v1.genomic.fna.gz</th>\n",
       "      <td>Brucella melitensis</td>\n",
       "    </tr>\n",
       "    <tr>\n",
       "      <th>GCF_002749475.1_ASM274947v1.genomic.fna.gz</th>\n",
       "      <td>Brucella suis</td>\n",
       "    </tr>\n",
       "  </tbody>\n",
       "</table>\n",
       "<p>1164 rows × 1 columns</p>\n",
       "</div>"
      ],
      "text/plain": [
       "                                                                        species\n",
       "GCF_900446045.1_58932_D01.genomic.fna.gz                       Brucella abortus\n",
       "GCF_005938105.1_ASM593810v1.genomic.fna.gz                Brucella haematophila\n",
       "GCF_000413955.1_Bruc_abor_biovar_1_B10-0091_V1....             Brucella abortus\n",
       "GCF_022024335.1_ASM2202433v1.genomic.fna.gz         Brucella pseudogrignonensis\n",
       "GCF_002191835.1_ASM219183v1.genomic.fna.gz                  Brucella melitensis\n",
       "...                                                                         ...\n",
       "GCF_000698245.1_ASM69824v1.genomic.fna.gz                         Brucella suis\n",
       "GCF_003993895.1_ASM399389v1.genomic.fna.gz                  Brucella melitensis\n",
       "GCF_023651035.1_ASM2365103v1.genomic.fna.gz                    Brucella abortus\n",
       "GCF_017177355.1_ASM1717735v1.genomic.fna.gz                 Brucella melitensis\n",
       "GCF_002749475.1_ASM274947v1.genomic.fna.gz                        Brucella suis\n",
       "\n",
       "[1164 rows x 1 columns]"
      ]
     },
     "execution_count": 5,
     "metadata": {},
     "output_type": "execute_result"
    }
   ],
   "source": [
    "df_species"
   ]
  },
  {
   "cell_type": "code",
   "execution_count": 6,
   "metadata": {
    "execution": {
     "iopub.execute_input": "2023-04-25T09:18:21.690420Z",
     "iopub.status.busy": "2023-04-25T09:18:21.689845Z",
     "iopub.status.idle": "2023-04-25T09:18:21.693070Z",
     "shell.execute_reply": "2023-04-25T09:18:21.693877Z"
    }
   },
   "outputs": [],
   "source": [
    "import pandas as pd\n",
    "from sklearn.preprocessing import LabelEncoder\n",
    "from sklearn.pipeline import Pipeline"
   ]
  },
  {
   "cell_type": "code",
   "execution_count": 7,
   "metadata": {
    "execution": {
     "iopub.execute_input": "2023-04-25T09:18:21.700443Z",
     "iopub.status.busy": "2023-04-25T09:18:21.696490Z",
     "iopub.status.idle": "2023-04-25T09:18:21.702604Z",
     "shell.execute_reply": "2023-04-25T09:18:21.703014Z"
    }
   },
   "outputs": [],
   "source": [
    "class MultiColumnLabelEncoder:\n",
    "    def __init__(self,columns = None):\n",
    "        self.columns = columns # array of column names to encode\n",
    "\n",
    "    def fit(self,X,y=None):\n",
    "        return self # not relevant here\n",
    "\n",
    "    def transform(self,X):\n",
    "        '''\n",
    "        Transforms columns of X specified in self.columns using\n",
    "        LabelEncoder(). If no columns specified, transforms all\n",
    "        columns in X.\n",
    "        '''\n",
    "        output = X.copy()\n",
    "        if self.columns is not None:\n",
    "            for col in self.columns:\n",
    "                output[col] = LabelEncoder().fit_transform(output[col])\n",
    "        else:\n",
    "            for colname,col in output.iteritems():\n",
    "                output[colname] = LabelEncoder().fit_transform(col)\n",
    "        return output\n",
    "\n",
    "    def fit_transform(self,X,y=None):\n",
    "        return self.fit(X,y).transform(X)"
   ]
  },
  {
   "cell_type": "code",
   "execution_count": 8,
   "metadata": {
    "execution": {
     "iopub.execute_input": "2023-04-25T09:18:21.713208Z",
     "iopub.status.busy": "2023-04-25T09:18:21.711947Z",
     "iopub.status.idle": "2023-04-25T09:18:21.715754Z",
     "shell.execute_reply": "2023-04-25T09:18:21.715273Z"
    }
   },
   "outputs": [
    {
     "data": {
      "text/html": [
       "<div>\n",
       "<style scoped>\n",
       "    .dataframe tbody tr th:only-of-type {\n",
       "        vertical-align: middle;\n",
       "    }\n",
       "\n",
       "    .dataframe tbody tr th {\n",
       "        vertical-align: top;\n",
       "    }\n",
       "\n",
       "    .dataframe thead th {\n",
       "        text-align: right;\n",
       "    }\n",
       "</style>\n",
       "<table border=\"1\" class=\"dataframe\">\n",
       "  <thead>\n",
       "    <tr style=\"text-align: right;\">\n",
       "      <th></th>\n",
       "      <th>species</th>\n",
       "    </tr>\n",
       "  </thead>\n",
       "  <tbody>\n",
       "    <tr>\n",
       "      <th>GCF_900446045.1_58932_D01.genomic.fna.gz</th>\n",
       "      <td>0</td>\n",
       "    </tr>\n",
       "    <tr>\n",
       "      <th>GCF_005938105.1_ASM593810v1.genomic.fna.gz</th>\n",
       "      <td>10</td>\n",
       "    </tr>\n",
       "    <tr>\n",
       "      <th>GCF_000413955.1_Bruc_abor_biovar_1_B10-0091_V1.genomic.fna.gz</th>\n",
       "      <td>0</td>\n",
       "    </tr>\n",
       "    <tr>\n",
       "      <th>GCF_022024335.1_ASM2202433v1.genomic.fna.gz</th>\n",
       "      <td>23</td>\n",
       "    </tr>\n",
       "    <tr>\n",
       "      <th>GCF_002191835.1_ASM219183v1.genomic.fna.gz</th>\n",
       "      <td>14</td>\n",
       "    </tr>\n",
       "    <tr>\n",
       "      <th>...</th>\n",
       "      <td>...</td>\n",
       "    </tr>\n",
       "    <tr>\n",
       "      <th>GCF_000698245.1_ASM69824v1.genomic.fna.gz</th>\n",
       "      <td>26</td>\n",
       "    </tr>\n",
       "    <tr>\n",
       "      <th>GCF_003993895.1_ASM399389v1.genomic.fna.gz</th>\n",
       "      <td>14</td>\n",
       "    </tr>\n",
       "    <tr>\n",
       "      <th>GCF_023651035.1_ASM2365103v1.genomic.fna.gz</th>\n",
       "      <td>0</td>\n",
       "    </tr>\n",
       "    <tr>\n",
       "      <th>GCF_017177355.1_ASM1717735v1.genomic.fna.gz</th>\n",
       "      <td>14</td>\n",
       "    </tr>\n",
       "    <tr>\n",
       "      <th>GCF_002749475.1_ASM274947v1.genomic.fna.gz</th>\n",
       "      <td>26</td>\n",
       "    </tr>\n",
       "  </tbody>\n",
       "</table>\n",
       "<p>1164 rows × 1 columns</p>\n",
       "</div>"
      ],
      "text/plain": [
       "                                                    species\n",
       "GCF_900446045.1_58932_D01.genomic.fna.gz                  0\n",
       "GCF_005938105.1_ASM593810v1.genomic.fna.gz               10\n",
       "GCF_000413955.1_Bruc_abor_biovar_1_B10-0091_V1....        0\n",
       "GCF_022024335.1_ASM2202433v1.genomic.fna.gz              23\n",
       "GCF_002191835.1_ASM219183v1.genomic.fna.gz               14\n",
       "...                                                     ...\n",
       "GCF_000698245.1_ASM69824v1.genomic.fna.gz                26\n",
       "GCF_003993895.1_ASM399389v1.genomic.fna.gz               14\n",
       "GCF_023651035.1_ASM2365103v1.genomic.fna.gz               0\n",
       "GCF_017177355.1_ASM1717735v1.genomic.fna.gz              14\n",
       "GCF_002749475.1_ASM274947v1.genomic.fna.gz               26\n",
       "\n",
       "[1164 rows x 1 columns]"
      ]
     },
     "execution_count": 8,
     "metadata": {},
     "output_type": "execute_result"
    }
   ],
   "source": [
    "df_species_enc = MultiColumnLabelEncoder(columns = ['species']).fit_transform(df_species)\n",
    "df_species_enc"
   ]
  },
  {
   "cell_type": "code",
   "execution_count": 9,
   "metadata": {
    "execution": {
     "iopub.execute_input": "2023-04-25T09:18:21.721009Z",
     "iopub.status.busy": "2023-04-25T09:18:21.719234Z",
     "iopub.status.idle": "2023-04-25T09:18:21.721671Z",
     "shell.execute_reply": "2023-04-25T09:18:21.722100Z"
    }
   },
   "outputs": [],
   "source": [
    "selected_features = []"
   ]
  },
  {
   "cell_type": "code",
   "execution_count": 10,
   "metadata": {
    "execution": {
     "iopub.execute_input": "2023-04-25T09:18:21.728459Z",
     "iopub.status.busy": "2023-04-25T09:18:21.727526Z",
     "iopub.status.idle": "2023-04-25T09:18:27.710459Z",
     "shell.execute_reply": "2023-04-25T09:18:27.710837Z"
    }
   },
   "outputs": [],
   "source": [
    "for chunk in chunks:\n",
    "    column_name = chunk.columns.values.tolist()[0]\n",
    "    chunk = chunk.set_index(column_name)\n",
    "    chunk.index.name = None\n",
    "    X = chunk.T\n",
    "    data = X.join(df_species)\n",
    "    x_SHAP = data.drop(columns=[\"species\"])\n",
    "    y_SHAP = data[\"species\"]\n",
    "    rf_model = RandomForestClassifier(random_state=123, n_jobs=-1).fit(x_SHAP,y_SHAP)\n",
    "    explainer = shap.TreeExplainer(rf_model)\n",
    "    shap_values = explainer(x_SHAP)\n",
    "    np.abs(shap_values.values)\n",
    "    checker = shap_values.values\n",
    "    feature_importance = pd.DataFrame(list(zip(x_SHAP.columns, shap_values.mean(0))), columns = ['feature','importance'])\n",
    "    feature_importance = feature_importance.sort_values('importance', ascending = False)\n",
    "    top_features = feature_importance.head(10)['feature'].values\n",
    "    \n",
    "    \n",
    "#     selector = SelectKBest(score_func = f_classif, k = 10)\n",
    "#     X_selected = selector.fit_transform(x_ANOVA, y_ANOVA)\n",
    "#     bbb = list(np.array(x_ANOVA.columns.values.tolist())[selector.get_support()])\n",
    "#     for i in bbb:\n",
    "#         selected_features.append(i)\n",
    "\n",
    "    for i in top_features:\n",
    "        selected_features.append(i)"
   ]
  },
  {
   "cell_type": "code",
   "execution_count": 11,
   "metadata": {
    "execution": {
     "iopub.execute_input": "2023-04-25T09:18:27.715272Z",
     "iopub.status.busy": "2023-04-25T09:18:27.714385Z",
     "iopub.status.idle": "2023-04-25T09:18:27.720483Z",
     "shell.execute_reply": "2023-04-25T09:18:27.720059Z"
    }
   },
   "outputs": [
    {
     "data": {
      "text/plain": [
       "array([[[0., 0., 0., ..., 0., 0., 0.],\n",
       "        [0., 0., 0., ..., 0., 0., 0.],\n",
       "        [0., 0., 0., ..., 0., 0., 0.],\n",
       "        ...,\n",
       "        [0., 0., 0., ..., 0., 0., 0.],\n",
       "        [0., 0., 0., ..., 0., 0., 0.],\n",
       "        [0., 0., 0., ..., 0., 0., 0.]],\n",
       "\n",
       "       [[0., 0., 0., ..., 0., 0., 0.],\n",
       "        [0., 0., 0., ..., 0., 0., 0.],\n",
       "        [0., 0., 0., ..., 0., 0., 0.],\n",
       "        ...,\n",
       "        [0., 0., 0., ..., 0., 0., 0.],\n",
       "        [0., 0., 0., ..., 0., 0., 0.],\n",
       "        [0., 0., 0., ..., 0., 0., 0.]],\n",
       "\n",
       "       [[0., 0., 0., ..., 0., 0., 0.],\n",
       "        [0., 0., 0., ..., 0., 0., 0.],\n",
       "        [0., 0., 0., ..., 0., 0., 0.],\n",
       "        ...,\n",
       "        [0., 0., 0., ..., 0., 0., 0.],\n",
       "        [0., 0., 0., ..., 0., 0., 0.],\n",
       "        [0., 0., 0., ..., 0., 0., 0.]],\n",
       "\n",
       "       ...,\n",
       "\n",
       "       [[0., 0., 0., ..., 0., 0., 0.],\n",
       "        [0., 0., 0., ..., 0., 0., 0.],\n",
       "        [0., 0., 0., ..., 0., 0., 0.],\n",
       "        ...,\n",
       "        [0., 0., 0., ..., 0., 0., 0.],\n",
       "        [0., 0., 0., ..., 0., 0., 0.],\n",
       "        [0., 0., 0., ..., 0., 0., 0.]],\n",
       "\n",
       "       [[0., 0., 0., ..., 0., 0., 0.],\n",
       "        [0., 0., 0., ..., 0., 0., 0.],\n",
       "        [0., 0., 0., ..., 0., 0., 0.],\n",
       "        ...,\n",
       "        [0., 0., 0., ..., 0., 0., 0.],\n",
       "        [0., 0., 0., ..., 0., 0., 0.],\n",
       "        [0., 0., 0., ..., 0., 0., 0.]],\n",
       "\n",
       "       [[0., 0., 0., ..., 0., 0., 0.],\n",
       "        [0., 0., 0., ..., 0., 0., 0.],\n",
       "        [0., 0., 0., ..., 0., 0., 0.],\n",
       "        ...,\n",
       "        [0., 0., 0., ..., 0., 0., 0.],\n",
       "        [0., 0., 0., ..., 0., 0., 0.],\n",
       "        [0., 0., 0., ..., 0., 0., 0.]]])"
      ]
     },
     "execution_count": 11,
     "metadata": {},
     "output_type": "execute_result"
    }
   ],
   "source": [
    "checker"
   ]
  },
  {
   "cell_type": "code",
   "execution_count": 12,
   "metadata": {
    "execution": {
     "iopub.execute_input": "2023-04-25T09:18:27.725172Z",
     "iopub.status.busy": "2023-04-25T09:18:27.723554Z",
     "iopub.status.idle": "2023-04-25T09:18:27.725771Z",
     "shell.execute_reply": "2023-04-25T09:18:27.726159Z"
    }
   },
   "outputs": [],
   "source": [
    "# print(selected_features)"
   ]
  },
  {
   "cell_type": "code",
   "execution_count": 13,
   "metadata": {
    "execution": {
     "iopub.execute_input": "2023-04-25T09:18:27.730777Z",
     "iopub.status.busy": "2023-04-25T09:18:27.729157Z",
     "iopub.status.idle": "2023-04-25T09:18:27.731403Z",
     "shell.execute_reply": "2023-04-25T09:18:27.731792Z"
    }
   },
   "outputs": [],
   "source": [
    "# final_selected_features"
   ]
  }
 ],
 "metadata": {
  "kernelspec": {
   "display_name": "Python 3 (ipykernel)",
   "language": "python",
   "name": "python3"
  },
  "language_info": {
   "codemirror_mode": {
    "name": "ipython",
    "version": 3
   },
   "file_extension": ".py",
   "mimetype": "text/x-python",
   "name": "python",
   "nbconvert_exporter": "python",
   "pygments_lexer": "ipython3",
   "version": "3.7.10"
  }
 },
 "nbformat": 4,
 "nbformat_minor": 1
}
