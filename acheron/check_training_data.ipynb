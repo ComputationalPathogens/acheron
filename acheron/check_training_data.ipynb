{
 "cells": [
  {
   "cell_type": "code",
   "execution_count": 1,
   "metadata": {
    "collapsed": true,
    "execution": {
     "iopub.execute_input": "2023-03-31T17:46:32.730605Z",
     "iopub.status.busy": "2023-03-31T17:46:32.727860Z",
     "iopub.status.idle": "2023-03-31T17:46:33.859495Z",
     "shell.execute_reply": "2023-03-31T17:46:33.860721Z"
    }
   },
   "outputs": [],
   "source": [
    "import pandas as pd\n",
    "import pyarrow.parquet as pq\n",
    "import pyarrow as pa\n",
    "import numpy as np\n",
    "from sklearn.model_selection import (\n",
    "    GridSearchCV,\n",
    "    RandomizedSearchCV,\n",
    "    cross_val_score,\n",
    "    cross_validate,\n",
    "    train_test_split,\n",
    ")\n",
    "from xgboost import XGBClassifier"
   ]
  },
  {
   "cell_type": "code",
   "execution_count": 2,
   "metadata": {
    "collapsed": false,
    "execution": {
     "iopub.execute_input": "2023-03-31T17:46:33.868961Z",
     "iopub.status.busy": "2023-03-31T17:46:33.865857Z",
     "iopub.status.idle": "2023-03-31T17:46:33.989891Z",
     "shell.execute_reply": "2023-03-31T17:46:33.990349Z"
    }
   },
   "outputs": [],
   "source": [
    "df = pd.read_parquet('final_df_final.parquet')"
   ]
  },
  {
   "cell_type": "code",
   "execution_count": 3,
   "metadata": {
    "collapsed": false,
    "execution": {
     "iopub.execute_input": "2023-03-31T17:46:33.997500Z",
     "iopub.status.busy": "2023-03-31T17:46:33.996600Z",
     "iopub.status.idle": "2023-03-31T17:46:34.038232Z",
     "shell.execute_reply": "2023-03-31T17:46:34.038693Z"
    }
   },
   "outputs": [
    {
     "data": {
      "text/html": [
       "<div>\n",
       "<style scoped>\n",
       "    .dataframe tbody tr th:only-of-type {\n",
       "        vertical-align: middle;\n",
       "    }\n",
       "\n",
       "    .dataframe tbody tr th {\n",
       "        vertical-align: top;\n",
       "    }\n",
       "\n",
       "    .dataframe thead th {\n",
       "        text-align: right;\n",
       "    }\n",
       "</style>\n",
       "<table border=\"1\" class=\"dataframe\">\n",
       "  <thead>\n",
       "    <tr style=\"text-align: right;\">\n",
       "      <th></th>\n",
       "      <th>0</th>\n",
       "      <th>1</th>\n",
       "    </tr>\n",
       "  </thead>\n",
       "  <tbody>\n",
       "    <tr>\n",
       "      <th>0</th>\n",
       "      <td>AAAAAAAAAAAAAAAAAAAAAAAAA</td>\n",
       "      <td>AAAAAAAAAAAAAAAAAAAAAAAAA</td>\n",
       "    </tr>\n",
       "    <tr>\n",
       "      <th>1</th>\n",
       "      <td>TTTTTTTTTTTTTTTTTTTTTTTTT</td>\n",
       "      <td>AAAAAAAAAAAAAAAAAAAAAAAAA</td>\n",
       "    </tr>\n",
       "    <tr>\n",
       "      <th>2</th>\n",
       "      <td>CCGGCGCATGGGCCGGGCTTTTCTC</td>\n",
       "      <td>CCGGCGCATGGGCCGGGCTTTTCTC</td>\n",
       "    </tr>\n",
       "    <tr>\n",
       "      <th>3</th>\n",
       "      <td>GAGAAAAGCCCGGCCCATGCGCCGG</td>\n",
       "      <td>CCGGCGCATGGGCCGGGCTTTTCTC</td>\n",
       "    </tr>\n",
       "  </tbody>\n",
       "</table>\n",
       "</div>"
      ],
      "text/plain": [
       "                           0                          1\n",
       "0  AAAAAAAAAAAAAAAAAAAAAAAAA  AAAAAAAAAAAAAAAAAAAAAAAAA\n",
       "1  TTTTTTTTTTTTTTTTTTTTTTTTT  AAAAAAAAAAAAAAAAAAAAAAAAA\n",
       "2  CCGGCGCATGGGCCGGGCTTTTCTC  CCGGCGCATGGGCCGGGCTTTTCTC\n",
       "3  GAGAAAAGCCCGGCCCATGCGCCGG  CCGGCGCATGGGCCGGGCTTTTCTC"
      ]
     },
     "execution_count": 3,
     "metadata": {},
     "output_type": "execute_result"
    }
   ],
   "source": [
    "df.head()"
   ]
  },
  {
   "cell_type": "code",
   "execution_count": 4,
   "metadata": {
    "collapsed": false,
    "execution": {
     "iopub.execute_input": "2023-03-31T17:46:34.043852Z",
     "iopub.status.busy": "2023-03-31T17:46:34.041575Z",
     "iopub.status.idle": "2023-03-31T17:46:34.047104Z",
     "shell.execute_reply": "2023-03-31T17:46:34.047672Z"
    }
   },
   "outputs": [
    {
     "data": {
      "text/plain": [
       "(4, 2)"
      ]
     },
     "execution_count": 4,
     "metadata": {},
     "output_type": "execute_result"
    }
   ],
   "source": [
    "np.shape(df)"
   ]
  },
  {
   "cell_type": "code",
   "execution_count": null,
   "outputs": [],
   "source": [
    "df2 = pd.read_parquet(\"final_df_species.parquet\")\n",
    "df = pd.concat([df, df2])"
   ],
   "metadata": {
    "collapsed": false
   }
  },
  {
   "cell_type": "code",
   "execution_count": null,
   "outputs": [],
   "source": [
    "df = np.transpose(df)"
   ],
   "metadata": {
    "collapsed": false
   }
  },
  {
   "cell_type": "code",
   "execution_count": null,
   "outputs": [],
   "source": [
    "train_df, test_df = train_test_split(df, test_size=0.10, random_state=123)"
   ],
   "metadata": {
    "collapsed": false
   }
  }
 ],
 "metadata": {
  "kernelspec": {
   "display_name": "Python 3",
   "language": "python",
   "name": "python3"
  },
  "language_info": {
   "codemirror_mode": {
    "name": "ipython",
    "version": 3
   },
   "file_extension": ".py",
   "mimetype": "text/x-python",
   "name": "python",
   "nbconvert_exporter": "python",
   "pygments_lexer": "ipython3",
   "version": "3.7.10"
  }
 },
 "nbformat": 4,
 "nbformat_minor": 0
}
