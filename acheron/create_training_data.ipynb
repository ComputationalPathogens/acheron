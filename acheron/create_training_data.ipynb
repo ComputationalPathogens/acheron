{
 "cells": [
  {
   "cell_type": "code",
   "execution_count": 1,
   "metadata": {},
   "outputs": [],
   "source": [
    "import pandas as pd\n",
    "import sys\n",
    "import ahocorasick\n",
    "import pathlib\n",
    "import gzip\n",
    "import pyarrow.parquet as pq\n",
    "import pyarrow as pa\n",
    "import numpy as np\n",
    "from Bio import SeqIO"
   ]
  },
  {
   "cell_type": "code",
   "execution_count": null,
   "metadata": {},
   "outputs": [],
   "source": [
    "# data = pd.read_parquet('final_df_final.parquet')\n",
    "# data.head(10)"
   ]
  },
  {
   "cell_type": "code",
   "execution_count": null,
   "metadata": {},
   "outputs": [],
   "source": [
    "# np.shape(data)"
   ]
  },
  {
   "cell_type": "code",
   "execution_count": 48,
   "metadata": {},
   "outputs": [
    {
     "name": "stdout",
     "output_type": "stream",
     "text": [
      "Reading data/GCF_900446045.1_58932_D01.genomic.fna.gz\n",
      "Reading data/GCF_005938105.1_ASM593810v1.genomic.fna.gz\n",
      "Reading data/GCF_000413955.1_Bruc_abor_biovar_1_B10-0091_V1.genomic.fna.gz\n"
     ]
    }
   ],
   "source": [
    "# length = 0\n",
    "# species_df = pd.DataFrame()\n",
    "#\n",
    "# for gz_file in pathlib.Path('data').glob('*.gz'):\n",
    "#     print(\"Reading {}\".format(gz_file))\n",
    "#     length += 1\n",
    "#     with gzip.open(gz_file, 'rt') as fasta:\n",
    "#         for data in SeqIO.parse(fasta, 'fasta'):\n",
    "#             species = ' '.join(data.description.split()[1:3])\n",
    "#             species_df.at[0, str(gz_file)[5:]] = species\n"
   ]
  },
  {
   "cell_type": "code",
   "execution_count": 49,
   "metadata": {},
   "outputs": [
    {
     "data": {
      "text/html": [
       "<div>\n",
       "<style scoped>\n",
       "    .dataframe tbody tr th:only-of-type {\n",
       "        vertical-align: middle;\n",
       "    }\n",
       "\n",
       "    .dataframe tbody tr th {\n",
       "        vertical-align: top;\n",
       "    }\n",
       "\n",
       "    .dataframe thead th {\n",
       "        text-align: right;\n",
       "    }\n",
       "</style>\n",
       "<table border=\"1\" class=\"dataframe\">\n",
       "  <thead>\n",
       "    <tr style=\"text-align: right;\">\n",
       "      <th></th>\n",
       "      <th>GCF_900446045.1_58932_D01.genomic.fna.gz</th>\n",
       "      <th>GCF_005938105.1_ASM593810v1.genomic.fna.gz</th>\n",
       "      <th>GCF_000413955.1_Bruc_abor_biovar_1_B10-0091_V1.genomic.fna.gz</th>\n",
       "    </tr>\n",
       "  </thead>\n",
       "  <tbody>\n",
       "    <tr>\n",
       "      <th>0</th>\n",
       "      <td>Brucella abortus</td>\n",
       "      <td>Brucella haematophila</td>\n",
       "      <td>Brucella abortus</td>\n",
       "    </tr>\n",
       "  </tbody>\n",
       "</table>\n",
       "</div>"
      ],
      "text/plain": [
       "  GCF_900446045.1_58932_D01.genomic.fna.gz  \\\n",
       "0                         Brucella abortus   \n",
       "\n",
       "  GCF_005938105.1_ASM593810v1.genomic.fna.gz  \\\n",
       "0                      Brucella haematophila   \n",
       "\n",
       "  GCF_000413955.1_Bruc_abor_biovar_1_B10-0091_V1.genomic.fna.gz  \n",
       "0                                   Brucella abortus             "
      ]
     },
     "execution_count": 49,
     "metadata": {},
     "output_type": "execute_result"
    }
   ],
   "source": [
    "# species_df"
   ]
  },
  {
   "cell_type": "code",
   "execution_count": 18,
   "metadata": {},
   "outputs": [
    {
     "name": "stdout",
     "output_type": "stream",
     "text": [
      "data/GCF_900446045.1_58932_D01.genomic.fna.gz\n",
      "data/GCF_005938105.1_ASM593810v1.genomic.fna.gz\n",
      "data/GCF_000413955.1_Bruc_abor_biovar_1_B10-0091_V1.genomic.fna.gz\n"
     ]
    }
   ],
   "source": [
    "species_df = pd.read_parquet('final_df_species.parquet')"
   ]
  },
  {
   "cell_type": "code",
   "execution_count": null,
   "metadata": {},
   "outputs": [],
   "source": [
    "# table = pa.Table.from_pandas(species_df)\n",
    "# pq.write_table(table, 'final_df_species.parquet')"
   ]
  },
  {
   "cell_type": "code",
   "execution_count": null,
   "metadata": {},
   "outputs": [],
   "source": [
    "species_df"
   ]
  },
  {
   "cell_type": "code",
   "execution_count": null,
   "metadata": {},
   "outputs": [],
   "source": [
    "final_df = pd.read_parquet('final_df_final.parquet')\n",
    "col_names = final_df.columns.values.tolist()\n",
    "col_names"
   ]
  },
  {
   "cell_type": "code",
   "execution_count": null,
   "metadata": {},
   "outputs": [],
   "source": [
    "for i in range(len(col_names)):\n",
    "    col_names[i] = col_names[i][48:]\n",
    "final_df.set_axis(col_names, axis=1, inplace=True)"
   ]
  },
  {
   "cell_type": "code",
   "execution_count": null,
   "metadata": {},
   "outputs": [],
   "source": [
    "final_df"
   ]
  },
  {
   "cell_type": "code",
   "execution_count": null,
   "metadata": {},
   "outputs": [],
   "source": [
    "training_df = pd.concat([species_df,final_df])\n",
    "training_df"
   ]
  },
  {
   "cell_type": "code",
   "execution_count": null,
   "metadata": {},
   "outputs": [],
   "source": [
    "np.shape(training_df)"
   ]
  },
  {
   "cell_type": "code",
   "execution_count": null,
   "metadata": {},
   "outputs": [],
   "source": [
    "training_df_final = training_df.T\n",
    "training_df_final"
   ]
  },
  {
   "cell_type": "code",
   "execution_count": null,
   "metadata": {},
   "outputs": [],
   "source": [
    "np.shape(training_df_final)"
   ]
  },
  {
   "cell_type": "code",
   "execution_count": null,
   "metadata": {},
   "outputs": [],
   "source": [
    "table = pa.Table.from_pandas(training_df_final)\n",
    "pq.write_table(table, 'final_df_species.parquet')"
   ]
  },
  {
   "cell_type": "code",
   "execution_count": null,
   "metadata": {},
   "outputs": [],
   "source": []
  }
 ],
 "metadata": {
  "kernelspec": {
   "display_name": "Python 3 (ipykernel)",
   "language": "python",
   "name": "python3"
  },
  "language_info": {
   "codemirror_mode": {
    "name": "ipython",
    "version": 3
   },
   "file_extension": ".py",
   "mimetype": "text/x-python",
   "name": "python",
   "nbconvert_exporter": "python",
   "pygments_lexer": "ipython3",
   "version": "3.7.10"
  }
 },
 "nbformat": 4,
 "nbformat_minor": 1
}
