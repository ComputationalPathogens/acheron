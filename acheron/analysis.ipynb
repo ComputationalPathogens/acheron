{
 "cells": [
  {
   "cell_type": "markdown",
   "metadata": {},
   "source": [
    "The scipt file for the most parts of whole work flow, since Jellyfish kmer counting part was done in terminal, the code was included in this file. All sbatch commands for submitting a jupyter notebook files are also included at the top of file, and the one with usr/bin/time provides additional information of job running time and max RAM usage of the job."
   ]
  },
  {
   "cell_type": "code",
   "execution_count": 2,
   "metadata": {
    "pycharm": {
     "is_executing": true
    }
   },
   "outputs": [],
   "source": [
    "import subprocess\n",
    "import sys\n",
    "import urllib.request\n",
    "import gzip\n",
    "from Bio import SeqIO\n",
    "import os\n",
    "import glob\n",
    "import numpy as np\n",
    "from os import listdir\n",
    "import pandas as pd\n",
    "import jellyfish\n",
    "import shlex\n",
    "import mmh3"
   ]
  },
  {
   "cell_type": "markdown",
   "metadata": {},
   "source": []
  },
  {
   "cell_type": "code",
   "execution_count": 3,
   "metadata": {},
   "outputs": [
    {
     "name": "stdout",
     "output_type": "stream",
     "text": [
      "1\n"
     ]
    }
   ],
   "source": [
    "print('1')"
   ]
  },
  {
   "cell_type": "markdown",
   "metadata": {},
   "source": [
    "# sbatch commands"
   ]
  },
  {
   "cell_type": "markdown",
   "metadata": {},
   "source": [
    "sbatch -c 1 --mem 120G --partition low --nodelist=node03 --wrap=\"/usr/bin/\n",
    "time -v /hobbitholes/waymoot/hchen/micromamba/envs/ach.0.8/bin/python /hobbitholes/waymoot/hchen/acheron/acheron/\n",
    "needle_in_the_hay.py /hobbitholes/waymoot/hchen/acheron/acheron/rev_comp_dictionary.parquet /hobbitholes/waymoot/\n",
    "hchen/acheron/acheron/data /hobbitholes/waymoot/hchen/acheron/acheron/final_df_final.parquet\""
   ]
  },
  {
   "cell_type": "markdown",
   "metadata": {},
   "source": [
    "sbatch -c 1 --mem 50G --wrap=\"jupyter nbconvert --execute --to notebook --inplace a_xgb.ipynb\""
   ]
  },
  {
   "cell_type": "markdown",
   "metadata": {},
   "source": [
    "sbatch -c 1 --mem 50G --wrap=\"/usr/bin/time -v /hobbitholes/waymoot/hchen/micromamba/envs/ach.0.8/bin/jupyter-nbconvert --execute --to notebook --inplace /hobbitholes/waymoot/hchen/acheron/acheron/a_xgb.ipynb\""
   ]
  },
  {
   "cell_type": "code",
   "execution_count": 112,
   "metadata": {},
   "outputs": [
    {
     "name": "stdout",
     "output_type": "stream",
     "text": [
      "a_ANOVA_data.py                              slurm-2022.out\r\n",
      "a_ANOVA.ipynb                                slurm-2023.out\r\n",
      "a_ANOVA_one_time.ipynb                       slurm-2024.out\r\n",
      "abricate.py                                  slurm-2026.out\r\n",
      "acheron_dl.py                                slurm-2027.out\r\n",
      "add_reverse_complement.ipynb                 slurm-2033.out\r\n",
      "add_reverse_complement.nbconvert.ipynb       slurm-2034.out\r\n",
      "add_reverse_complement.parquet               slurm-2035.out\r\n",
      "add_reverse_complement.py                    slurm-2036.out\r\n",
      "aho-corasick_search.ipynb                    slurm-2040.out\r\n",
      "analysis.ipynb                               slurm-2041.out\r\n",
      "annotate.py                                  slurm-2042.out\r\n",
      "ANOVA_before_transpose.csv                   slurm-2043.out\r\n",
      "ANOVA_col_file.csv                           slurm-2044.out\r\n",
      "ANOVA.csv                                    slurm-2045.out\r\n",
      "a_SVC.ipynb                                  slurm-2046.out\r\n",
      "a_xgb_hyper.ipynb                            slurm-2047.out\r\n",
      "a_xgb.ipynb                                  slurm-2048.out\r\n",
      "a_xgb.py                                     slurm-2049.out\r\n",
      "best-kmers.ipynb                             slurm-2050.out\r\n",
      "best_kmers.jf                                slurm-2053.out\r\n",
      "brucella_species_metadata.csv                slurm-2054.out\r\n",
      "\u001B[0m\u001B[01;34mcache\u001B[0m/                                       slurm-2055.out\r\n",
      "\u001B[01;34mcatboost_info\u001B[0m/                               slurm-2056.out\r\n",
      "check_training_data.ipynb                    slurm-2057.out\r\n",
      "check_training_data.py                       slurm-2058.out\r\n",
      "create_ANOVA_data.ipynb                      slurm-2059.out\r\n",
      "create_training_data.ipynb                   slurm-2060.out\r\n",
      "create_training_data.py                      slurm-2062.out\r\n",
      "create_training_data_transpose.ipynb         slurm-2083.out\r\n",
      "create_training_data_transpose.py            slurm-2085.out\r\n",
      "create_training_data_transp.py               slurm-2087.out\r\n",
      "\u001B[01;34mdata\u001B[0m/                                        slurm-2089.out\r\n",
      "download.py                                  slurm-2096.out\r\n",
      "etools.py                                    slurm-2149.out\r\n",
      "etools_test.txt                              slurm-2150.out\r\n",
      "etools_test.txt.save                         slurm-2151.out\r\n",
      "experimental.py                              slurm-2152.out\r\n",
      "figures.py                                   slurm-2153.out\r\n",
      "final_concat_data.csv                        slurm-2154.out\r\n",
      "final_df_final.parquet                       slurm-2155.out\r\n",
      "final_df_species.parquet                     slurm-2156.out\r\n",
      "final_df_transposed.csv                      slurm-2157.out\r\n",
      "final_df_transposed_test.csv                 slurm-2158.out\r\n",
      "GCF_000022745.1_ASM2274v1_genomic.fna.gz     slurm-2161.out\r\n",
      "GCF_026256505.1_ASM2625650v1.genomic.fna.gz  slurm-2164.out\r\n",
      "GCF_026256565.1_ASM2625656v1.genomic.fna.gz  slurm-2175.out\r\n",
      "GCF_947242705.1_B47.genomic.fna.gz           slurm-2176.out\r\n",
      "genes.py                                     slurm-2178.out\r\n",
      "\u001B[01;34mhelpers\u001B[0m/                                     slurm-2179.out\r\n",
      "__init__.py                                  slurm-2180.out\r\n",
      "kmer.py                                      slurm-2181.out\r\n",
      "label.py                                     slurm-2182.out\r\n",
      "__main__.py                                  slurm-2183.out\r\n",
      "model.py                                     slurm-2184.out\r\n",
      "needle_in_the_hay.py                         slurm-2185.out\r\n",
      "no_species.csv                               slurm-2186.out\r\n",
      "omnilog.py                                   slurm-2187.out\r\n",
      "pq_automaton_practice.ipynb                  slurm-2188.out\r\n",
      "predict.py                                   slurm-2189.out\r\n",
      "\u001B[01;34m__pycache__\u001B[0m/                                 slurm-2190.out\r\n",
      "pyre.py                                      slurm-2191.out\r\n",
      "result.py                                    slurm-2192.out\r\n",
      "rev_comp_dictionary.parquet                  slurm-2193.out\r\n",
      "slurm-1748.out                               slurm-2194.out\r\n",
      "slurm-1749.out                               slurm-2195.out\r\n",
      "slurm-1750.out                               slurm-2196.out\r\n",
      "slurm-1751.out                               slurm-2197.out\r\n",
      "slurm-1753.out                               slurm-2198.out\r\n",
      "slurm-1755.out                               slurm-2200.out\r\n",
      "slurm-1756.out                               slurm-2201.out\r\n",
      "slurm-1757.out                               slurm-2203.out\r\n",
      "slurm-1758.out                               slurm-2205.out\r\n",
      "slurm-1759.out                               slurm-2206.out\r\n",
      "slurm-1761.out                               slurm-2207.out\r\n",
      "slurm-1762.out                               slurm-2209.out\r\n",
      "slurm-1763.out                               slurm-2210.out\r\n",
      "slurm-1764.out                               slurm-2211.out\r\n",
      "slurm-1765.out                               slurm-2216.out\r\n",
      "slurm-1783.out                               slurm-2217.out\r\n",
      "slurm-1784.out                               slurm-2218.out\r\n",
      "slurm-1785.out                               slurm-2219.out\r\n",
      "slurm-1786.out                               slurm-2270.out\r\n",
      "slurm-1787.out                               slurm-2275.out\r\n",
      "slurm-1788.out                               slurm-2311.out\r\n",
      "slurm-1789.out                               slurm-2312.out\r\n",
      "slurm-1790.out                               slurm-2313.out\r\n",
      "slurm-1791.out                               slurm-2314.out\r\n",
      "slurm-1792.out                               slurm-2335.out\r\n",
      "slurm-1793.out                               slurm-2338.out\r\n",
      "slurm-1798.out                               slurm-2339.out\r\n",
      "slurm-1801.out                               slurm-2347.out\r\n",
      "slurm-1802.out                               slurm-2420.out\r\n",
      "slurm-1803.out                               slurm-2421.out\r\n",
      "slurm-1805.out                               slurm-2422.out\r\n",
      "slurm-1808.out                               slurm-2423.out\r\n",
      "slurm-1809.out                               slurm-2424.out\r\n",
      "slurm-1823.out                               slurm-2425.out\r\n",
      "slurm-1855.out                               slurm-2426.out\r\n",
      "slurm-1856.out                               slurm-2430.out\r\n",
      "slurm-1857.out                               slurm-2438.out\r\n",
      "slurm-1858.out                               slurm-2464.out\r\n",
      "slurm-1859.out                               slurm-2465.out\r\n",
      "slurm-1860.out                               slurm-2466.out\r\n",
      "slurm-1861.out                               slurm-2467.out\r\n",
      "slurm-1865.out                               slurm-2468.out\r\n",
      "slurm-1868.out                               slurm-2469.out\r\n",
      "slurm-1870.out                               slurm-2471.out\r\n",
      "slurm-1875.out                               slurm-2472.out\r\n",
      "slurm-1876.out                               slurm-2473.out\r\n",
      "slurm-1880.out                               slurm-2477.out\r\n",
      "slurm-1881.out                               slurm-2478.out\r\n",
      "slurm-1882.out                               slurm-2479.out\r\n",
      "slurm-1886.out                               slurm-2480.out\r\n",
      "slurm-1887.out                               slurm-2491.out\r\n",
      "slurm-1891.out                               slurm-2492.out\r\n",
      "slurm-1892.out                               slurm-2493.out\r\n",
      "slurm-1909.out                               slurm-2494.out\r\n",
      "slurm-1929.out                               slurm-2495.out\r\n",
      "slurm-1930.out                               slurm-2497.out\r\n",
      "slurm-1931.out                               slurm-2504.out\r\n",
      "slurm-1932.out                               slurm-2505.out\r\n",
      "slurm-1933.out                               slurm-2506.out\r\n",
      "slurm-1934.out                               slurm-2507.out\r\n",
      "slurm-1940.out                               slurm-2519.out\r\n",
      "slurm-1941.out                               slurm-2522.out\r\n",
      "slurm-1942.out                               slurm-2593.out\r\n",
      "slurm-1943.out                               slurm-2594.out\r\n",
      "slurm-1944.out                               slurm-2621.out\r\n",
      "slurm-1945.out                               slurm-2624.out\r\n",
      "slurm-1946.out                               slurm-2637.out\r\n",
      "slurm-1947.out                               slurm-2638.out\r\n",
      "slurm-1948.out                               slurm-2639.out\r\n",
      "slurm-1949.out                               slurm-2640.out\r\n",
      "slurm-1950.out                               slurm-2641.out\r\n",
      "slurm-1951.out                               slurm-2642.out\r\n",
      "slurm-1952.out                               slurm-2643.out\r\n",
      "slurm-1953.out                               slurm-2644.out\r\n",
      "slurm-1954.out                               slurm-2645.out\r\n",
      "slurm-1955.out                               slurm-2646.out\r\n",
      "slurm-1956.out                               slurm-2647.out\r\n",
      "slurm-1957.out                               slurm-2648.out\r\n",
      "slurm-1958.out                               slurm-2649.out\r\n",
      "slurm-1959.out                               slurm-2650.out\r\n",
      "slurm-1960.out                               slurm-2651.out\r\n",
      "slurm-1961.out                               slurm-2652.out\r\n",
      "slurm-1962.out                               slurm-2654.out\r\n",
      "slurm-1963.out                               slurm-2655.out\r\n",
      "slurm-1964.out                               slurm-2656.out\r\n",
      "slurm-1965.out                               slurm-2657.out\r\n",
      "slurm-1966.out                               slurm-2658.out\r\n",
      "slurm-1967.out                               slurm-2659.out\r\n",
      "slurm-1968.out                               slurm-2660.out\r\n",
      "slurm-1969.out                               slurm-2661.out\r\n",
      "slurm-1970.out                               slurm-2662.out\r\n",
      "slurm-1971.out                               slurm-2663.out\r\n",
      "slurm-1972.out                               slurm-2664.out\r\n",
      "slurm-1973.out                               slurm-2665.out\r\n",
      "slurm-1974.out                               slurm-2666.out\r\n",
      "slurm-1992.out                               slurm-2667.out\r\n",
      "slurm-1993.out                               slurm-2668.out\r\n",
      "slurm-1994.out                               slurm-2669.out\r\n",
      "slurm-1995.out                               slurm-2670.out\r\n",
      "slurm-1996.out                               slurm-2671.out\r\n",
      "slurm-1997.out                               slurm-2672.out\r\n",
      "slurm-1998.out                               slurm-2673.out\r\n",
      "slurm-1999.out                               slurm-2674.out\r\n",
      "slurm-2000.out                               slurm-2675.out\r\n",
      "slurm-2001.out                               slurm-2676.out\r\n",
      "slurm-2002.out                               slurm-2677.out\r\n",
      "slurm-2003.out                               slurm-2678.out\r\n",
      "slurm-2004.out                               slurm-2679.out\r\n",
      "slurm-2005.out                               slurm-2680.out\r\n",
      "slurm-2006.out                               slurm-2681.out\r\n",
      "slurm-2007.out                               slurm-2682.out\r\n",
      "slurm-2008.out                               slurm-2683.out\r\n",
      "slurm-2009.out                               slurm-2684.out\r\n",
      "slurm-2010.out                               slurm-2685.out\r\n",
      "slurm-2011.out                               slurm-2686.out\r\n",
      "slurm-2012.out                               slurm-2687.out\r\n",
      "slurm-2013.out                               slurm-2688.out\r\n",
      "slurm-2014.out                               slurm-2689.out\r\n",
      "slurm-2015.out                               slurm-2690.out\r\n",
      "slurm-2016.out                               slurm-2691.out\r\n",
      "slurm-2017.out                               summary.py\r\n",
      "slurm-2018.out                               temp_df.parquet\r\n",
      "slurm-2019.out                               testfile.txt\r\n",
      "slurm-2020.out                               test_train_xgb.ipynb\r\n",
      "slurm-2021.out                               \u001B[01;34mworkflows\u001B[0m/\r\n"
     ]
    }
   ],
   "source": [
    "ls"
   ]
  },
  {
   "cell_type": "markdown",
   "metadata": {},
   "source": [
    "# jellyfish"
   ]
  },
  {
   "cell_type": "markdown",
   "metadata": {},
   "source": [
    "## get name of all gzip files obtained by etools first(under /data), than put all of then using <(zcat)"
   ]
  },
  {
   "cell_type": "code",
   "execution_count": 113,
   "metadata": {},
   "outputs": [
    {
     "ename": "IndentationError",
     "evalue": "unexpected indent (2407101841.py, line 2)",
     "output_type": "error",
     "traceback": [
      "\u001B[0;36m  File \u001B[0;32m\"/tmp/ipykernel_280945/2407101841.py\"\u001B[0;36m, line \u001B[0;32m2\u001B[0m\n\u001B[0;31m    yes = \"data/\"  + str(file)\u001B[0m\n\u001B[0m    ^\u001B[0m\n\u001B[0;31mIndentationError\u001B[0m\u001B[0;31m:\u001B[0m unexpected indent\n"
     ]
    }
   ],
   "source": [
    "\n",
    "# all_files = listdir(\"data\")\n",
    "#     yes = \"data/\"  + str(file)\n",
    "#     all_file_directories.append(yes)"
   ]
  },
  {
   "cell_type": "code",
   "execution_count": null,
   "metadata": {},
   "outputs": [],
   "source": [
    "# all_file_directories[1]"
   ]
  },
  {
   "cell_type": "code",
   "execution_count": null,
   "metadata": {},
   "outputs": [],
   "source": [
    "all_files_data = listdir\n",
    "all_file_names = []\n",
    "for file in all_files:\n",
    "    all_file_names.append(file)\n",
    "zcat_all_files = ''\n",
    "for file_name in all_file_names:\n",
    "    zcat_all_files += '<(zcat ' + file_name + ') '\n",
    "print(zcat_all_files)"
   ]
  },
  {
   "cell_type": "code",
   "execution_count": null,
   "metadata": {},
   "outputs": [],
   "source": [
    "jellyfish count -m 25 -s 100M -t 10 -C <(zcat GCF_900446045.1_58932_D01.genomic.fna.gz) <(zcat GCF_005938105.1_ASM593810v1.genomic.fna.gz) <(zcat GCF_000413955.1_Bruc_abor_biovar_1_B10-0091_V1.genomic.fna.gz) <(zcat GCF_022024335.1_ASM2202433v1.genomic.fna.gz) <(zcat GCF_002191835.1_ASM219183v1.genomic.fna.gz) <(zcat GCF_900491905.1_96-9626.genomic.fna.gz) <(zcat GCF_001702305.1_ASM170230v1.genomic.fna.gz) <(zcat GCF_947242725.1_B133.genomic.fna.gz) <(zcat GCF_009733255.1_Brucella_abortus_381.genomic.fna.gz) <(zcat GCF_001402105.1_ASM140210v1.genomic.fna.gz) <(zcat GCF_008932425.1_ASM893242v1.genomic.fna.gz) <(zcat GCF_000366445.1_Bruc_abor_88_226_V1.genomic.fna.gz) <(zcat GCF_900092405.1_10RB9215v1.genomic.fna.gz) <(zcat GCF_006507455.1_ASM650745v1.genomic.fna.gz) <(zcat GCF_000740295.1_ASM74029v1.genomic.fna.gz) <(zcat GCF_003937445.1_ASM393744v1.genomic.fna.gz) <(zcat GCF_000414015.1_Bruc_abor_biovar_1_82-2330_V1.genomic.fna.gz) <(zcat GCF_000370025.1_Bruc_abor_63_144_V1.genomic.fna.gz) <(zcat GCF_000413655.1_Bruc_abor_biovar_1_90-0742_V1.genomic.fna.gz) <(zcat GCF_947242185.1_B70.genomic.fna.gz) <(zcat GCF_026014005.1_ASM2601400v1.genomic.fna.gz) <(zcat GCF_947242325.1_B10.genomic.fna.gz) <(zcat GCF_008932705.1_ASM893270v1.genomic.fna.gz) <(zcat GCF_000399725.1_Bruc_abor_I103_UK3_01_V1.genomic.fna.gz) <(zcat GCF_000740175.1_ASM74017v1.genomic.fna.gz) <(zcat GCF_904066055.1_WS-Be-9.genomic.fna.gz) <(zcat GCF_006506215.1_ASM650621v1.genomic.fna.gz) <(zcat GCF_000367305.1_Bruc_cani_F7_05A_V1.genomic.fna.gz) <(zcat GCF_006507585.1_ASM650758v1.genomic.fna.gz) <(zcat GCF_000371225.1_Bruc_suis_F7_06-1_V1.genomic.fna.gz) <(zcat GCF_947242455.1_B18.genomic.fna.gz) <(zcat GCF_900454225.1_34576_H01.genomic.fna.gz) <(zcat GCF_947242495.1_B112.genomic.fna.gz) <(zcat GCF_001937895.1_ASM193789v1.genomic.fna.gz) <(zcat GCF_900446085.1_59302_C02.genomic.fna.gz) <(zcat GCF_000740415.1_ASM74041v1.genomic.fna.gz) <(zcat GCF_947242245.1_B143.genomic.fna.gz) <(zcat GCF_001856365.1_ASM185636v1.genomic.fna.gz) <(zcat GCF_006507245.1_ASM650724v1.genomic.fna.gz) <(zcat GCF_947242395.1_B120.genomic.fna.gz) <(zcat GCF_017177515.1_ASM1717751v1.genomic.fna.gz) <(zcat GCF_000365905.1_Bruc_ovis_IntaBari-2010-47-871_V1.genomic.fna.gz) <(zcat GCF_900236535.1_Bru_genome4.genomic.fna.gz) <(zcat GCF_002245235.1_ASM224523v1.genomic.fna.gz) <(zcat GCF_000413695.1_Bruc_abor_biovar_2_90-0737_V1.genomic.fna.gz) <(zcat GCF_900446075.1_59071_A01.genomic.fna.gz) <(zcat GCF_000685375.1_BMIND1_v1.genomic.fna.gz) <(zcat GCF_947241785.1_B146.genomic.fna.gz) <(zcat GCF_017177475.1_ASM1717747v1.genomic.fna.gz) <(zcat GCF_947241885.1_B140.genomic.fna.gz) <(zcat GCF_947242625.1_B128.genomic.fna.gz) <(zcat GCF_024720755.1_ASM2472075v1.genomic.fna.gz) <(zcat GCF_900236495.1_Bru_genome46.genomic.fna.gz) <(zcat GCF_023651275.1_ASM2365127v1.genomic.fna.gz) <(zcat GCF_001702335.1_ASM170233v1.genomic.fna.gz) <(zcat GCF_000236255.1_ASM23625v1.genomic.fna.gz) <(zcat GCF_947242425.1_B114.genomic.fna.gz) <(zcat GCF_002943495.1_ASM294349v1.genomic.fna.gz) <(zcat GCF_000366905.1_Bruc_meli_CNGB_290_V1.genomic.fna.gz) <(zcat GCF_000473805.1_Brucella82.genomic.fna.gz) <(zcat GCF_000413815.1_Bruc_abor_biovar_1_B10-0018_V1.genomic.fna.gz) <(zcat GCF_000740395.1_ASM74039v1.genomic.fna.gz) <(zcat GCF_000365985.1_Bruc_ovis_IntaBari-2008-114-542_V1.genomic.fna.gz) <(zcat GCF_000371045.1_Bruc_sp_UK1_97_V1.genomic.fna.gz) <(zcat GCF_002245225.1_ASM224522v1.genomic.fna.gz) <(zcat GCF_000371305.1_Bruc_suis_F8_06-3_V1.genomic.fna.gz) <(zcat GCF_000158995.1_ASM15899v1.genomic.fna.gz) <(zcat GCF_026413105.1_ASM2641310v1.genomic.fna.gz) <(zcat GCF_001511795.1_BVF965.genomic.fna.gz) <(zcat GCF_006376675.1_ASM637667v1.genomic.fna.gz) <(zcat GCF_947241895.1_B50.genomic.fna.gz) <(zcat GCF_000370065.1_Bruc_abor_63_294_V1.genomic.fna.gz) <(zcat GCF_000221005.1_ASM22100v1.genomic.fna.gz) <(zcat GCF_006506485.1_ASM650648v1.genomic.fna.gz) <(zcat GCF_006507765.1_ASM650776v1.genomic.fna.gz) <(zcat GCF_006506225.1_ASM650622v1.genomic.fna.gz) <(zcat GCF_900236395.1_Bru_genome41.genomic.fna.gz) <(zcat GCF_947242615.1_B85.genomic.fna.gz) <(zcat GCF_000370665.1_Bruc_meli_F10_06-16_V1.genomic.fna.gz) <(zcat GCF_003194855.1_ASM319485v1.genomic.fna.gz) <(zcat GCF_000366725.1_Bruc_abor_NI622_V1.genomic.fna.gz) <(zcat GCF_000740435.1_ASM74043v1.genomic.fna.gz) <(zcat GCF_006506295.1_ASM650629v1.genomic.fna.gz) <(zcat GCF_023796775.1_ASM2379677v1.genomic.fna.gz) <(zcat GCF_006376685.1_ASM637668v1.genomic.fna.gz) <(zcat GCF_000472165.1_229E.genomic.fna.gz) <(zcat GCF_023651575.1_ASM2365157v1.genomic.fna.gz) <(zcat GCF_002191395.1_ASM219139v1.genomic.fna.gz) <(zcat GCF_001038665.1_ASM103866v1.genomic.fna.gz) <(zcat GCF_004684165.1_ASM468416v1.genomic.fna.gz) <(zcat GCF_023651015.1_ASM2365101v1.genomic.fna.gz) <(zcat GCF_000366965.1_Bruc_meli_F3_02_V1.genomic.fna.gz) <(zcat GCF_000367005.1_Bruc_meli_F6_05-6_V1.genomic.fna.gz) <(zcat GCF_017177325.1_ASM1717732v1.genomic.fna.gz) <(zcat GCF_021083425.1_ASM2108342v1.genomic.fna.gz) <(zcat GCF_900446065.1_58932_F01.genomic.fna.gz) <(zcat GCF_006517325.1_ASM651732v1.genomic.fna.gz) <(zcat GCF_000371245.1_Bruc_suis_F7_06-2_V1.genomic.fna.gz) <(zcat GCF_000157795.1_ASM15779v1.genomic.fna.gz) <(zcat GCF_003194795.1_ASM319479v1.genomic.fna.gz) <(zcat GCF_003989875.1_ASM398987v1.genomic.fna.gz) <(zcat GCF_028129075.1_ASM2812907v1.genomic.fna.gz) <(zcat GCF_002245205.1_ASM224520v1.genomic.fna.gz) <(zcat GCF_900446095.1_59071_B01.genomic.fna.gz) <(zcat GCF_947242205.1_B144.genomic.fna.gz) <(zcat GCF_008761575.1_ASM876157v1.genomic.fna.gz) <(zcat GCF_000742005.1_ASM74200v1.genomic.fna.gz) <(zcat GCF_017177475.2_Bm-511.genomic.fna.gz) <(zcat GCF_947242525.1_B57.genomic.fna.gz) <(zcat GCF_947242025.1_B130.genomic.fna.gz) <(zcat GCF_006507565.1_ASM650756v1.genomic.fna.gz) <(zcat GCF_001996385.1_ASM199638v1.genomic.fna.gz) <(zcat GCF_904066065.1_WS-Be-70.genomic.fna.gz) <(zcat GCF_009361155.1_ASM936115v1.genomic.fna.gz) <(zcat GCF_022426845.1_ASM2242684v1.genomic.fna.gz) <(zcat GCF_017177425.1_ASM1717742v1.genomic.fna.gz) <(zcat GCF_006506465.1_ASM650646v1.genomic.fna.gz) <(zcat GCF_000370645.1_Bruc_meli_F1_06_B10_V1.genomic.fna.gz) <(zcat GCF_006506725.1_ASM650672v1.genomic.fna.gz) <(zcat GCF_023651415.1_ASM2365141v1.genomic.fna.gz) <(zcat GCF_000480275.1_Bruc_cani_96-7258_V1.genomic.fna.gz) <(zcat GCF_023651555.1_ASM2365155v1.genomic.fna.gz) <(zcat GCF_900095155.1_BR141012304v1.genomic.fna.gz) <(zcat GCF_024127925.1_ASM2412792v1.genomic.fna.gz) <(zcat GCF_000366405.1_Bruc_abor_863_67_V1.genomic.fna.gz) <(zcat GCF_000370205.1_Bruc_abor_78_32_V1.genomic.fna.gz) <(zcat GCF_900236355.1_Bru_genome20.genomic.fna.gz) <(zcat GCF_003994155.1_ASM399415v1.genomic.fna.gz) <(zcat GCF_009601725.1_ASM960172v1.genomic.fna.gz) <(zcat GCF_947242335.1_B115.genomic.fna.gz) <(zcat GCF_016484075.1_ASM1648407v1.genomic.fna.gz) <(zcat GCF_000370385.1_Bruc_abor_F10_05-11_V1.genomic.fna.gz) <(zcat GCF_947242795.1_B137.genomic.fna.gz) <(zcat GCF_000157735.1_ASM15773v1.genomic.fna.gz) <(zcat GCF_000366945.1_Bruc_meli_F2_06-6_V1.genomic.fna.gz) <(zcat GCF_000366385.1_Bruc_abor_85_140_V1.genomic.fna.gz) <(zcat GCF_000370465.1_Bruc_abor_F6_05-4_V1.genomic.fna.gz) <(zcat GCF_000591005.1_548.genomic.fna.gz) <(zcat GCF_947242375.1_B9.genomic.fna.gz) <(zcat GCF_000878465.1_ASM87846v1.genomic.fna.gz) <(zcat GCF_947242155.1_B76.genomic.fna.gz) <(zcat GCF_002192115.1_ASM219211v1.genomic.fna.gz) <(zcat GCF_006507965.1_ASM650796v1.genomic.fna.gz) <(zcat GCF_900446015.1_58932_C01.genomic.fna.gz) <(zcat GCF_002895125.1_ASM289512v1.genomic.fna.gz) <(zcat GCF_001856215.1_ASM185621v1.genomic.fna.gz) <(zcat GCF_947242415.1_B36.genomic.fna.gz) <(zcat GCF_006506575.1_ASM650657v1.genomic.fna.gz) <(zcat GCF_001715445.1_ASM171544v1.genomic.fna.gz) <(zcat GCF_001938165.1_ASM193816v1.genomic.fna.gz) <(zcat GCF_000292005.1_ASM29200v2.genomic.fna.gz) <(zcat GCF_000413575.1_Bruc_abor_biovar_1_84-0928_V1.genomic.fna.gz) <(zcat GCF_002191595.1_ASM219159v1.genomic.fna.gz) <(zcat GCF_009823705.1_ASM982370v1.genomic.fna.gz) <(zcat GCF_001876955.1_ASM187695v1.genomic.fna.gz) <(zcat GCF_001856345.1_ASM185634v1.genomic.fna.gz) <(zcat GCF_016126135.1_ASM1612613v1.genomic.fna.gz) <(zcat GCF_014884505.1_ASM1488450v1.genomic.fna.gz) <(zcat GCF_003205535.1_ASM320553v1.genomic.fna.gz) <(zcat GCF_947242705.1_B47.genomic.fna.gz) <(zcat GCF_947242405.1_B119.genomic.fna.gz) <(zcat GCF_000292105.1_ASM29210v2.genomic.fna.gz) <(zcat GCF_947242535.1_B11.genomic.fna.gz) <(zcat GCF_008932675.1_ASM893267v1.genomic.fna.gz) <(zcat GCF_006506395.1_ASM650639v1.genomic.fna.gz) <(zcat GCF_000245855.1_Bruc_abor_bv1_NI486_V1.genomic.fna.gz) <(zcat GCF_002214285.1_ASM221428v1.genomic.fna.gz) <(zcat GCF_947242545.1_B106.genomic.fna.gz) <(zcat GCF_003989975.1_ASM398997v1.genomic.fna.gz) <(zcat GCF_000413995.1_Bruc_abor_biovar_1_87-2211_V1.genomic.fna.gz) <(zcat GCF_009797905.1_ASM979790v1.genomic.fna.gz) <(zcat GCF_002278585.1_ASM227858v1.genomic.fna.gz) <(zcat GCF_001402025.1_ASM140202v1.genomic.fna.gz) <(zcat GCF_947242595.1_B8.genomic.fna.gz) <(zcat GCF_009664915.1_ASM966491v1.genomic.fna.gz) <(zcat GCF_006506995.1_ASM650699v1.genomic.fna.gz) <(zcat GCF_002266785.1_ASM226678v1.genomic.fna.gz) <(zcat GCF_008761595.1_ASM876159v1.genomic.fna.gz) <(zcat GCF_000192725.1_ASM19272v1.genomic.fna.gz) <(zcat GCF_023651055.1_ASM2365105v1.genomic.fna.gz) <(zcat GCF_000245875.1_Bruc_abor_bv1_NI474_V1.genomic.fna.gz) <(zcat GCF_019998625.1_ASM1999862v1.genomic.fna.gz) <(zcat GCF_003989895.1_ASM398989v1.genomic.fna.gz) <(zcat GCF_006506985.1_ASM650698v1.genomic.fna.gz) <(zcat GCF_002591255.1_ASM259125v1.genomic.fna.gz) <(zcat GCF_947241955.1_B141.genomic.fna.gz) <(zcat GCF_003675365.1_ASM367536v1.genomic.fna.gz) <(zcat GCF_000413795.1_Bruc_abor_biovar_1_01-0065_V1.genomic.fna.gz) <(zcat GCF_947242645.1_B52.genomic.fna.gz) <(zcat GCF_006507975.1_ASM650797v1.genomic.fna.gz) <(zcat GCF_008932505.1_ASM893250v1.genomic.fna.gz) <(zcat GCF_000366085.1_Bruc_suis_63_252_V1.genomic.fna.gz) <(zcat GCF_000371065.1_Bruc_sp_UK40_99_V1.genomic.fna.gz) <(zcat GCF_026256585.1_ASM2625658v1.genomic.fna.gz) <(zcat GCF_006507545.1_ASM650754v1.genomic.fna.gz) <(zcat GCF_001937885.1_ASM193788v1.genomic.fna.gz) <(zcat GCF_006508025.1_ASM650802v1.genomic.fna.gz) <(zcat GCF_000559065.1_SJY1.genomic.fna.gz) <(zcat GCF_000742275.1_ASM74227v1.genomic.fna.gz) <(zcat GCF_000160275.1_ASM16027v1.genomic.fna.gz) <(zcat GCF_000370105.1_Bruc_abor_64_81_V1.genomic.fna.gz) <(zcat GCF_000367045.1_Bruc_meli_UK19_04_V1.genomic.fna.gz) <(zcat GCF_002204295.1_ASM220429v1.genomic.fna.gz) <(zcat GCF_009664925.1_ASM966492v1.genomic.fna.gz) <(zcat GCF_016126205.1_ASM1612620v1.genomic.fna.gz) <(zcat GCF_000371185.1_Bruc_suis_5_05-10_V1.genomic.fna.gz) <(zcat GCF_002290725.1_ASM229072v1.genomic.fna.gz) <(zcat GCF_006507235.1_ASM650723v1.genomic.fna.gz) <(zcat GCF_000177135.1_ASM17713v1.genomic.fna.gz) <(zcat GCF_002191775.1_ASM219177v1.genomic.fna.gz) <(zcat GCF_006507015.1_ASM650701v1.genomic.fna.gz) <(zcat GCF_002192155.1_ASM219215v1.genomic.fna.gz) <(zcat GCF_900417255.1_00-3099-5733.genomic.fna.gz) <(zcat GCF_902825325.1_OCH-ISR2.genomic.fna.gz) <(zcat GCF_015832115.1_ASM1583211v1.genomic.fna.gz) <(zcat GCF_001307425.1_ASM130742v1.genomic.fna.gz) <(zcat GCF_001302495.1_ASM130249v1.genomic.fna.gz) <(zcat GCF_025118245.1_ASM2511824v1.genomic.fna.gz) <(zcat GCF_000157695.1_ASM15769v1.genomic.fna.gz) <(zcat GCF_002191495.1_ASM219149v1.genomic.fna.gz) <(zcat GCF_947242685.1_B7.genomic.fna.gz) <(zcat GCF_017177825.1_ASM1717782v1.genomic.fna.gz) <(zcat GCF_000742255.1_ASM74225v1.genomic.fna.gz) <(zcat GCF_008932825.1_ASM893282v1.genomic.fna.gz) <(zcat GCF_006506745.1_ASM650674v1.genomic.fna.gz) <(zcat GCF_001971805.1_ASM197180v1.genomic.fna.gz) <(zcat GCF_000370405.1_Bruc_abor_F10_06-3_V1.genomic.fna.gz) <(zcat GCF_009733435.1_Brucella_abortus_I-12.genomic.fna.gz) <(zcat GCF_003994115.1_ASM399411v1.genomic.fna.gz) <(zcat GCF_003993965.1_ASM399396v1.genomic.fna.gz) <(zcat GCF_000698285.1_ASM69828v1.genomic.fna.gz) <(zcat GCF_000245975.1_Bruc_abor_bv1_NI259_V1.genomic.fna.gz) <(zcat GCF_000370325.1_Bruc_abor_877_67_V1.genomic.fna.gz) <(zcat GCF_017355465.1_ASM1735546v1.genomic.fna.gz) <(zcat GCF_000238195.1_ASM23819v1.genomic.fna.gz) <(zcat GCF_947242295.1_B67.genomic.fna.gz) <(zcat GCF_000366245.1_Bruc_suis_94_11_V1.genomic.fna.gz) <(zcat GCF_000366465.1_Bruc_abor_90_50_V1.genomic.fna.gz) <(zcat GCF_014640615.1_ASM1464061v1.genomic.fna.gz) <(zcat GCF_002631235.1_ASM263123v1.genomic.fna.gz) <(zcat GCF_025846885.1_ASM2584688v1.genomic.fna.gz) <(zcat GCF_006507945.1_ASM650794v1.genomic.fna.gz) <(zcat GCF_003194755.1_ASM319475v1.genomic.fna.gz) <(zcat GCF_006507375.1_ASM650737v1.genomic.fna.gz) <(zcat GCF_000370925.1_Bruc_sp_56_94_V1.genomic.fna.gz) <(zcat GCF_000371125.1_Bruc_suis_63_261_V1.genomic.fna.gz) <(zcat GCF_947242865.1_B103.genomic.fna.gz) <(zcat GCF_001401925.1_ASM140192v1.genomic.fna.gz) <(zcat GCF_000366025.1_Bruc_abor_RB51_V1.genomic.fna.gz) <(zcat GCF_947242765.1_B23.genomic.fna.gz) <(zcat GCF_026586705.1_ASM2658670v1.genomic.fna.gz) <(zcat GCF_947242475.1_B25.genomic.fna.gz) <(zcat GCF_006507695.1_ASM650769v1.genomic.fna.gz) <(zcat GCF_001296965.1_ASM129696v1.genomic.fna.gz) <(zcat GCF_947241775.1_B71.genomic.fna.gz) <(zcat GCF_014197065.1_ASM1419706v1.genomic.fna.gz) <(zcat GCF_003989965.1_ASM398996v1.genomic.fna.gz) <(zcat GCF_002191295.1_ASM219129v1.genomic.fna.gz) <(zcat GCF_003993905.1_ASM399390v1.genomic.fna.gz) <(zcat GCF_000369945.1_Bruc_abor_544_V1.genomic.fna.gz) <(zcat GCF_008932385.1_ASM893238v1.genomic.fna.gz) <(zcat GCF_000370545.1_Bruc_abor_NI495a_V1.genomic.fna.gz) <(zcat GCF_002291305.1_ASM229130v1.genomic.fna.gz) <(zcat GCF_023651355.1_ASM2365135v1.genomic.fna.gz) <(zcat GCF_900236335.1_Bru_genome7.genomic.fna.gz) <(zcat GCF_016887525.1_ASM1688752v1.genomic.fna.gz) <(zcat GCF_003516065.1_ASM351606v1.genomic.fna.gz) <(zcat GCF_000712255.1_Bneotomae2.0.genomic.fna.gz) <(zcat GCF_017177535.2_ASM1717753v2.genomic.fna.gz) <(zcat GCF_000370225.1_Bruc_abor_80_101_V1.genomic.fna.gz) <(zcat GCF_000292205.1_V02_for_genome_sequence_of_BCB013.genomic.fna.gz) <(zcat GCF_006506125.1_ASM650612v1.genomic.fna.gz) <(zcat GCF_006507645.1_ASM650764v1.genomic.fna.gz) <(zcat GCF_947242855.1_B156.genomic.fna.gz) <(zcat GCF_000742055.1_ASM74205v1.genomic.fna.gz) <(zcat GCF_002191475.1_ASM219147v1.genomic.fna.gz) <(zcat GCF_002025625.1_ASM202562v1.genomic.fna.gz) <(zcat GCF_947242825.1_B154.genomic.fna.gz) <(zcat GCF_008932305.1_ASM893230v1.genomic.fna.gz) <(zcat GCF_008932435.1_ASM893243v1.genomic.fna.gz) <(zcat GCF_947242035.1_B5.genomic.fna.gz) <(zcat GCF_947242775.1_B19.genomic.fna.gz) <(zcat GCF_001043295.1_ASM104329v1.genomic.fna.gz) <(zcat GCF_002291365.1_ASM229136v1.genomic.fna.gz) <(zcat GCF_900236515.1_Bru_genome43.genomic.fna.gz) <(zcat GCF_017311425.1_ASM1731142v1.genomic.fna.gz) <(zcat GCF_014884565.1_ASM1488456v1.genomic.fna.gz) <(zcat GCF_023650975.1_ASM2365097v1.genomic.fna.gz) <(zcat GCF_947242225.1_B82.genomic.fna.gz) <(zcat GCF_003994105.1_ASM399410v1.genomic.fna.gz) <(zcat GCF_009017375.1_ASM901737v1.genomic.fna.gz) <(zcat GCF_023651475.1_ASM2365147v1.genomic.fna.gz) <(zcat GCF_006506385.1_ASM650638v1.genomic.fna.gz) <(zcat GCF_006507775.1_ASM650777v1.genomic.fna.gz) <(zcat GCF_000367105.1_Bruc_sp_UK5_01_V1.genomic.fna.gz) <(zcat GCF_000413495.1_Bruc_abor_biovar_1_76-1413_V1.genomic.fna.gz) <(zcat GCF_004137275.1_ASM413727v1.genomic.fna.gz) <(zcat GCF_000369965.1_Bruc_abor_600_64_V1.genomic.fna.gz) <(zcat GCF_947242655.1_B117.genomic.fna.gz) <(zcat GCF_000480315.1_Bruc_suis_06-988-1656_V1.genomic.fna.gz) <(zcat GCF_023651195.1_ASM2365119v1.genomic.fna.gz) <(zcat GCF_000365665.1_Bruc_abor_NI240_V1.genomic.fna.gz) <(zcat GCF_008932615.1_ASM893261v1.genomic.fna.gz) <(zcat GCF_006507175.1_ASM650717v1.genomic.fna.gz) <(zcat GCF_003253375.1_ASM325337v1.genomic.fna.gz) <(zcat GCF_000292065.1_ASM29206v1.genomic.fna.gz) <(zcat GCF_000292025.1_ASM29202v2.genomic.fna.gz) <(zcat GCF_006507555.1_ASM650755v1.genomic.fna.gz) <(zcat GCF_947242165.1_B68.genomic.fna.gz) <(zcat GCF_900446005.1_58116_B01.genomic.fna.gz) <(zcat GCF_006507475.1_ASM650747v1.genomic.fna.gz) <(zcat GCF_001856205.1_ASM185620v1.genomic.fna.gz) <(zcat GCF_900491915.1_07-2859-6070.genomic.fna.gz) <(zcat GCF_002192195.1_ASM219219v1.genomic.fna.gz) <(zcat GCF_000742195.1_ASM74219v1.genomic.fna.gz) <(zcat GCF_000940435.1_Brucella_melitensis_MY1483_09.genomic.fna.gz) <(zcat GCF_008932815.1_ASM893281v1.genomic.fna.gz) <(zcat GCF_001402055.1_ASM140205v1.genomic.fna.gz) <(zcat GCF_947242275.1_B37.genomic.fna.gz) <(zcat GCF_000177155.1_ASM17715v1.genomic.fna.gz) <(zcat GCF_002895145.1_ASM289514v1.genomic.fna.gz) <(zcat GCF_000590815.1_ASM59081v1.genomic.fna.gz) <(zcat GCF_001742815.1_ASM174281v1.genomic.fna.gz) <(zcat GCF_000366525.1_Bruc_abor_CNGB_1432_V1.genomic.fna.gz) <(zcat GCF_000250775.1_ASM25077v2.genomic.fna.gz) <(zcat GCF_004168605.1_ASM416860v1.genomic.fna.gz) <(zcat GCF_000008145.1_ASM814v1.genomic.fna.gz) <(zcat GCF_016484145.1_ASM1648414v1.genomic.fna.gz) <(zcat GCF_017177485.1_ASM1717748v1.genomic.fna.gz) <(zcat GCF_000369905.1_Bruc_abor_225_65_V1.genomic.fna.gz) <(zcat GCF_008932495.1_ASM893249v1.genomic.fna.gz) <(zcat GCF_017177365.1_ASM1717736v1.genomic.fna.gz) <(zcat GCF_000366105.1_Bruc_abor_65_110_V1.genomic.fna.gz) <(zcat GCF_000988815.1_BMEL001-SEQ-1-ASM-1.genomic.fna.gz) <(zcat GCF_000366885.1_Bruc_meli_CNGB_1120_V1.genomic.fna.gz) <(zcat GCF_008932875.1_ASM893287v1.genomic.fna.gz) <(zcat GCF_000366705.1_Bruc_abor_NI639_V1.genomic.fna.gz) <(zcat GCF_002979215.1_ASM297921v1.genomic.fna.gz) <(zcat GCF_000371145.1_Bruc_suis_CNGB_247_V1.genomic.fna.gz) <(zcat GCF_000007125.1_ASM712v1.genomic.fna.gz) <(zcat GCF_003989955.1_ASM398995v1.genomic.fna.gz) <(zcat GCF_001302545.1_ASM130254v1.genomic.fna.gz) <(zcat GCF_001715425.1_ASM171542v1.genomic.fna.gz) <(zcat GCF_003993825.1_ASM399382v1.genomic.fna.gz) <(zcat GCF_016126115.1_ASM1612611v1.genomic.fna.gz) <(zcat GCF_018138325.1_bwa-0.7.17.tar.bz2.genomic.fna.gz) <(zcat GCF_006505995.1_ASM650599v1.genomic.fna.gz) <(zcat GCF_002245555.1_ASM224555v1.genomic.fna.gz) <(zcat GCF_006507225.1_ASM650722v1.genomic.fna.gz) <(zcat GCF_000182725.1_ASM18272v1.genomic.fna.gz) <(zcat GCF_002192035.1_ASM219203v1.genomic.fna.gz) <(zcat GCF_002979295.1_ASM297929v1.genomic.fna.gz) <(zcat GCF_000740195.1_ASM74019v1.genomic.fna.gz) <(zcat GCF_008932635.1_ASM893263v1.genomic.fna.gz) <(zcat GCF_002278035.1_ASM227803v1.genomic.fna.gz) <(zcat GCF_000691585.1_ASM69158v1.genomic.fna.gz) <(zcat GCF_009665015.1_ASM966501v1.genomic.fna.gz) <(zcat GCF_003194895.1_ASM319489v1.genomic.fna.gz) <(zcat GCF_000223195.1_ASM22319v1.genomic.fna.gz) <(zcat GCF_002278675.1_ASM227867v1.genomic.fna.gz) <(zcat GCF_021165815.1_ASM2116581v1.genomic.fna.gz) <(zcat GCF_000371105.1_Bruc_suis_63_198_V1.genomic.fna.gz) <(zcat GCF_000298635.1_V1.0_of_Brucella_abortus_bv.1_str_134.genomic.fna.gz) <(zcat GCF_000479975.1_Bruc_meli_02-7258_V1.genomic.fna.gz) <(zcat GCF_000755085.1_ASM75508v1.genomic.fna.gz) <(zcat GCF_947242635.1_B122.genomic.fna.gz) <(zcat GCF_023651155.1_ASM2365115v1.genomic.fna.gz) <(zcat GCF_000365565.1_Bruc_suis_F8_06-2_V1.genomic.fna.gz) <(zcat GCF_002191915.1_ASM219191v1.genomic.fna.gz) <(zcat GCF_000245835.1_Bruc_abor_bv1_NI435a_V1.genomic.fna.gz) <(zcat GCF_017177415.1_ASM1717741v1.genomic.fna.gz) <(zcat GCF_002191695.1_ASM219169v1.genomic.fna.gz) <(zcat GCF_009789295.1_ASM978929v1.genomic.fna.gz) <(zcat GCF_000480235.1_Bruc_abor_07-0994-2411_V1.genomic.fna.gz) <(zcat GCF_002192055.1_ASM219205v1.genomic.fna.gz) <(zcat GCF_017139975.1_ASM1713997v1.genomic.fna.gz) <(zcat GCF_006507165.1_ASM650716v1.genomic.fna.gz) <(zcat GCF_023651075.1_ASM2365107v1.genomic.fna.gz) <(zcat GCF_002291345.1_ASM229134v1.genomic.fna.gz) <(zcat GCF_900236485.1_Bru_genome24.genomic.fna.gz) <(zcat GCF_001401915.1_ASM140191v1.genomic.fna.gz) <(zcat GCF_002290685.1_ASM229068v1.genomic.fna.gz) <(zcat GCF_004127195.1_ASM412719v1.genomic.fna.gz) <(zcat GCF_001856265.1_ASM185626v1.genomic.fna.gz) <(zcat GCF_013375275.1_ASM1337527v1.genomic.fna.gz) <(zcat GCF_001702375.1_ASM170237v1.genomic.fna.gz) <(zcat GCF_000480195.1_Bruc_sp_04-5288_V1.genomic.fna.gz) <(zcat GCF_003290345.1_ASM329034v1.genomic.fna.gz) <(zcat GCF_001866335.1_ASM186633v1.genomic.fna.gz) <(zcat GCF_023651805.1_ASM2365180v1.genomic.fna.gz) <(zcat GCF_001917355.1_ASM191735v1.genomic.fna.gz) <(zcat GCF_900446145.1_59071_D01.genomic.fna.gz) <(zcat GCF_028129085.1_ASM2812908v1.genomic.fna.gz) <(zcat GCF_017177855.2_Bm-501.genomic.fna.gz) <(zcat GCF_000366065.1_Bruc_ovis_IntaBari-2006-46-348_V1.genomic.fna.gz) <(zcat GCF_001940595.1_ASM194059v1.genomic.fna.gz) <(zcat GCF_006507445.1_ASM650744v1.genomic.fna.gz) <(zcat GCF_900236405.1_Bru_genome13.genomic.fna.gz) <(zcat GCF_013425785.1_ASM1342578v1.genomic.fna.gz) <(zcat GCF_009733205.1_Brucella_abortus_264.genomic.fna.gz) <(zcat GCF_002278575.1_ASM227857v1.genomic.fna.gz) <(zcat GCF_023651135.1_ASM2365113v1.genomic.fna.gz) <(zcat GCF_001307445.1_ASM130744v1.genomic.fna.gz) <(zcat GCF_000298575.1_V1.0_for_Brucella_canis_str_118.genomic.fna.gz) <(zcat GCF_002192135.1_ASM219213v1.genomic.fna.gz) <(zcat GCF_014199265.1_ASM1419926v1.genomic.fna.gz) <(zcat GCF_947241855.1_B123.genomic.fna.gz) <(zcat GCF_001078335.1_B.canis_SCL.genomic.fna.gz) <(zcat GCF_026256595.1_ASM2625659v1.genomic.fna.gz) <(zcat GCF_000022625.1_ASM2262v1.genomic.fna.gz) <(zcat GCF_003244395.3_ASM324439v3.genomic.fna.gz) <(zcat GCF_025908475.1_ASM2590847v1.genomic.fna.gz) <(zcat GCF_900446155.1_59302_G01.genomic.fna.gz) <(zcat GCF_001401935.1_ASM140193v1.genomic.fna.gz) <(zcat GCF_002191655.1_ASM219165v1.genomic.fna.gz) <(zcat GCF_022538045.1_ASM2253804v1.genomic.fna.gz) <(zcat GCF_000369985.1_Bruc_abor_63_130_V1.genomic.fna.gz) <(zcat GCF_000369925.1_Bruc_abor_355_78_V1.genomic.fna.gz) <(zcat GCF_000022745.1_ASM2274v1.genomic.fna.gz) <(zcat GCF_000662035.1_BrucellaCeti1.0.genomic.fna.gz) <(zcat GCF_003965935.1_ASM396593v1.genomic.fna.gz) <(zcat GCF_000366805.1_Bruc_abor_NI649_V1.genomic.fna.gz) <(zcat GCF_003984755.1_ASM398475v1.genomic.fna.gz) <(zcat GCF_006506545.1_ASM650654v1.genomic.fna.gz) <(zcat GCF_000018725.1_ASM1872v1.genomic.fna.gz) <(zcat GCF_006507905.1_ASM650790v1.genomic.fna.gz) <(zcat GCF_003244395.1_ASM324439v1.genomic.fna.gz) <(zcat GCF_000370785.1_Bruc_meli_Uk24_06_V1.genomic.fna.gz) <(zcat GCF_023651535.1_ASM2365153v1.genomic.fna.gz) <(zcat GCF_006517295.1_ASM651729v1.genomic.fna.gz) <(zcat GCF_003989885.1_ASM398988v1.genomic.fna.gz) <(zcat GCF_000740255.1_ASM74025v1.genomic.fna.gz) <(zcat GCF_020524305.1_ASM2052430v1.genomic.fna.gz) <(zcat GCF_004208675.1_ASM420867v1.genomic.fna.gz) <(zcat GCF_006476605.1_ASM647660v1.genomic.fna.gz) <(zcat GCF_002252475.1_ASM225247v1.genomic.fna.gz) <(zcat GCF_000158735.1_ASM15873v1.genomic.fna.gz) <(zcat GCF_947242175.1_B77.genomic.fna.gz) <(zcat GCF_000158675.1_ASM15867v1.genomic.fna.gz) <(zcat GCF_000480135.1_Bruc_suis_06-997-1672_V1.genomic.fna.gz) <(zcat GCF_023651655.1_ASM2365165v1.genomic.fna.gz) <(zcat GCF_016126195.1_ASM1612619v1.genomic.fna.gz) <(zcat GCF_000366665.1_Bruc_abor_NI628_V1.genomic.fna.gz) <(zcat GCF_000158695.1_ASM15869v1.genomic.fna.gz) <(zcat GCF_000366865.1_Bruc_meli_66_59_V1.genomic.fna.gz) <(zcat GCF_002191855.1_ASM219185v1.genomic.fna.gz) <(zcat GCF_000590795.1_ASM59079v1.genomic.fna.gz) <(zcat GCF_002290805.1_ASM229080v1.genomic.fna.gz) <(zcat GCF_006508005.1_ASM650800v1.genomic.fna.gz) <(zcat GCF_002191355.1_ASM219135v1.genomic.fna.gz) <(zcat GCF_000157775.1_ASM15777v1.genomic.fna.gz) <(zcat GCF_900236455.1_Bru_genome44.genomic.fna.gz) <(zcat GCF_006506435.1_ASM650643v1.genomic.fna.gz) <(zcat GCF_023554105.1_ASM2355410v1.genomic.fna.gz) <(zcat GCF_003194765.1_ASM319476v1.genomic.fna.gz) <(zcat GCF_002191675.1_ASM219167v1.genomic.fna.gz) <(zcat GCF_028620965.1_ASM2862096v1.genomic.fna.gz) <(zcat GCF_004704905.2_ASM470490v2.genomic.fna.gz) <(zcat GCF_947242095.1_B135.genomic.fna.gz) <(zcat GCF_000365945.1_Bruc_ovis_IntaBari-2001-319-5096_V1.genomic.fna.gz) <(zcat GCF_023651695.1_ASM2365169v1.genomic.fna.gz) <(zcat GCF_000370805.1_Bruc_meli_UK29_05_V1.genomic.fna.gz) <(zcat GCF_902825315.1_OCH-ISR4.genomic.fna.gz) <(zcat GCF_002291325.1_ASM229132v1.genomic.fna.gz) <(zcat GCF_947242465.1_B22.genomic.fna.gz) <(zcat GCF_000370945.1_Bruc_sp_63_311_V1.genomic.fna.gz) <(zcat GCF_000370345.1_Bruc_abor_88_217_V1.genomic.fna.gz) <(zcat GCF_028129055.1_ASM2812905v1.genomic.fna.gz) <(zcat GCF_023704275.1_ASM2370427v1.genomic.fna.gz) <(zcat GCF_000705095.1_Brucella_melitensis_C-554.genomic.fna.gz) <(zcat GCF_000370485.1_Bruc_abor_F6_05-9_V1.genomic.fna.gz) <(zcat GCF_000366185.1_Bruc_abor_NI380_V1.genomic.fna.gz) <(zcat GCF_000365685.1_Bruc_abor_NI388_V1.genomic.fna.gz) <(zcat GCF_000480095.1_Bruc_meli_02-5863-1_V1.genomic.fna.gz) <(zcat GCF_016126095.1_ASM1612609v1.genomic.fna.gz) <(zcat GCF_002266765.1_ASM226676v1.genomic.fna.gz) <(zcat GCF_006507285.1_ASM650728v1.genomic.fna.gz) <(zcat GCF_006507795.1_ASM650779v1.genomic.fna.gz) <(zcat GCF_001575075.1_ASM157507v1.genomic.fna.gz) <(zcat GCF_000366305.1_Bruc_abor_67_781_V1.genomic.fna.gz) <(zcat GCF_000366925.1_Bruc_meli_F10_05-2_V1.genomic.fna.gz) <(zcat GCF_008932475.1_ASM893247v1.genomic.fna.gz) <(zcat GCF_009017395.1_ASM901739v1.genomic.fna.gz) <(zcat GCF_000365885.1_Bruc_ovis_IntaBari-2006-46-332_V1.genomic.fna.gz) <(zcat GCF_003994435.1_ASM399443v1.genomic.fna.gz) <(zcat GCF_003856415.1_ASM385641v1.genomic.fna.gz) <(zcat GCF_001702255.1_ASM170225v1.genomic.fna.gz) <(zcat GCF_000478665.1_Bruc_abor_biovar_1_80-1399_V1.genomic.fna.gz) <(zcat GCF_947242015.1_B69.genomic.fna.gz) <(zcat GCF_023130505.1_ASM2313050v1.genomic.fna.gz) <(zcat GCF_001715405.1_ASM171540v1.genomic.fna.gz) <(zcat GCF_008932745.1_ASM893274v1.genomic.fna.gz) <(zcat GCF_947242135.1_B20.genomic.fna.gz) <(zcat GCF_002191255.1_ASM219125v1.genomic.fna.gz) <(zcat GCF_001307475.2_ASM130747v2.genomic.fna.gz) <(zcat GCF_006506735.1_ASM650673v1.genomic.fna.gz) <(zcat GCF_028620865.1_ASM2862086v1.genomic.fna.gz) <(zcat GCF_000699025.1_ASM69902v1.genomic.fna.gz) <(zcat GCF_001938175.1_ASM193817v1.genomic.fna.gz) <(zcat GCF_009664935.1_ASM966493v1.genomic.fna.gz) <(zcat GCF_000701065.1_Bru1330.genomic.fna.gz) <(zcat GCF_009733275.1_Brucella_abortus_401.genomic.fna.gz) <(zcat GCF_009789365.1_ASM978936v1.genomic.fna.gz) <(zcat GCF_001856295.1_ASM185629v1.genomic.fna.gz) <(zcat GCF_947242805.1_B6.genomic.fna.gz) <(zcat GCF_947242585.1_B35.genomic.fna.gz) <(zcat GCF_003049685.1_ASM304968v2.genomic.fna.gz) <(zcat GCF_000530495.1_Oliveri.genomic.fna.gz) <(zcat GCF_000292085.1_ASM29208v2.genomic.fna.gz) <(zcat GCF_000479955.1_Bruc_abor_01-4165_V1.genomic.fna.gz) <(zcat GCF_947242105.1_B132.genomic.fna.gz) <(zcat GCF_004208655.1_ASM420865v1.genomic.fna.gz) <(zcat GCF_947242285.1_B55.genomic.fna.gz) <(zcat GCF_000398805.1_Bruc_abor_93_2_V1.genomic.fna.gz) <(zcat GCF_023651115.1_ASM2365111v1.genomic.fna.gz) <(zcat GCF_947242215.1_B145.genomic.fna.gz) <(zcat GCF_006506425.1_ASM650642v1.genomic.fna.gz) <(zcat GCF_008932485.1_ASM893248v1.genomic.fna.gz) <(zcat GCF_017177485.2_Bm-510.genomic.fna.gz) <(zcat GCF_000209635.2_ASM20963v2.genomic.fna.gz) <(zcat GCF_947241755.1_B13.genomic.fna.gz) <(zcat GCF_003937425.1_ASM393742v1.genomic.fna.gz) <(zcat GCF_023651175.1_ASM2365117v1.genomic.fna.gz) <(zcat GCF_947241985.1_B139.genomic.fna.gz) <(zcat GCF_002252445.1_ASM225244v1.genomic.fna.gz) <(zcat GCF_024970345.1_ASM2497034v1.genomic.fna.gz) <(zcat GCF_023651615.1_ASM2365161v1.genomic.fna.gz) <(zcat GCF_002291245.1_ASM229124v1.genomic.fna.gz) <(zcat GCF_002191335.1_ASM219133v1.genomic.fna.gz) <(zcat GCF_002191935.1_ASM219193v1.genomic.fna.gz) <(zcat GCF_016411965.1_ASM1641196v1.genomic.fna.gz) <(zcat GCF_900236545.1_Bru_genome36.genomic.fna.gz) <(zcat GCF_017177315.1_ASM1717731v1.genomic.fna.gz) <(zcat GCF_009733215.1_Brucella_abortus_293.genomic.fna.gz) <(zcat GCF_002192015.1_ASM219201v1.genomic.fna.gz) <(zcat GCF_000600055.1_ASM60005v1.genomic.fna.gz) <(zcat GCF_947242505.1_B113.genomic.fna.gz) <(zcat GCF_002191995.1_ASM219199v1.genomic.fna.gz) <(zcat GCF_017177615.2_ASM1717761v2.genomic.fna.gz) <(zcat GCF_000348645.1_MD5v1.genomic.fna.gz) <(zcat GCF_002191755.1_ASM219175v1.genomic.fna.gz) <(zcat GCF_006517305.1_ASM651730v1.genomic.fna.gz) <(zcat GCF_002204265.1_ASM220426v1.genomic.fna.gz) <(zcat GCF_002979335.1_ASM297933v1.genomic.fna.gz) <(zcat GCF_947241765.1_B80.genomic.fna.gz) <(zcat GCF_900236415.1_Bru_genome48.genomic.fna.gz) <(zcat GCF_000370305.1_Bruc_abor_87_28_V1.genomic.fna.gz) <(zcat GCF_011801185.1_ASM1180118v1.genomic.fna.gz) <(zcat GCF_947241945.1_B126.genomic.fna.gz) <(zcat GCF_900236345.1_Bru_genome47.genomic.fna.gz) <(zcat GCF_008932625.1_ASM893262v1.genomic.fna.gz) <(zcat GCF_003991385.1_ASM399138v1.genomic.fna.gz) <(zcat GCF_002290745.1_ASM229074v1.genomic.fna.gz) <(zcat GCF_008932905.1_ASM893290v1.genomic.fna.gz) <(zcat GCF_002291205.1_ASM229120v1.genomic.fna.gz) <(zcat GCF_000365925.1_Bruc_ovis_IntaBari-2002-82-58_V1.genomic.fna.gz) <(zcat GCF_000366225.1_Bruc_suis_92_63_V1.genomic.fna.gz) <(zcat GCF_006517315.1_ASM651731v1.genomic.fna.gz) <(zcat GCF_024970895.1_ASM2497089v1.genomic.fna.gz) <(zcat GCF_947242675.1_B2.genomic.fna.gz) <(zcat GCF_900446025.1_58932_E01.genomic.fna.gz) <(zcat GCF_006505895.1_ASM650589v1.genomic.fna.gz) <(zcat GCF_000370185.1_Bruc_abor_78_14_V1.genomic.fna.gz) <(zcat GCF_000370245.1_Bruc_abor_80_28_V1.genomic.fna.gz) <(zcat GCF_006506855.1_ASM650685v1.genomic.fna.gz) <(zcat GCF_000292165.1_ASM29216v2.genomic.fna.gz) <(zcat GCF_001766425.1_ASM176642v1.genomic.fna.gz) <(zcat GCF_000371005.1_Bruc_sp_F8_99_V1.genomic.fna.gz) <(zcat GCF_000209615.2_ASM20961v2.genomic.fna.gz) <(zcat GCF_001856185.1_ASM185618v1.genomic.fna.gz) <(zcat GCF_000365965.1_Bruc_ovis_IntaBari-2001-319-4082_V1.genomic.fna.gz) <(zcat GCF_947242255.1_B150.genomic.fna.gz) <(zcat GCF_947241865.1_B15.genomic.fna.gz) <(zcat GCF_002192175.1_ASM219217v1.genomic.fna.gz) <(zcat GCF_000444515.1_Denovo_assembly.genomic.fna.gz) <(zcat GCF_000365825.1_Bruc_abor_NI492_V1.genomic.fna.gz) <(zcat GCF_008932785.1_ASM893278v1.genomic.fna.gz) <(zcat GCF_002191795.1_ASM219179v1.genomic.fna.gz) <(zcat GCF_000366325.1_Bruc_abor_78_36_V1.genomic.fna.gz) <(zcat GCF_900491925.1_10469.genomic.fna.gz) <(zcat GCF_000370605.1_Bruc_cani_CNGB_513_V1.genomic.fna.gz) <(zcat GCF_000371345.1_Bruc_ovis_IntaBari-2010-47-268_V1.genomic.fna.gz) <(zcat GCF_002192075.1_ASM219207v1.genomic.fna.gz) <(zcat GCF_006507425.1_ASM650742v1.genomic.fna.gz) <(zcat GCF_002191275.1_ASM219127v1.genomic.fna.gz) <(zcat GCF_947242835.1_B159.genomic.fna.gz) <(zcat GCF_000366285.1_Bruc_abor_64_122_V1.genomic.fna.gz) <(zcat GCF_009664965.1_ASM966496v1.genomic.fna.gz) <(zcat GCF_000480055.1_Bruc_suis_04-0115_V1.genomic.fna.gz) <(zcat GCF_006507815.1_ASM650781v1.genomic.fna.gz) <(zcat GCF_000370585.1_Bruc_cani_79_122_V1.genomic.fna.gz) <(zcat GCF_000413675.1_Bruc_abor_biovar_4_90-0775_V1.genomic.fna.gz) <(zcat GCF_000740335.1_ASM74033v1.genomic.fna.gz) <(zcat GCF_023650995.1_ASM2365099v1.genomic.fna.gz) <(zcat GCF_000740355.1_ASM74035v1.genomic.fna.gz) <(zcat GCF_947242305.1_B66.genomic.fna.gz) <(zcat GCF_026256925.1_ASM2625692v1.genomic.fna.gz) <(zcat GCF_001302525.1_ASM130252v1.genomic.fna.gz) <(zcat GCF_000157835.1_ASM15783v1.genomic.fna.gz) <(zcat GCF_003993855.1_ASM399385v1.genomic.fna.gz) <(zcat GCF_000365645.1_Bruc_abor_levi_gila_V1.genomic.fna.gz) <(zcat GCF_000371325.1_Bruc_suis_F9_06-1_V1.genomic.fna.gz) <(zcat GCF_004137325.1_ASM413732v1.genomic.fna.gz) <(zcat GCF_002290765.1_ASM229076v1.genomic.fna.gz) <(zcat GCF_000480215.1_Bruc_meli_11-1823-3434_V1.genomic.fna.gz) <(zcat GCF_006507685.1_ASM650768v1.genomic.fna.gz) <(zcat GCF_006507125.1_ASM650712v1.genomic.fna.gz) <(zcat GCF_003993875.1_ASM399387v1.genomic.fna.gz) <(zcat GCF_000157675.1_ASM15767v1.genomic.fna.gz) <(zcat GCF_002150355.1_ASM215035v1.genomic.fna.gz) <(zcat GCF_026256565.1_ASM2625656v1.genomic.fna.gz) <(zcat GCF_000192885.1_ASM19288v1.genomic.fna.gz) <(zcat GCF_006507825.1_ASM650782v1.genomic.fna.gz) <(zcat GCF_003989905.1_ASM398990v1.genomic.fna.gz) <(zcat GCF_000250815.1_ASM25081v2.genomic.fna.gz) <(zcat GCF_003994015.1_ASM399401v1.genomic.fna.gz) <(zcat GCF_003010715.1_ASM301071v1.genomic.fna.gz) <(zcat GCF_000698325.1_ASM69832v1.genomic.fna.gz) <(zcat GCF_023651675.1_ASM2365167v1.genomic.fna.gz) <(zcat GCF_947242885.1_B134.genomic.fna.gz) <(zcat GCF_000740235.1_ASM74023v1.genomic.fna.gz) <(zcat GCF_000742215.1_ASM74221v1.genomic.fna.gz) <(zcat GCF_002191435.1_ASM219143v1.genomic.fna.gz) <(zcat GCF_000480155.1_Bruc_suis_97-9757_V1.genomic.fna.gz) <(zcat GCF_001856305.1_ASM185630v1.genomic.fna.gz) <(zcat GCF_000370425.1_Bruc_abor_F5_04-7_V1.genomic.fna.gz) <(zcat GCF_002290665.1_ASM229066v1.genomic.fna.gz) <(zcat GCF_006507855.1_ASM650785v1.genomic.fna.gz) <(zcat GCF_024802385.1_ASM2480238v1.genomic.fna.gz) <(zcat GCF_000366005.1_Bruc_ovis_IntaBari-1993-758_V1.genomic.fna.gz) <(zcat GCF_000371285.1_Bruc_suis_F8_06-1_V1.genomic.fna.gz) <(zcat GCF_000366485.1_Bruc_abor_93_1_V1.genomic.fna.gz) <(zcat GCF_900236425.1_Bru_genome11.genomic.fna.gz) <(zcat GCF_027625455.1_ASM2762545v1.genomic.fna.gz) <(zcat GCF_900236565.1_Bru_genome8.genomic.fna.gz) <(zcat GCF_001758265.1_ASM175826v1.genomic.fna.gz) <(zcat GCF_008728025.1_ASM872802v1.genomic.fna.gz) <(zcat GCF_003989715.1_ASM398971v1.genomic.fna.gz) <(zcat GCF_947242125.1_B56.genomic.fna.gz) <(zcat GCF_947241975.1_B155.genomic.fna.gz) <(zcat GCF_002204345.1_ASM220434v1.genomic.fna.gz) <(zcat GCF_001608425.1_BMEL003-SEQ-1-ASM-1.genomic.fna.gz) <(zcat GCF_002191735.1_ASM219173v1.genomic.fna.gz) <(zcat GCF_009733455.1_Brucella_abortus_I-29.genomic.fna.gz) <(zcat GCF_016126215.1_ASM1612621v1.genomic.fna.gz) <(zcat GCF_017177735.1_ASM1717773v1.genomic.fna.gz) <(zcat GCF_900236555.1_Bru_genome5.genomic.fna.gz) <(zcat GCF_947242085.1_B109.genomic.fna.gz) <(zcat GCF_009728185.1_ASM972818v1.genomic.fna.gz) <(zcat GCF_000370045.1_Bruc_abor_63_168_V1.genomic.fna.gz) <(zcat GCF_000365725.1_Bruc_abor_F3_07-1_V1.genomic.fna.gz) <(zcat GCF_026256505.1_ASM2625650v1.genomic.fna.gz) <(zcat GCF_000157875.1_ASM15787v1.genomic.fna.gz) <(zcat GCF_000413515.1_Bruc_ovis_IntaBari-2009-88-3_V1.genomic.fna.gz) <(zcat GCF_000370885.1_Bruc_ovis_63_96_V1.genomic.fna.gz) <(zcat GCF_006506835.1_ASM650683v1.genomic.fna.gz) <(zcat GCF_947242055.1_B149.genomic.fna.gz) <(zcat GCF_006506675.1_ASM650667v1.genomic.fna.gz) <(zcat GCF_902825355.1_OCH-ISR3.genomic.fna.gz) <(zcat GCF_002266745.1_ASM226674v1.genomic.fna.gz) <(zcat GCF_000182625.1_ASM18262v1.genomic.fna.gz) <(zcat GCF_009789215.1_ASM978921v1.genomic.fna.gz) <(zcat GCF_900446035.1_59071_C01.genomic.fna.gz) <(zcat GCF_000370865.1_Bruc_meli_UK37_05_V1.genomic.fna.gz) <(zcat GCF_000292045.1_ASM29204v1.genomic.fna.gz) <(zcat GCF_900236585.1_Bru_genome1.genomic.fna.gz) <(zcat GCF_014138165.1_ASM1413816v1.genomic.fna.gz) <(zcat GCF_003194885.1_ASM319488v1.genomic.fna.gz) <(zcat GCF_947242665.1_B116.genomic.fna.gz) <(zcat GCF_006506115.1_ASM650611v1.genomic.fna.gz) <(zcat GCF_006507665.1_ASM650766v1.genomic.fna.gz) <(zcat GCF_947242265.1_B78.genomic.fna.gz) <(zcat GCF_002191515.1_ASM219151v1.genomic.fna.gz) <(zcat GCF_947242145.1_B75.genomic.fna.gz) <(zcat GCF_023651635.1_ASM2365163v1.genomic.fna.gz) <(zcat GCF_006506965.1_ASM650696v1.genomic.fna.gz) <(zcat GCF_002310355.1_ASM231035v1.genomic.fna.gz) <(zcat GCF_003993955.1_ASM399395v1.genomic.fna.gz) <(zcat GCF_003994045.1_ASM399404v1.genomic.fna.gz) <(zcat GCF_947241795.1_B158.genomic.fna.gz) <(zcat GCF_900243435.1_ASM90024343v1.genomic.fna.gz) <(zcat GCF_006506875.1_ASM650687v1.genomic.fna.gz) <(zcat GCF_002191615.1_ASM219161v1.genomic.fna.gz) <(zcat GCF_026256545.1_ASM2625654v1.genomic.fna.gz) <(zcat GCF_000413635.1_Bruc_abor_biovar_1_90-0962_V1.genomic.fna.gz) <(zcat GCF_000480295.1_Bruc_cani_04-2330-1_V1.genomic.fna.gz) <(zcat GCF_000366125.1_Bruc_abor_CNGB_752_V1.genomic.fna.gz) <(zcat GCF_014884485.1_ASM1488448v1.genomic.fna.gz) <(zcat GCF_023651515.1_ASM2365151v1.genomic.fna.gz) <(zcat GCF_000163135.1_ASM16313v1.genomic.fna.gz) <(zcat GCF_001856195.1_ASM185619v1.genomic.fna.gz) <(zcat GCF_001267725.1_ASM126772v1.genomic.fna.gz) <(zcat GCF_000245935.1_Bruc_abor_bv1_NI016_V1.genomic.fna.gz) <(zcat GCF_023651215.1_ASM2365121v1.genomic.fna.gz) <(zcat GCF_900236575.1_Bru_genome10.genomic.fna.gz) <(zcat GCF_000365585.1_Bruc_suis_F5_03-2_V1.genomic.fna.gz) <(zcat GCF_004168645.1_ASM416864v1.genomic.fna.gz) <(zcat GCF_023651255.1_ASM2365125v1.genomic.fna.gz) <(zcat GCF_009733335.1_Brucella_abortus_1552.genomic.fna.gz) <(zcat GCF_000365705.1_Bruc_suis_F4_06-146_V1.genomic.fna.gz) <(zcat GCF_023093775.1_ASM2309377v1.genomic.fna.gz) <(zcat GCF_947242755.1_B121.genomic.fna.gz) <(zcat GCF_000480015.1_Bruc_abor_90-12178_V1.genomic.fna.gz) <(zcat GCF_000370705.1_Bruc_meli_F9_05_V1.genomic.fna.gz) <(zcat GCF_006506505.1_ASM650650v1.genomic.fna.gz) <(zcat GCF_000158775.1_ASM15877v1.genomic.fna.gz) <(zcat GCF_028621395.1_ASM2862139v1.genomic.fna.gz) <(zcat GCF_016483975.1_ASM1648397v1.genomic.fna.gz) <(zcat GCF_000371265.1_Bruc_suis_F7_06-5_V1.genomic.fna.gz) <(zcat GCF_002252505.1_ASM225250v1.genomic.fna.gz) <(zcat GCF_000245895.1_Bruc_abor_bv1_NI488_V1.genomic.fna.gz) <(zcat GCF_014138145.1_ASM1413814v1.genomic.fna.gz) <(zcat GCF_016483915.1_ASM1648391v1.genomic.fna.gz) <(zcat GCF_000472245.1_Denovo_assembly.genomic.fna.gz) <(zcat GCF_000875695.1_ASM87569v1.genomic.fna.gz) <(zcat GCF_000251205.1_ASM25120v1.genomic.fna.gz) <(zcat GCF_006506925.1_ASM650692v1.genomic.fna.gz) <(zcat GCF_001401945.1_ASM140194v1.genomic.fna.gz) <(zcat GCF_009789305.1_ASM978930v1.genomic.fna.gz) <(zcat GCF_002191895.1_ASM219189v1.genomic.fna.gz) <(zcat GCF_002290785.1_ASM229078v1.genomic.fna.gz) <(zcat GCF_947242745.1_B129.genomic.fna.gz) <(zcat GCF_003994025.1_ASM399402v1.genomic.fna.gz) <(zcat GCF_002191235.1_ASM219123v1.genomic.fna.gz) <(zcat GCF_000018905.1_ASM1890v1.genomic.fna.gz) <(zcat GCF_018798825.1_ASM1879882v1.genomic.fna.gz) <(zcat GCF_001938135.1_ASM193813v1.genomic.fna.gz) <(zcat GCF_000365765.1_Bruc_abor_F6_05-2_V1.genomic.fna.gz) <(zcat GCF_003244395.2_ASM324439v2.genomic.fna.gz) <(zcat GCF_000370125.1_Bruc_abor_65_157_V1.genomic.fna.gz) <(zcat GCF_017140095.1_ASM1714009v1.genomic.fna.gz) <(zcat GCF_004704905.1_ASM470490v1.genomic.fna.gz) <(zcat GCF_001431745.1_ASM143174v1.genomic.fna.gz) <(zcat GCF_002278735.1_ASM227873v1.genomic.fna.gz) <(zcat GCF_013409355.1_ASM1340935v1.genomic.fna.gz) <(zcat GCF_006506785.1_ASM650678v1.genomic.fna.gz) <(zcat GCF_016126175.1_ASM1612617v1.genomic.fna.gz) <(zcat GCF_000714755.1_Brucella_melitensis_C-558.genomic.fna.gz) <(zcat GCF_000413615.1_Bruc_abor_biovar_1_87-0095_V1.genomic.fna.gz) <(zcat GCF_000157715.1_ASM15771v1.genomic.fna.gz) <(zcat GCF_008932275.1_ASM893227v1.genomic.fna.gz) <(zcat GCF_000366645.1_Bruc_abor_NI518_V1.genomic.fna.gz) <(zcat GCF_000413535.1_Bruc_abor_biovar_4_68-3396P_V1.genomic.fna.gz) <(zcat GCF_000366585.1_Bruc_meli_UK22_06_V1.genomic.fna.gz) <(zcat GCF_008801705.1_ASM880170v1.genomic.fna.gz) <(zcat GCF_001641495.1_ASM164149v1.genomic.fna.gz) <(zcat GCF_003516085.1_ASM351608v1.genomic.fna.gz) <(zcat GCF_002291285.1_ASM229128v1.genomic.fna.gz) <(zcat GCF_000157815.1_ASM15781v1.genomic.fna.gz) <(zcat GCF_000367085.1_Bruc_ovis_F8_05B_V1.genomic.fna.gz) <(zcat GCF_000366985.1_Bruc_meli_F5_07-239A_V1.genomic.fna.gz) <(zcat GCF_000480075.1_Bruc_abor_03-4923-239-D_V1.genomic.fna.gz) <(zcat GCF_000016845.1_ASM1684v1.genomic.fna.gz) <(zcat GCF_016126245.1_ASM1612624v1.genomic.fna.gz) <(zcat GCF_014193785.1_ASM1419378v1.genomic.fna.gz) <(zcat GCF_900460605.1_58116_D02.genomic.fna.gz) <(zcat GCF_008932295.1_ASM893229v1.genomic.fna.gz) <(zcat GCF_000413835.1_Bruc_abor_biovar_1_B10-0973_V1.genomic.fna.gz) <(zcat GCF_023651095.1_ASM2365109v1.genomic.fna.gz) <(zcat GCF_008932685.1_ASM893268v1.genomic.fna.gz) <(zcat GCF_947242365.1_B151.genomic.fna.gz) <(zcat GCF_006506205.1_ASM650620v1.genomic.fna.gz) <(zcat GCF_947242075.1_B110.genomic.fna.gz) <(zcat GCF_947242005.1_B111.genomic.fna.gz) <(zcat GCF_006507345.1_ASM650734v1.genomic.fna.gz) <(zcat GCF_006506625.1_ASM650662v1.genomic.fna.gz) <(zcat GCF_947242575.1_B104.genomic.fna.gz) <(zcat GCF_000740155.1_ASM74015v1.genomic.fna.gz) <(zcat GCF_002953595.1_ASM295359v1.genomic.fna.gz) <(zcat GCF_000209595.2_ASM20959v2.genomic.fna.gz) <(zcat GCF_000739325.1_ASM73932v1.genomic.fna.gz) <(zcat GCF_002192095.1_ASM219209v1.genomic.fna.gz) <(zcat GCF_023651845.1_ASM2365184v1.genomic.fna.gz) <(zcat GCF_000245915.1_Bruc_abor_bv1_NI010_V1.genomic.fna.gz) <(zcat GCF_002150445.1_ASM215044v1.genomic.fna.gz) <(zcat GCF_000755105.1_ASM75510v1.genomic.fna.gz) <(zcat GCF_009665065.1_ASM966506v1.genomic.fna.gz) <(zcat GCF_947242875.1_B157.genomic.fna.gz) <(zcat GCF_001302485.1_ASM130248v1.genomic.fna.gz) <(zcat GCF_009733365.1_Brucella_abortus_C-550.genomic.fna.gz) <(zcat GCF_000182645.1_ASM18264v1.genomic.fna.gz) <(zcat GCF_006507915.1_ASM650791v1.genomic.fna.gz) <(zcat GCF_000366605.1_Bruc_abor_63_59_V1.genomic.fna.gz) <(zcat GCF_000740275.1_ASM74027v1.genomic.fna.gz) <(zcat GCF_003325675.1_ASM332567v1.genomic.fna.gz) <(zcat GCF_947242605.1_B81.genomic.fna.gz) <(zcat GCF_947241875.1_B12.genomic.fna.gz) <(zcat GCF_000298615.1_V1.0_of_Brucella_melitensis_bv.3_str_128.genomic.fna.gz) <(zcat GCF_015326295.1_ASM1532629v1.genomic.fna.gz) <(zcat GCF_001637305.1_ASM163730v1.genomic.fna.gz) <(zcat GCF_008932555.1_ASM893255v1.genomic.fna.gz) <(zcat GCF_016887905.1_ASM1688790v1.genomic.fna.gz) <(zcat GCF_017797885.1_ASM1779788v1.genomic.fna.gz) <(zcat GCF_002278715.1_ASM227871v1.genomic.fna.gz) <(zcat GCF_000018525.1_ASM1852v1.genomic.fna.gz) <(zcat GCF_000160255.1_ASM16025v1.genomic.fna.gz) <(zcat GCF_003993935.1_ASM399393v1.genomic.fna.gz) <(zcat GCF_947241915.1_B48.genomic.fna.gz) <(zcat GCF_006506235.1_ASM650623v1.genomic.fna.gz) <(zcat GCF_002191715.1_ASM219171v1.genomic.fna.gz) <(zcat GCF_000157855.1_ASM15785v1.genomic.fna.gz) <(zcat GCF_016126075.1_ASM1612607v1.genomic.fna.gz) <(zcat GCF_000366165.1_Bruc_abor_CNGB_966_V1.genomic.fna.gz) <(zcat GCF_003966035.1_ASM396603v1.genomic.fna.gz) <(zcat GCF_000740215.1_ASM74021v1.genomic.fna.gz) <(zcat GCF_002191535.1_ASM219153v1.genomic.fna.gz) <(zcat GCF_907163095.1_OB_assembly.genomic.fna.gz) <(zcat GCF_000742955.1_ASM74295v1.genomic.fna.gz) <(zcat GCF_023651395.1_ASM2365139v1.genomic.fna.gz) <(zcat GCF_013087535.1_ASM1308753v1.genomic.fna.gz) <(zcat GCF_000413735.1_Bruc_abor_biovar_1_94-1313_V1.genomic.fna.gz) <(zcat GCF_900417225.1_00-2529-3.genomic.fna.gz) <(zcat GCF_000182425.1_ASM18242v1.genomic.fna.gz) <(zcat GCF_002262955.1_ASM226295v1.genomic.fna.gz) <(zcat GCF_002803535.1_ASM280353v1.genomic.fna.gz) <(zcat GCF_902825345.1_OCH-ISR5.genomic.fna.gz) <(zcat GCF_002191815.1_ASM219181v1.genomic.fna.gz) <(zcat GCF_900236365.1_Bru_genome40.genomic.fna.gz) <(zcat GCF_009728165.1_B_abortus_str_240.genomic.fna.gz) <(zcat GCF_000366685.1_Bruc_abor_NI593_V1.genomic.fna.gz) <(zcat GCF_947242355.1_B152.genomic.fna.gz) <(zcat GCF_001937795.1_ASM193779v1.genomic.fna.gz) <(zcat GCF_000366745.1_Bruc_abor_NI613_V1.genomic.fna.gz) <(zcat GCF_014884545.1_ASM1488454v1.genomic.fna.gz) <(zcat GCF_000938035.1_Brucella_melitensis_Phil1136_12.genomic.fna.gz) <(zcat GCF_000370765.1_Bruc_meli_UK23_06_V1.genomic.fna.gz) <(zcat GCF_028620645.1_ASM2862064v1.genomic.fna.gz) <(zcat GCF_002191635.1_ASM219163v1.genomic.fna.gz) <(zcat GCF_003664555.1_ASM366455v1.genomic.fna.gz) <(zcat GCF_017177695.1_ASM1717769v1.genomic.fna.gz) <(zcat GCF_008932725.1_ASM893272v1.genomic.fna.gz) <(zcat GCF_001652485.1_ASM165248v1.genomic.fna.gz) <(zcat GCF_002150395.1_ASM215039v1.genomic.fna.gz) <(zcat GCF_006506605.1_ASM650660v1.genomic.fna.gz) <(zcat GCF_000292145.1_ASM29214v2.genomic.fna.gz) <(zcat GCF_000370905.1_Bruc_ovis_81_8_V1.genomic.fna.gz) <(zcat GCF_000366505.1_Bruc_abor_CNGB_1011_V1.genomic.fna.gz) <(zcat GCF_000479995.1_Bruc_abor_03-2770-11_V1.genomic.fna.gz) <(zcat GCF_900417195.1_01-3016-5171.genomic.fna.gz) <(zcat GCF_000741995.1_ASM74199v1.genomic.fna.gz) <(zcat GCF_008932765.1_ASM893276v1.genomic.fna.gz) <(zcat GCF_000413595.1_Bruc_abor_biovar_1_85-1058_V1.genomic.fna.gz) <(zcat GCF_000480115.1_Bruc_abor_99-9971-159_V1.genomic.fna.gz) <(zcat GCF_000366765.1_Bruc_abor_NI633_V1.genomic.fna.gz) <(zcat GCF_904066045.1_WS-Be-68.genomic.fna.gz) <(zcat GCF_009789335.1_ASM978933v1.genomic.fna.gz) <(zcat GCF_006508035.1_ASM650803v1.genomic.fna.gz) <(zcat GCF_947241925.1_B51.genomic.fna.gz) <(zcat GCF_017177535.1_ASM1717753v1.genomic.fna.gz) <(zcat GCF_008932575.1_ASM893257v1.genomic.fna.gz) <(zcat GCF_000367125.1_Bruc_sp_UK38_05_V1.genomic.fna.gz) <(zcat GCF_947242065.1_B65.genomic.fna.gz) <(zcat GCF_000370625.1_Bruc_meli_BG2_S27_V1.genomic.fna.gz) <(zcat GCF_000017405.1_ASM1740v1.genomic.fna.gz) <(zcat GCF_006507065.1_ASM650706v1.genomic.fna.gz) <(zcat GCF_014884405.1_ASM1488440v1.genomic.fna.gz) <(zcat GCF_017177825.2_Bm-498.genomic.fna.gz) <(zcat GCF_000054005.1_ASM5400v1.genomic.fna.gz) <(zcat GCF_006506565.1_ASM650656v1.genomic.fna.gz) <(zcat GCF_000370745.1_Bruc_meli_UK22_04_V1.genomic.fna.gz) <(zcat GCF_900491895.1_07-2859-6071.genomic.fna.gz) <(zcat GCF_000250835.1_ASM25083v2.genomic.fna.gz) <(zcat GCF_025490555.1_ASM2549055v1.genomic.fna.gz) <(zcat GCF_000370725.1_Bruc_meli_UK14_06_V1.genomic.fna.gz) <(zcat GCF_000366425.1_Bruc_abor_88_19_V1.genomic.fna.gz) <(zcat GCF_009733465.1_Brucella_abortus_I-34.genomic.fna.gz) <(zcat GCF_006507335.1_ASM650733v1.genomic.fna.gz) <(zcat GCF_006507745.1_ASM650774v1.genomic.fna.gz) <(zcat GCF_002994775.1_ASM299477v1.genomic.fna.gz) <(zcat GCF_900417215.1_00-4216.genomic.fna.gz) <(zcat GCF_002191415.1_ASM219141v1.genomic.fna.gz) <(zcat GCF_000705115.1_Brucella_melitensis_C-555.genomic.fna.gz) <(zcat GCF_900446125.1_57572_C01.genomic.fna.gz) <(zcat GCF_000366345.1_Bruc_abor_80_102_V1.genomic.fna.gz) <(zcat GCF_000371165.1_Bruc_suis_F12_02_V1.genomic.fna.gz) <(zcat GCF_000740945.1_ASM74094v1.genomic.fna.gz) <(zcat GCF_001402005.1_ASM140200v1.genomic.fna.gz) <(zcat GCF_017177875.1_ASM1717787v1.genomic.fna.gz) <(zcat GCF_002263015.1_ASM226301v1.genomic.fna.gz) <(zcat GCF_004137225.1_ASM413722v1.genomic.fna.gz) <(zcat GCF_006506005.1_ASM650600v1.genomic.fna.gz) <(zcat GCF_000158795.1_ASM15879v1.genomic.fna.gz) <(zcat GCF_017177675.1_ASM1717767v1.genomic.fna.gz) <(zcat GCF_017177415.2_Bm-512.genomic.fna.gz) <(zcat GCF_900236525.1_Bru_genome6.genomic.fna.gz) <(zcat GCF_009733495.1_Brucella_abortus_I-181.genomic.fna.gz) <(zcat GCF_947242485.1_B79.genomic.fna.gz) <(zcat GCF_014084005.1_ASM1408400v1.genomic.fna.gz) <(zcat GCF_006506035.1_ASM650603v1.genomic.fna.gz) <(zcat GCF_000740315.1_ASM74031v1.genomic.fna.gz) <(zcat GCF_000612245.1_OchInt1.0.genomic.fna.gz) <(zcat GCF_003994095.1_ASM399409v1.genomic.fna.gz) <(zcat GCF_000370365.1_Bruc_abor_F1_06-B21_V1.genomic.fna.gz) <(zcat GCF_000245955.1_Bruc_abor_bv1_NI021_V1.genomic.fna.gz) <(zcat GCF_002191455.1_ASM219145v1.genomic.fna.gz) <(zcat GCF_006507105.1_ASM650710v1.genomic.fna.gz) <(zcat GCF_017177715.1_ASM1717771v1.genomic.fna.gz) <(zcat GCF_001937875.1_ASM193787v1.genomic.fna.gz) <(zcat GCF_002191575.1_ASM219157v1.genomic.fna.gz) <(zcat GCF_000371205.1_Bruc_suis_F5_05-4_V1.genomic.fna.gz) <(zcat GCF_017177745.1_ASM1717774v1.genomic.fna.gz) <(zcat GCF_009733375.1_Brucella_abortus_C-551.genomic.fna.gz) <(zcat GCF_003989725.1_ASM398972v1.genomic.fna.gz) <(zcat GCF_900000005.1_BVF60.genomic.fna.gz) <(zcat GCF_947242345.1_B32.genomic.fna.gz) <(zcat GCF_000413975.1_Bruc_abor_biovar_1_89-0363_V1.genomic.fna.gz) <(zcat GCF_000413555.1_Bruc_abor_biovar_2_82-3893_V1.genomic.fna.gz) <(zcat GCF_000371025.1_Bruc_sp_F96_2_V1.genomic.fna.gz) <(zcat GCF_000292125.1_ASM29212v1.genomic.fna.gz) <(zcat GCF_001938045.1_ASM193804v1.genomic.fna.gz) <(zcat GCF_028621035.1_ASM2862103v1.genomic.fna.gz) <(zcat GCF_023651315.1_ASM2365131v1.genomic.fna.gz) <(zcat GCF_002262975.1_ASM226297v1.genomic.fna.gz) <(zcat GCF_009733285.1_Brucella_abortus_403.genomic.fna.gz) <(zcat GCF_024970695.1_ASM2497069v1.genomic.fna.gz) <(zcat GCF_001857585.1_ASM185758v1.genomic.fna.gz) <(zcat GCF_017177615.1_ASM1717761v1.genomic.fna.gz) <(zcat GCF_008932285.1_ASM893228v1.genomic.fna.gz) <(zcat GCF_024539785.1_ASM2453978v1.genomic.fna.gz) <(zcat GCF_006505935.1_ASM650593v1.genomic.fna.gz) <(zcat GCF_001766475.1_ASM176647v1.genomic.fna.gz) <(zcat GCF_000366145.1_Bruc_abor_CNGB_759_V1.genomic.fna.gz) <(zcat GCF_001715505.1_ASM171550v1.genomic.fna.gz) <(zcat GCF_023108915.1_ASM2310891v1.genomic.fna.gz) <(zcat GCF_002278695.1_ASM227869v1.genomic.fna.gz) <(zcat GCF_026241335.1_ASM2624133v1.genomic.fna.gz) <(zcat GCF_001937915.1_ASM193791v1.genomic.fna.gz) <(zcat GCF_000367065.1_Bruc_ovis_80_125_V1.genomic.fna.gz) <(zcat GCF_006506135.1_ASM650613v1.genomic.fna.gz) <(zcat GCF_006507295.1_ASM650729v1.genomic.fna.gz) <(zcat GCF_000292185.1_ASM29218v2.genomic.fna.gz) <(zcat GCF_006507325.1_ASM650732v1.genomic.fna.gz) <(zcat GCF_000755125.1_ASM75512v1.genomic.fna.gz) <(zcat GCF_002895105.1_ASM289510v1.genomic.fna.gz) <(zcat GCF_900497665.1_09-369-776-1.genomic.fna.gz) <(zcat GCF_016126105.1_ASM1612610v1.genomic.fna.gz) <(zcat GCF_902825335.1_OCH-ISR1.genomic.fna.gz) <(zcat GCF_003989635.1_ASM398963v1.genomic.fna.gz) <(zcat GCF_017177855.1_ASM1717785v1.genomic.fna.gz) <(zcat GCF_000740135.1_ASM74013v1.genomic.fna.gz) <(zcat GCF_003994185.1_ASM399418v1.genomic.fna.gz) <(zcat GCF_016483965.1_ASM1648396v1.genomic.fna.gz) <(zcat GCF_002150345.1_ASM215034v1.genomic.fna.gz) <(zcat GCF_000366845.1_Bruc_meli_64_150_V1.genomic.fna.gz) <(zcat GCF_002266775.1_ASM226677v1.genomic.fna.gz) <(zcat GCF_003994175.1_ASM399417v1.genomic.fna.gz) <(zcat GCF_001702315.1_ASM170231v1.genomic.fna.gz) <(zcat GCF_000739335.1_ASM73933v1.genomic.fna.gz) <(zcat GCF_000370505.1_Bruc_abor_NI352_V1.genomic.fna.gz) <(zcat GCF_000365625.1_Bruc_abor_LEVI237_V1.genomic.fna.gz) <(zcat GCF_002290125.1_ASM229012v1.genomic.fna.gz) <(zcat GCF_006507135.1_ASM650713v1.genomic.fna.gz) <(zcat GCF_000409625.1_60a.genomic.fna.gz) <(zcat GCF_947242445.1_B16.genomic.fna.gz) <(zcat GCF_000366545.1_Bruc_abor_CNGB_308_V1.genomic.fna.gz) <(zcat GCF_009789395.1_ASM978939v1.genomic.fna.gz) <(zcat GCF_009789345.1_ASM978934v1.genomic.fna.gz) <(zcat GCF_006506515.1_ASM650651v1.genomic.fna.gz) <(zcat GCF_900236435.1_Bru_genome23.genomic.fna.gz) <(zcat GCF_000366785.1_Bruc_abor_NI645_V1.genomic.fna.gz) <(zcat GCF_000250795.1_ASM25079v2.genomic.fna.gz) <(zcat GCF_008761615.1_ASM876161v1.genomic.fna.gz) <(zcat GCF_000365745.1_Bruc_abor_F3_01-0300_V1.genomic.fna.gz) <(zcat GCF_000331655.1_Brucella_melitensis_043.genomic.fna.gz) <(zcat GCF_000238175.1_ASM23817v1.genomic.fna.gz) <(zcat GCF_002252535.1_ASM225253v1.genomic.fna.gz) <(zcat GCF_016484065.1_ASM1648406v1.genomic.fna.gz) <(zcat GCF_000370265.1_Bruc_abor_84_26_V1.genomic.fna.gz) <(zcat GCF_000157755.1_ASM15775v1.genomic.fna.gz) <(zcat GCF_001937825.1_ASM193782v1.genomic.fna.gz) <(zcat GCF_000365845.1_Bruc_meli_F15_06-7_V1.genomic.fna.gz) <(zcat GCF_000365605.1_Bruc_abor_F2_06-8_V1.genomic.fna.gz) <(zcat GCF_017177815.2_Bm-500.genomic.fna.gz) <(zcat GCF_023651235.1_ASM2365123v1.genomic.fna.gz) <(zcat GCF_000298595.1_V1.0_of_Brucella_melitensis_bv_1_str_133.genomic.fna.gz) <(zcat GCF_000370085.1_Bruc_abor_64_108_V1.genomic.fna.gz) <(zcat GCF_006507595.1_ASM650759v1.genomic.fna.gz) <(zcat GCF_947241805.1_B14.genomic.fna.gz) <(zcat GCF_016128015.1_ASM1612801v1.genomic.fna.gz) <(zcat GCF_000160295.1_ASM16029v1.genomic.fna.gz) <(zcat GCF_001971625.1_ASM197162v1.genomic.fna.gz) <(zcat GCF_023651435.1_ASM2365143v1.genomic.fna.gz) <(zcat GCF_947242815.1_B53.genomic.fna.gz) <(zcat GCF_947242845.1_B38.genomic.fna.gz) <(zcat GCF_023651375.1_ASM2365137v1.genomic.fna.gz) <(zcat GCF_902807045.1_17-2122-4144.genomic.fna.gz) <(zcat GCF_000662035.2_Bceti2.0.genomic.fna.gz) <(zcat GCF_009733175.1_Brucella_abortus_317.genomic.fna.gz) <(zcat GCF_000366205.1_Bruc_suis_92_29_V1.genomic.fna.gz) <(zcat GCF_000366625.1_Bruc_meli_CNGB_1076_V1.genomic.fna.gz) <(zcat GCF_009789465.1_ASM978946v1.genomic.fna.gz) <(zcat GCF_006507075.1_ASM650707v1.genomic.fna.gz) <(zcat GCF_001715485.1_ASM171548v1.genomic.fna.gz) <(zcat GCF_000367265.1_Bruc_cani_CNGB_1172_V1.genomic.fna.gz) <(zcat GCF_003516045.1_ASM351604v1.genomic.fna.gz) <(zcat GCF_900236465.1_Bru_genome45.genomic.fna.gz) <(zcat GCF_000371085.1_Bruc_suis_01-5744_V1.genomic.fna.gz) <(zcat GCF_900417245.1_00-3099-5734.genomic.fna.gz) <(zcat GCF_003984745.1_ASM398474v1.genomic.fna.gz) <(zcat GCF_947242555.1_B108.genomic.fna.gz) <(zcat GCF_000698345.1_ASM69834v1.genomic.fna.gz) <(zcat GCF_000332835.1_ASM33283v1.genomic.fna.gz) <(zcat GCF_009789415.1_ASM978941v1.genomic.fna.gz) <(zcat GCF_006505925.1_ASM650592v1.genomic.fna.gz) <(zcat GCF_000158715.1_ASM15871v1.genomic.fna.gz) <(zcat GCF_020526685.1_ASM2052668v1.genomic.fna.gz) <(zcat GCF_947242515.1_B118.genomic.fna.gz) <(zcat GCF_006507365.1_ASM650736v1.genomic.fna.gz) <(zcat GCF_004127225.1_ASM412722v1.genomic.fna.gz) <(zcat GCF_008932585.1_ASM893258v1.genomic.fna.gz) <(zcat GCF_016107505.1_ASM1610750v1.genomic.fna.gz) <(zcat GCF_000662015.1_BrucellaInopinata1.0.genomic.fna.gz) <(zcat GCF_000413775.1_Bruc_abor_biovar_1_01-0585_V1.genomic.fna.gz) <(zcat GCF_003194875.1_ASM319487v1.genomic.fna.gz) <(zcat GCF_015624465.1_ASM1562446v1.genomic.fna.gz) <(zcat GCF_000163115.1_ASM16311v1.genomic.fna.gz) <(zcat GCF_947241965.1_B125.genomic.fna.gz) <(zcat GCF_000370965.1_Bruc_sp_F23_97_V1.genomic.fna.gz) <(zcat GCF_947242565.1_B107.genomic.fna.gz) <(zcat GCF_009789445.1_ASM978944v1.genomic.fna.gz) <(zcat GCF_947242045.1_B142.genomic.fna.gz) <(zcat GCF_023651455.1_ASM2365145v1.genomic.fna.gz) <(zcat GCF_003994205.1_ASM399420v1.genomic.fna.gz) <(zcat GCF_900095085.1_14913_1_10.genomic.fna.gz) <(zcat GCF_000366265.1_Bruc_suis_CNGB_786_V1.genomic.fna.gz) <(zcat GCF_003432005.1_ASM343200v1.genomic.fna.gz) <(zcat GCF_900236375.1_Bru_genome9.genomic.fna.gz) <(zcat GCF_017177445.1_ASM1717744v1.genomic.fna.gz) <(zcat GCF_000413755.1_Bruc_abor_biovar_1_01-0648_V1.genomic.fna.gz) <(zcat GCF_002191315.1_ASM219131v1.genomic.fna.gz) <(zcat GCF_000413715.1_Bruc_abor_biovar_2_90-1280_V1.genomic.fna.gz) <(zcat GCF_002204335.1_ASM220433v1.genomic.fna.gz) <(zcat GCF_001594165.1_ASM159416v1.genomic.fna.gz) <(zcat GCF_900236385.1_Bru_genome37.genomic.fna.gz) <(zcat GCF_006507675.1_ASM650767v1.genomic.fna.gz) <(zcat GCF_947242315.1_B54.genomic.fna.gz) <(zcat GCF_000367285.1_Bruc_cani_CNGB_1324_V1.genomic.fna.gz) <(zcat GCF_024126535.1_ASM2412653v1.genomic.fna.gz) <(zcat GCF_017177395.1_ASM1717739v1.genomic.fna.gz) <(zcat GCF_006506015.1_ASM650601v1.genomic.fna.gz) <(zcat GCF_000331635.1_Brucella_019.genomic.fna.gz) <(zcat GCF_006506095.1_ASM650609v1.genomic.fna.gz) <(zcat GCF_001307475.1_ASM130747v1.genomic.fna.gz) <(zcat GCF_006507185.1_ASM650718v1.genomic.fna.gz) <(zcat GCF_017177745.2_ASM1717774v2.genomic.fna.gz) <(zcat GCF_947241905.1_B40.genomic.fna.gz) <(zcat GCF_001856285.1_ASM185628v1.genomic.fna.gz) <(zcat GCF_947242785.1_B21.genomic.fna.gz) <(zcat GCF_002871075.1_ASM287107v1.genomic.fna.gz) <(zcat GCF_002191375.1_ASM219137v1.genomic.fna.gz) <(zcat GCF_014884525.1_ASM1488452v1.genomic.fna.gz) <(zcat GCF_000480035.1_Bruc_suis_06-791-1309_V1.genomic.fna.gz) <(zcat GCF_000661995.1_BrucellaSuis1.0.genomic.fna.gz) <(zcat GCF_900446115.1_59302_H01.genomic.fna.gz) <(zcat GCF_014270005.1_ASM1427000v1.genomic.fna.gz) <(zcat GCF_000585655.1_Ochant_v5.genomic.fna.gz) <(zcat GCF_013109225.1_ASM1310922v1.genomic.fna.gz) <(zcat GCF_012395285.1_ASM1239528v1.genomic.fna.gz) <(zcat GCF_000370285.1_Bruc_abor_85_69_V1.genomic.fna.gz) <(zcat GCF_002763615.1_ASM276361v1.genomic.fna.gz) <(zcat GCF_904066075.1_WS-Be-61.genomic.fna.gz) <(zcat GCF_000740375.1_ASM74037v1.genomic.fna.gz) <(zcat GCF_900446105.1_59302_A02.genomic.fna.gz) <(zcat GCF_002975235.1_ASM297523v1.genomic.fna.gz) <(zcat GCF_000477635.1_Bruc_abor_BC95_V1.genomic.fna.gz) <(zcat GCF_000367025.1_Bruc_meli_R3_07-2_V1.genomic.fna.gz) <(zcat GCF_023651595.1_ASM2365159v1.genomic.fna.gz) <(zcat GCF_000370845.1_Bruc_meli_UK31_99_V1.genomic.fna.gz) <(zcat GCF_016091965.1_ASM1609196v1.genomic.fna.gz) <(zcat GCF_001402075.1_ASM140207v1.genomic.fna.gz) <(zcat GCF_006506935.1_ASM650693v1.genomic.fna.gz) <(zcat GCF_000366825.1_Bruc_cani_UK10_02_V1.genomic.fna.gz) <(zcat GCF_006506195.1_ASM650619v1.genomic.fna.gz) <(zcat GCF_000365805.1_Bruc_abor_NI274_V1.genomic.fna.gz) <(zcat GCF_000182235.1_ASM18223v1.genomic.fna.gz) <(zcat GCF_006507495.1_ASM650749v1.genomic.fna.gz) <(zcat GCF_028129065.1_ASM2812906v1.genomic.fna.gz) <(zcat GCF_001402095.1_ASM140209v1.genomic.fna.gz) <(zcat GCF_001401995.1_ASM140199v1.genomic.fna.gz) <(zcat GCF_006506975.1_ASM650697v1.genomic.fna.gz) <(zcat GCF_903131625.1_BCH.genomic.fna.gz) <(zcat GCF_947242195.1_B17.genomic.fna.gz) <(zcat GCF_947241935.1_B131.genomic.fna.gz) <(zcat GCF_009733195.1_Brucella_abortus_313.genomic.fna.gz) <(zcat GCF_000370685.1_Bruc_meli_F8_01-155_V1.genomic.fna.gz) <(zcat GCF_947241845.1_B161.genomic.fna.gz) <(zcat GCF_000370525.1_Bruc_abor_NI422_V1.genomic.fna.gz) <(zcat GCF_000365865.1_Bruc_meli_B115_V1.genomic.fna.gz) <(zcat GCF_003965945.1_ASM396594v1.genomic.fna.gz) <(zcat GCF_023651495.1_ASM2365149v1.genomic.fna.gz) <(zcat GCF_947242695.1_B39.genomic.fna.gz) <(zcat GCF_001715385.1_ASM171538v1.genomic.fna.gz) <(zcat GCF_000661995.2_Bsuis2.0.genomic.fna.gz) <(zcat GCF_006506665.1_ASM650666v1.genomic.fna.gz) <(zcat GCF_017177815.1_ASM1717781v1.genomic.fna.gz) <(zcat GCF_002191555.1_ASM219155v1.genomic.fna.gz) <(zcat GCF_006506635.1_ASM650663v1.genomic.fna.gz) <(zcat GCF_000007505.1_ASM750v1.genomic.fna.gz) <(zcat GCF_002252525.1_ASM225252v1.genomic.fna.gz) <(zcat GCF_000366565.1_Bruc_abor_CNGB_436_V1.genomic.fna.gz) <(zcat GCF_008932835.1_ASM893283v1.genomic.fna.gz) <(zcat GCF_003194805.1_ASM319480v1.genomic.fna.gz) <(zcat GCF_006506815.1_ASM650681v1.genomic.fna.gz) <(zcat GCF_000365785.1_Bruc_abor_F1_06-B1_V1.genomic.fna.gz) <(zcat GCF_016806105.1_ASM1680610v1.genomic.fna.gz) <(zcat GCF_900446135.1_58116_C01.genomic.fna.gz) <(zcat GCF_900417235.1_00-2782.genomic.fna.gz) <(zcat GCF_003993995.1_ASM399399v1.genomic.fna.gz) <(zcat GCF_006506025.1_ASM650602v1.genomic.fna.gz) <(zcat GCF_000370985.1_Bruc_sp_F5_06_V1.genomic.fna.gz) <(zcat GCF_000227645.1_ASM22764v1.genomic.fna.gz) <(zcat GCF_000209575.2_ASM20957v2.genomic.fna.gz) <(zcat GCF_006517335.1_ASM651733v1.genomic.fna.gz) <(zcat GCF_000158755.1_ASM15875v1.genomic.fna.gz) <(zcat GCF_006506105.1_ASM650610v1.genomic.fna.gz) <(zcat GCF_001715365.1_ASM171536v1.genomic.fna.gz) <(zcat GCF_008932885.1_ASM893288v1.genomic.fna.gz) <(zcat GCF_001715465.1_ASM171546v1.genomic.fna.gz) <(zcat GCF_002291385.1_ASM229138v1.genomic.fna.gz) <(zcat GCF_009823695.1_ASM982369v1.genomic.fna.gz) <(zcat GCF_006507465.1_ASM650746v1.genomic.fna.gz) <(zcat GCF_009789435.1_ASM978943v1.genomic.fna.gz) <(zcat GCF_000366365.1_Bruc_abor_80_108_V1.genomic.fna.gz) <(zcat GCF_000370145.1_Bruc_abor_65_63_V1.genomic.fna.gz) <(zcat GCF_947242435.1_B24.genomic.fna.gz) <(zcat GCF_000480175.1_Bruc_abor_89-2646-1238_V1.genomic.fna.gz) <(zcat GCF_947241825.1_B127.genomic.fna.gz) <(zcat GCF_947242735.1_B138.genomic.fna.gz) <(zcat GCF_002290705.1_ASM229070v1.genomic.fna.gz) <(zcat GCF_006506685.1_ASM650668v1.genomic.fna.gz) <(zcat GCF_000480255.1_Bruc_abor_99-9971-135_V1.genomic.fna.gz) <(zcat GCF_900417205.1_00-2956-4.genomic.fna.gz) <(zcat GCF_016091955.1_ASM1609195v1.genomic.fna.gz) <(zcat GCF_000370445.1_Bruc_abor_F6_05-3_V1.genomic.fna.gz) <(zcat GCF_003194825.1_ASM319482v1.genomic.fna.gz) <(zcat GCF_003994075.1_ASM399407v1.genomic.fna.gz) <(zcat GCF_024799785.1_ASM2479978v1.genomic.fna.gz) <(zcat GCF_004208695.1_ASM420869v1.genomic.fna.gz) <(zcat GCF_001608355.1_BMEL002-SEQ-1-ASM-1.genomic.fna.gz) <(zcat GCF_900454235.1_34576_A02.genomic.fna.gz) <(zcat GCF_000366045.1_Bruc_ovis_IntaBari-2009-88-4_V1.genomic.fna.gz) <(zcat GCF_006506895.1_ASM650689v1.genomic.fna.gz) <(zcat GCF_006507875.1_ASM650787v1.genomic.fna.gz) <(zcat GCF_002191875.1_ASM219187v1.genomic.fna.gz) <(zcat GCF_900446055.1_59014_A01.genomic.fna.gz) <(zcat GCF_947241815.1_B162.genomic.fna.gz) <(zcat GCF_014495905.1_ASM1449590v1.genomic.fna.gz) <(zcat GCF_002262995.1_ASM226299v1.genomic.fna.gz) <(zcat GCF_028620895.1_ASM2862089v1.genomic.fna.gz) <(zcat GCF_014495725.1_ASM1449572v1.genomic.fna.gz) <(zcat GCF_017177895.1_ASM1717789v1.genomic.fna.gz) <(zcat GCF_009017355.1_ASM901735v1.genomic.fna.gz) <(zcat GCF_947241835.1_B160.genomic.fna.gz) <(zcat GCF_900236445.1_Bru_genome2.genomic.fna.gz) <(zcat GCF_000370005.1_Bruc_abor_63_138_V1.genomic.fna.gz) <(zcat GCF_000739315.1_ASM73931v1.genomic.fna.gz) <(zcat GCF_001937805.1_ASM193780v1.genomic.fna.gz) <(zcat GCF_000370565.1_Bruc_abor_R42-08_V1.genomic.fna.gz) <(zcat GCF_001766405.1_ASM176640v1.genomic.fna.gz) <(zcat GCF_000370165.1_Bruc_abor_67_93_V1.genomic.fna.gz) <(zcat GCF_006508015.1_ASM650801v1.genomic.fna.gz) <(zcat GCF_000370825.1_Bruc_meli_UK3_06_V1.genomic.fna.gz) <(zcat GCF_000698245.1_ASM69824v1.genomic.fna.gz) <(zcat GCF_003993895.1_ASM399389v1.genomic.fna.gz) <(zcat GCF_023651035.1_ASM2365103v1.genomic.fna.gz) <(zcat GCF_017177355.1_ASM1717735v1.genomic.fna.gz) <(zcat GCF_002749475.1_ASM274947v1.genomic.fna.gz) "
   ]
  },
  {
   "cell_type": "code",
   "execution_count": null,
   "metadata": {},
   "outputs": [],
   "source": [
    "  <(zcat GCF_005938105.1_ASM593810v1.genomic.fna.gz)"
   ]
  },
  {
   "cell_type": "markdown",
   "metadata": {},
   "source": [
    "### count individual files and dump to tsv"
   ]
  },
  {
   "cell_type": "code",
   "execution_count": null,
   "metadata": {},
   "outputs": [],
   "source": [
    "cd data"
   ]
  },
  {
   "cell_type": "code",
   "execution_count": null,
   "metadata": {},
   "outputs": [],
   "source": [
    "'''# first file test\n",
    "file = open(\"jellyfishcmd.sh\", \"w\")\n",
    "cmd = 'jellyfish count -m 25 -s 100M -t 10 -o firstoutput.jf -C <(zcat GCF_900446045.1_58932_D01.genomic.fna.gz) \\n jellyfish dump -L 25 -U 1139 firstoutput.jf> firstoutput.tsv'\n",
    "file.write(cmd)\n",
    "file.close()\n",
    "file1 = open(\"jellyfishcmd.sh\", \"r\")\n",
    "file1.readlines()'''"
   ]
  },
  {
   "cell_type": "code",
   "execution_count": null,
   "metadata": {},
   "outputs": [],
   "source": [
    "all_file_names[0:2]"
   ]
  },
  {
   "cell_type": "code",
   "execution_count": null,
   "metadata": {},
   "outputs": [],
   "source": [
    "file0 = open(\"all_jellyfish_cmds.sh\", \"w\")\n",
    "for file_names in all_file_names:\n",
    "    cmd = 'jellyfish count -m 25 -s 100M -t 10 -o ' + file_names[:-15] + '.jf -C <(zcat ' + file_names + ')\\njellyfish dump -L 25 -U 1139 ' + file_names[:-15] + '.jf> ' + file_names[:-15] + '.tsv' +' \\n'\n",
    "    file0.write(cmd)\n",
    "    \n",
    "file0.close()\n",
    "file01 = open(\"all_jellyfish_cmds.sh\", \"r\")\n",
    "file01.readlines()"
   ]
  },
  {
   "cell_type": "code",
   "execution_count": 61,
   "metadata": {},
   "outputs": [
    {
     "name": "stdout",
     "output_type": "stream",
     "text": [
      "/hobbitholes/waymoot/hchen/acheron/acheron/data\n"
     ]
    }
   ],
   "source": [
    "cd data"
   ]
  },
  {
   "cell_type": "code",
   "execution_count": 63,
   "metadata": {},
   "outputs": [
    {
     "name": "stdout",
     "output_type": "stream",
     "text": [
      "firstoutput.tsv  GCF_005938105.1_ASM593810v1.tsv  GCF_900446045.1_58932_D01.tsv\r\n"
     ]
    }
   ],
   "source": [
    "ls *.tsv"
   ]
  },
  {
   "cell_type": "markdown",
   "metadata": {},
   "source": [
    "#### in terminal:"
   ]
  },
  {
   "cell_type": "code",
   "execution_count": null,
   "metadata": {},
   "outputs": [],
   "source": [
    "chmod +x all_jellyfish_cmds.sh #give permission for execution"
   ]
  },
  {
   "cell_type": "code",
   "execution_count": null,
   "metadata": {},
   "outputs": [],
   "source": [
    "./all_jellyfish_cmds.sh"
   ]
  },
  {
   "cell_type": "code",
   "execution_count": null,
   "metadata": {},
   "outputs": [],
   "source": [
    "sbatch -c 4 --mem 10G --wrap=\"./all_jellyfish_cmds.sh\""
   ]
  },
  {
   "cell_type": "code",
   "execution_count": null,
   "metadata": {},
   "outputs": [],
   "source": [
    "ls firstoutput*"
   ]
  },
  {
   "cell_type": "code",
   "execution_count": null,
   "metadata": {},
   "outputs": [],
   "source": [
    "firstoutput_file1 = open(\"firstoutput.tsv\")\n",
    "firstoutput_contents1 = firstoutput_file1.readlines()\n",
    "len(firstoutput_contents1)"
   ]
  },
  {
   "cell_type": "code",
   "execution_count": null,
   "metadata": {},
   "outputs": [],
   "source": [
    "firstoutput_file = open(\"firstoutput.tsv\")\n",
    "firstoutput_contents = firstoutput_file.readlines()\n",
    "len(firstoutput_contents)"
   ]
  },
  {
   "cell_type": "code",
   "execution_count": null,
   "metadata": {},
   "outputs": [],
   "source": [
    "firstoutput=pd.read_csv('firstoutput.tsv',sep='\\n', header = None, delimiter = \">\")\n",
    "firstoutput"
   ]
  },
  {
   "cell_type": "code",
   "execution_count": null,
   "metadata": {},
   "outputs": [],
   "source": [
    "'''\n",
    "for i in range(len(firstoutput)):\n",
    "    count = []\n",
    "    kmer = []\n",
    "    if i % 2 ==0:\n",
    "        count.append(firstoutput[0][i])\n",
    "    elif i % 2 !=0:\n",
    "        kmer.append(firstoutput[0][i])\n",
    "kmer\n",
    "'''"
   ]
  },
  {
   "cell_type": "code",
   "execution_count": null,
   "metadata": {},
   "outputs": [],
   "source": [
    "1%2"
   ]
  },
  {
   "cell_type": "code",
   "execution_count": null,
   "metadata": {},
   "outputs": [],
   "source": [
    "yes = []\n",
    "yes.append(firstoutput[0][1])\n",
    "yes"
   ]
  },
  {
   "cell_type": "markdown",
   "metadata": {},
   "source": [
    "### Sam's function"
   ]
  },
  {
   "cell_type": "code",
   "execution_count": null,
   "metadata": {},
   "outputs": [],
   "source": [
    "def read_to_csv(file):\n",
    "    with open(file, 'r') as f:\n",
    "        lines = f.readlines()\n",
    "        hk = []\n",
    "        c = []\n",
    "        #for line,hk,c in zip(lines, hashed_kmers, counts):\n",
    "        for line in lines:\n",
    "            col = line.split('\\t')\n",
    "            hk.append(mmh3.hash64(col[0],42)[0])\n",
    "            c.append(col[1].strip('\\n'))\n",
    "        df = pd.DataFrame({file:c},\n",
    "                            index=hk)\n",
    "        df[file] = df[file].astype('int8')\n",
    "        return df"
   ]
  },
  {
   "cell_type": "code",
   "execution_count": null,
   "metadata": {},
   "outputs": [],
   "source": [
    "files = [file for file in os.listdir('./') if file.endswith('.tsv')]\n",
    "files"
   ]
  },
  {
   "cell_type": "code",
   "execution_count": null,
   "metadata": {},
   "outputs": [],
   "source": [
    "read_to_csv(files)"
   ]
  },
  {
   "cell_type": "code",
   "execution_count": null,
   "metadata": {},
   "outputs": [],
   "source": [
    "exp = open(\"firstoutput.jf\", encoding = \"utf-8\")\n",
    "contents = exp.readlines()\n",
    "head(contents)"
   ]
  },
  {
   "cell_type": "code",
   "execution_count": null,
   "metadata": {},
   "outputs": [],
   "source": [
    "jellyfish dump firstoutput.jf > firstoutput1.jf"
   ]
  },
  {
   "cell_type": "code",
   "execution_count": null,
   "metadata": {},
   "outputs": [],
   "source": [
    "--out-counter-len"
   ]
  },
  {
   "cell_type": "code",
   "execution_count": null,
   "metadata": {},
   "outputs": [],
   "source": [
    "1 % 2"
   ]
  },
  {
   "cell_type": "code",
   "execution_count": null,
   "metadata": {},
   "outputs": [],
   "source": [
    "lines[1].strip('\\n')"
   ]
  },
  {
   "cell_type": "code",
   "execution_count": null,
   "metadata": {},
   "outputs": [],
   "source": [
    "haha = open(r\"mer_counts_dumps.jf\",encoding=\"utf-8\")\n",
    "lines = haha.readlines()\n",
    "counts = []\n",
    "kmers = []\n",
    "for i in range(len(lines)):\n",
    "    if i % 2 == 0:\n",
    "        counts.append(lines[i].strip('\\n'))\n",
    "    elif i % 2 == 1:\n",
    "        kmers.append(lines[i].strip('\\n'))\n",
    "    else:\n",
    "        print(\"oops!!!!!!!!!!!!!!!!!!!\")\n",
    "        break"
   ]
  },
  {
   "cell_type": "code",
   "execution_count": null,
   "metadata": {},
   "outputs": [],
   "source": [
    "len(lines)"
   ]
  },
  {
   "cell_type": "code",
   "execution_count": null,
   "metadata": {},
   "outputs": [],
   "source": [
    "len(lines)"
   ]
  },
  {
   "cell_type": "code",
   "execution_count": null,
   "metadata": {},
   "outputs": [],
   "source": [
    "counts"
   ]
  },
  {
   "cell_type": "code",
   "execution_count": null,
   "metadata": {},
   "outputs": [],
   "source": [
    "for i in range(len(counts)):\n",
    "    counts[i] = counts[i][1:]"
   ]
  },
  {
   "cell_type": "code",
   "execution_count": null,
   "metadata": {},
   "outputs": [],
   "source": [
    "counts"
   ]
  },
  {
   "cell_type": "code",
   "execution_count": null,
   "metadata": {},
   "outputs": [],
   "source": [
    "counts"
   ]
  },
  {
   "cell_type": "code",
   "execution_count": null,
   "metadata": {},
   "outputs": [],
   "source": [
    "def read_to_csv(file):\n",
    "    with open(file, 'r') as f:\n",
    "        lines = f.readlines()\n",
    "        hk = []\n",
    "        c = []\n",
    "        #for line,hk,c in zip(lines, hashed_kmers, counts):\n",
    "        for line in lines:\n",
    "            col = line.split('\\t')\n",
    "            hk.append(mmh3.hash64(col[0],42)[0])\n",
    "            c.append(col[1].strip('\\n'))\n",
    "        df = pd.DataFrame({file:c},\n",
    "                            index=hk)\n",
    "        df[file] = df[file].astype('int8')\n",
    "        return df"
   ]
  },
  {
   "cell_type": "code",
   "execution_count": null,
   "metadata": {},
   "outputs": [],
   "source": [
    "file = 'mer_counts_dumps.jf'\n",
    "with open(file, 'r') as f:\n",
    "    lines = f.readlines()\n",
    "    hk = []\n",
    "    c = []\n",
    "    for line in lines:\n",
    "        col = line.split('\\t')\n",
    "        hk.append(mmh3.hash64(col[0],42)[0])\n",
    "        c.append(col[0].strip('\\n'))\n",
    "    df = pd.DataFrame({file:c},\n",
    "                        index=hk)\n",
    "#     df[file] = df[file].astype('int8')"
   ]
  },
  {
   "cell_type": "code",
   "execution_count": null,
   "metadata": {},
   "outputs": [],
   "source": [
    "df[df['mer_counts_dumps.jf'] != '>1']"
   ]
  },
  {
   "cell_type": "code",
   "execution_count": null,
   "metadata": {},
   "outputs": [],
   "source": [
    "col[0]"
   ]
  },
  {
   "cell_type": "code",
   "execution_count": null,
   "metadata": {},
   "outputs": [],
   "source": [
    "read_to_csv('mer_counts_dumps.jf')"
   ]
  },
  {
   "cell_type": "code",
   "execution_count": null,
   "metadata": {},
   "outputs": [],
   "source": [
    "pd.read_csv('mer_counts_dumps.csv')"
   ]
  },
  {
   "cell_type": "code",
   "execution_count": null,
   "metadata": {},
   "outputs": [],
   "source": [
    "cmd1 = 'gzip -dk GCF_000007505.1_ASM750v1.genomic.fna.gz'.split()\n",
    "step1 = subprocess.run(cmd1, shell = False, check= False, stdout = subprocess.PIPE,\n",
    "                           stderr = subprocess.PIPE)"
   ]
  },
  {
   "cell_type": "code",
   "execution_count": null,
   "metadata": {},
   "outputs": [],
   "source": [
    "gzip GCF_900446045.1_58932_D01.genomic.fna"
   ]
  },
  {
   "cell_type": "code",
   "execution_count": null,
   "metadata": {},
   "outputs": [],
   "source": [
    "cmd1 = 'jellyfish count -m 25 -s 100M -t 10 -C <(zcat GCF_900446045.1_58932_D01.genomic.fna.gz)'.split()\n",
    "subprocess.run(cmd1, shell = False, check= False, stdout = subprocess.PIPE,\n",
    "                           stderr = subprocess.PIPE)"
   ]
  },
  {
   "cell_type": "code",
   "execution_count": null,
   "metadata": {},
   "outputs": [],
   "source": [
    "ls | wc -l"
   ]
  },
  {
   "cell_type": "code",
   "execution_count": null,
   "metadata": {},
   "outputs": [],
   "source": [
    "ls *.fna.gz"
   ]
  },
  {
   "cell_type": "code",
   "execution_count": null,
   "metadata": {},
   "outputs": [],
   "source": [
    "cmd1 = 'ls'.split()\n",
    "step1 = subprocess.run(cmd1, shell = False, check= False,stdout = subprocess.PIPE,\n",
    "                       stderr = subprocess.PIPE)\n",
    "cmd2 = 'xargs -n 1 echo gunzip -c > generators.txt'.split()\n",
    "step2 = subprocess.run(cmd2, shell = False, check = False)"
   ]
  },
  {
   "cell_type": "code",
   "execution_count": null,
   "metadata": {},
   "outputs": [],
   "source": [
    "stdout = subprocess.PIPE,\n",
    "                       stderr = subprocess.PIPE"
   ]
  },
  {
   "cell_type": "code",
   "execution_count": null,
   "metadata": {},
   "outputs": [],
   "source": [
    "jellyfish count -g generators -G 4 ..."
   ]
  },
  {
   "cell_type": "code",
   "execution_count": null,
   "metadata": {},
   "outputs": [],
   "source": [
    "GCF_000007505.1_ASM750v1.genomic.fna.gz"
   ]
  },
  {
   "cell_type": "code",
   "execution_count": null,
   "metadata": {},
   "outputs": [],
   "source": [
    "jellyfish count -m 25 -s 100M -t 10 -C "
   ]
  },
  {
   "cell_type": "code",
   "execution_count": null,
   "metadata": {},
   "outputs": [],
   "source": [
    "jellyfish count -m 4 -s 100M -t 10 -C <(zcat GCF_900446045.1_58932_D01.genomic.fna.gz)"
   ]
  },
  {
   "cell_type": "code",
   "execution_count": null,
   "metadata": {},
   "outputs": [],
   "source": [
    "jellyfish dump mer_counts.jf > mer_counts_dumps.tsv"
   ]
  },
  {
   "cell_type": "markdown",
   "metadata": {},
   "source": [
    "# needles in the hay"
   ]
  },
  {
   "cell_type": "code",
   "execution_count": null,
   "metadata": {},
   "outputs": [],
   "source": [
    "ls rev*"
   ]
  },
  {
   "cell_type": "code",
   "execution_count": null,
   "metadata": {},
   "outputs": [],
   "source": [
    "df = pd.read_parquet('rev_comp_dictionary.parquet')"
   ]
  },
  {
   "cell_type": "code",
   "execution_count": null,
   "metadata": {},
   "outputs": [],
   "source": [
    "np.shape(df)"
   ]
  },
  {
   "cell_type": "code",
   "execution_count": null,
   "metadata": {},
   "outputs": [],
   "source": [
    "df.head()"
   ]
  },
  {
   "cell_type": "code",
   "execution_count": null,
   "metadata": {},
   "outputs": [],
   "source": [
    "ls *.parquet"
   ]
  },
  {
   "cell_type": "code",
   "execution_count": null,
   "metadata": {},
   "outputs": [],
   "source": [
    "cd acheron"
   ]
  },
  {
   "cell_type": "code",
   "execution_count": null,
   "metadata": {},
   "outputs": [],
   "source": [
    "ls"
   ]
  },
  {
   "cell_type": "markdown",
   "metadata": {},
   "source": [
    "# Reducing RAM"
   ]
  },
  {
   "cell_type": "markdown",
   "metadata": {},
   "source": [
    "### don't do print?\n",
    "Sparse[int8]"
   ]
  },
  {
   "cell_type": "code",
   "execution_count": null,
   "metadata": {},
   "outputs": [],
   "source": [
    " np.int8(0)"
   ]
  },
  {
   "cell_type": "code",
   "execution_count": null,
   "metadata": {},
   "outputs": [],
   "source": [
    "bad = pd.DataFrame([[0,1,1], [1,1,1],[0,0,0]],columns= ['DSHF.0.1_47923874','GCA121441.1.122.SDHAFSKDJJBGHMA','21423'])\n",
    "bad"
   ]
  },
  {
   "cell_type": "code",
   "execution_count": null,
   "metadata": {},
   "outputs": [],
   "source": [
    "bad.info(memory_usage=\"deep\")"
   ]
  },
  {
   "cell_type": "code",
   "execution_count": null,
   "metadata": {},
   "outputs": [],
   "source": [
    "good = pd.DataFrame([[0,1,1],[1,1,1],[0,0,0]],columns= ['DSHF.0.1_47923874','GCA121441.1.122.SDHAFSKDJJBGHMA','21423'], dtype = np.int8)\n",
    "good"
   ]
  },
  {
   "cell_type": "code",
   "execution_count": null,
   "metadata": {},
   "outputs": [],
   "source": [
    "print(\"Memory usage before changing the datatype:\", good.memory_usage())\n",
    "good = good.astype('int8')\n",
    "print(\"Memory usage after changing the datatype:\", good.memory_usage())"
   ]
  },
  {
   "cell_type": "code",
   "execution_count": null,
   "metadata": {},
   "outputs": [],
   "source": [
    "# good = good.apply(pd.to_numeric,downcast='integer')\n",
    "print (good.dtypes)"
   ]
  },
  {
   "cell_type": "code",
   "execution_count": null,
   "metadata": {},
   "outputs": [],
   "source": [
    "good.info(memory_usage=\"deep\")"
   ]
  },
  {
   "cell_type": "code",
   "execution_count": null,
   "metadata": {},
   "outputs": [],
   "source": [
    "for i in good.columns:\n",
    "    for a in [0,1,2]:\n",
    "        good.at[a,i] =  np.int8(0)"
   ]
  },
  {
   "cell_type": "code",
   "execution_count": null,
   "metadata": {},
   "outputs": [],
   "source": [
    "good['21423'] = np.int8(0)"
   ]
  },
  {
   "cell_type": "code",
   "execution_count": null,
   "metadata": {},
   "outputs": [],
   "source": [
    "good = good.astype('int8')"
   ]
  },
  {
   "cell_type": "code",
   "execution_count": null,
   "metadata": {},
   "outputs": [],
   "source": []
  },
  {
   "cell_type": "code",
   "execution_count": null,
   "metadata": {},
   "outputs": [],
   "source": [
    "good.info(memory_usage=\"deep\")"
   ]
  },
  {
   "cell_type": "code",
   "execution_count": null,
   "metadata": {},
   "outputs": [],
   "source": [
    "/usr/bin/time -v sbatch -c 4 --mem 20G --wrap=\"python needle_in_the_hay.py rev_comp_dictionary.parquet data final_df_test_fast.parquet\""
   ]
  },
  {
   "cell_type": "code",
   "execution_count": null,
   "metadata": {},
   "outputs": [],
   "source": [
    "cd data"
   ]
  },
  {
   "cell_type": "code",
   "execution_count": null,
   "metadata": {},
   "outputs": [],
   "source": [
    "cd acheron/acheron"
   ]
  },
  {
   "cell_type": "code",
   "execution_count": null,
   "metadata": {},
   "outputs": [],
   "source": [
    "ls *.parquet"
   ]
  },
  {
   "cell_type": "code",
   "execution_count": null,
   "metadata": {},
   "outputs": [],
   "source": [
    "# rev_comp_dictionary.parquet data final_df.parquet"
   ]
  },
  {
   "cell_type": "code",
   "execution_count": null,
   "metadata": {},
   "outputs": [],
   "source": [
    "sbatch -c 1 --mem 120G --partition low --nodelist=cl-node-01"
   ]
  },
  {
   "cell_type": "code",
   "execution_count": null,
   "metadata": {},
   "outputs": [],
   "source": [
    "final_df = pd.DataFrame(index=[*set(kmer_df[1])],dtype = 'int8')\n",
    "final_df.info(memory_usage=\"deep\")"
   ]
  },
  {
   "cell_type": "code",
   "execution_count": null,
   "metadata": {},
   "outputs": [],
   "source": [
    "\n",
    "pd.read_parquet('final_df_test_fast.parquet')"
   ]
  },
  {
   "cell_type": "markdown",
   "metadata": {},
   "source": [
    "# create training df"
   ]
  },
  {
   "cell_type": "code",
   "execution_count": null,
   "metadata": {},
   "outputs": [],
   "source": [
    "df1 = pd.DataFrame([[0,1,1], [1,1,1],[0,0,0]],columns=[1,2,3])\n",
    "df1"
   ]
  },
  {
   "cell_type": "code",
   "execution_count": null,
   "metadata": {},
   "outputs": [],
   "source": [
    "df2 = pd.DataFrame([[1,1,0], [1,1,1],[0,0,0]],columns=[2,3, 1])\n",
    "df2"
   ]
  },
  {
   "cell_type": "code",
   "execution_count": null,
   "metadata": {},
   "outputs": [],
   "source": [
    "df1.eq(df2)"
   ]
  },
  {
   "cell_type": "code",
   "execution_count": null,
   "metadata": {},
   "outputs": [],
   "source": [
    "df1.head(1)"
   ]
  },
  {
   "cell_type": "markdown",
   "metadata": {},
   "source": [
    "## transpose df using memory efficient method"
   ]
  },
  {
   "cell_type": "code",
   "execution_count": null,
   "metadata": {},
   "outputs": [],
   "source": [
    "df11 = df1.swapaxes(\"index\", \"columns\")\n",
    "df11"
   ]
  },
  {
   "cell_type": "code",
   "execution_count": null,
   "metadata": {},
   "outputs": [],
   "source": [
    "np.shape(df11)[0]"
   ]
  },
  {
   "cell_type": "code",
   "execution_count": null,
   "metadata": {},
   "outputs": [],
   "source": [
    "from csv import writer\n",
    "with open('event.csv', 'w') as f:\n",
    "    for index, row in df11.iterrows():\n",
    "        print(row)\n",
    "        row.to_csv(f, header = False)"
   ]
  },
  {
   "cell_type": "code",
   "execution_count": null,
   "metadata": {},
   "outputs": [],
   "source": [
    "pd.read_csv('event.csv')"
   ]
  },
  {
   "cell_type": "code",
   "execution_count": null,
   "metadata": {},
   "outputs": [],
   "source": [
    "rm event.csv"
   ]
  },
  {
   "cell_type": "code",
   "execution_count": null,
   "metadata": {},
   "outputs": [],
   "source": [
    "ls event.csv"
   ]
  },
  {
   "cell_type": "code",
   "execution_count": null,
   "metadata": {},
   "outputs": [],
   "source": []
  },
  {
   "cell_type": "code",
   "execution_count": null,
   "metadata": {},
   "outputs": [],
   "source": [
    "df2.info(memory_usage=\"deep\")"
   ]
  },
  {
   "cell_type": "code",
   "execution_count": null,
   "metadata": {},
   "outputs": [],
   "source": [
    "arr2 = df2.to_numpy()"
   ]
  },
  {
   "cell_type": "code",
   "execution_count": null,
   "metadata": {},
   "outputs": [],
   "source": [
    "arr2.nbytes"
   ]
  },
  {
   "cell_type": "code",
   "execution_count": null,
   "metadata": {},
   "outputs": [],
   "source": [
    "df2 = df2.astype('int8')"
   ]
  },
  {
   "cell_type": "code",
   "execution_count": null,
   "metadata": {},
   "outputs": [],
   "source": [
    "df2.info(memory_usage=\"deep\")"
   ]
  },
  {
   "cell_type": "code",
   "execution_count": null,
   "metadata": {},
   "outputs": [],
   "source": [
    "arr2 = df2.to_numpy()"
   ]
  },
  {
   "cell_type": "code",
   "execution_count": null,
   "metadata": {},
   "outputs": [],
   "source": [
    "arr2.nbytes"
   ]
  },
  {
   "cell_type": "code",
   "execution_count": null,
   "metadata": {},
   "outputs": [],
   "source": [
    "arr2t = np.transpose(arr2)\n",
    "arr2t"
   ]
  },
  {
   "cell_type": "code",
   "execution_count": null,
   "metadata": {},
   "outputs": [],
   "source": [
    "col_in_df = df2.index.values.tolist()"
   ]
  },
  {
   "cell_type": "code",
   "execution_count": null,
   "metadata": {},
   "outputs": [],
   "source": [
    "ind_in_df = df2.columns.values.tolist()"
   ]
  },
  {
   "cell_type": "code",
   "execution_count": null,
   "metadata": {},
   "outputs": [],
   "source": [
    "no_species = pd.DataFrame(arr2t, index = ind_in_df, columns = col_in_df)\n",
    "no_species"
   ]
  },
  {
   "cell_type": "code",
   "execution_count": null,
   "metadata": {},
   "outputs": [],
   "source": [
    "species_df = pd.DataFrame([[2,2,1]], columns = [1,2,3])\n",
    "species_df = species_df.T\n",
    "species_df.columns = ['species']\n",
    "species_df"
   ]
  },
  {
   "cell_type": "code",
   "execution_count": null,
   "metadata": {},
   "outputs": [],
   "source": [
    "pd.merge(no_species,species_df, left_index=True, right_index=True)"
   ]
  },
  {
   "cell_type": "markdown",
   "metadata": {},
   "source": [
    "/usr/bin/time -v /hobbitholes/waymoot/hchen/micromamba/envs/ach.0.8/bin/python /hobbitholes/waymoot/hchen/acheron/acheron/needle_in_the_hay.py /hobbitholes/waymoot/hchen/acheron/acheron/rev_comp_dictionary.parquet /hobbitholes/waymoot/hchen/acheron/acheron/data /hobbitholes/waymoot/hchen/acheron/acheron/final_df_test_fast.parquet"
   ]
  },
  {
   "cell_type": "markdown",
   "metadata": {},
   "source": [
    "# XGBoost training on test dataset"
   ]
  },
  {
   "cell_type": "code",
   "execution_count": 4,
   "metadata": {},
   "outputs": [],
   "source": [
    "import pyarrow.parquet as pq\n",
    "import pyarrow as pa\n",
    "import numpy as np\n",
    "from sklearn.model_selection import (\n",
    "    GridSearchCV,\n",
    "    RandomizedSearchCV,\n",
    "    cross_val_score,\n",
    "    cross_validate,\n",
    "    train_test_split,\n",
    ")\n",
    "from xgboost import XGBClassifier\n",
    "\n",
    "import numpy as np\n",
    "import pandas as pd"
   ]
  },
  {
   "cell_type": "code",
   "execution_count": 5,
   "metadata": {},
   "outputs": [
    {
     "data": {
      "text/html": [
       "<div>\n",
       "<style scoped>\n",
       "    .dataframe tbody tr th:only-of-type {\n",
       "        vertical-align: middle;\n",
       "    }\n",
       "\n",
       "    .dataframe tbody tr th {\n",
       "        vertical-align: top;\n",
       "    }\n",
       "\n",
       "    .dataframe thead th {\n",
       "        text-align: right;\n",
       "    }\n",
       "</style>\n",
       "<table border=\"1\" class=\"dataframe\">\n",
       "  <thead>\n",
       "    <tr style=\"text-align: right;\">\n",
       "      <th></th>\n",
       "      <th>file1</th>\n",
       "      <th>file2</th>\n",
       "      <th>file3</th>\n",
       "      <th>file4</th>\n",
       "      <th>file5</th>\n",
       "      <th>file6</th>\n",
       "      <th>file7</th>\n",
       "      <th>file8</th>\n",
       "      <th>file9</th>\n",
       "      <th>file10</th>\n",
       "      <th>file11</th>\n",
       "      <th>file12</th>\n",
       "    </tr>\n",
       "  </thead>\n",
       "  <tbody>\n",
       "    <tr>\n",
       "      <th>kmer1</th>\n",
       "      <td>0</td>\n",
       "      <td>1</td>\n",
       "      <td>1</td>\n",
       "      <td>0</td>\n",
       "      <td>1</td>\n",
       "      <td>1</td>\n",
       "      <td>1</td>\n",
       "      <td>0</td>\n",
       "      <td>0</td>\n",
       "      <td>0</td>\n",
       "      <td>0</td>\n",
       "      <td>0</td>\n",
       "    </tr>\n",
       "    <tr>\n",
       "      <th>kmer2</th>\n",
       "      <td>0</td>\n",
       "      <td>0</td>\n",
       "      <td>0</td>\n",
       "      <td>1</td>\n",
       "      <td>0</td>\n",
       "      <td>0</td>\n",
       "      <td>0</td>\n",
       "      <td>0</td>\n",
       "      <td>0</td>\n",
       "      <td>0</td>\n",
       "      <td>0</td>\n",
       "      <td>0</td>\n",
       "    </tr>\n",
       "    <tr>\n",
       "      <th>kmer3</th>\n",
       "      <td>0</td>\n",
       "      <td>1</td>\n",
       "      <td>1</td>\n",
       "      <td>0</td>\n",
       "      <td>0</td>\n",
       "      <td>1</td>\n",
       "      <td>1</td>\n",
       "      <td>0</td>\n",
       "      <td>1</td>\n",
       "      <td>0</td>\n",
       "      <td>1</td>\n",
       "      <td>0</td>\n",
       "    </tr>\n",
       "    <tr>\n",
       "      <th>kmer4</th>\n",
       "      <td>0</td>\n",
       "      <td>1</td>\n",
       "      <td>1</td>\n",
       "      <td>0</td>\n",
       "      <td>0</td>\n",
       "      <td>0</td>\n",
       "      <td>0</td>\n",
       "      <td>0</td>\n",
       "      <td>1</td>\n",
       "      <td>0</td>\n",
       "      <td>0</td>\n",
       "      <td>0</td>\n",
       "    </tr>\n",
       "    <tr>\n",
       "      <th>kmer5</th>\n",
       "      <td>0</td>\n",
       "      <td>0</td>\n",
       "      <td>0</td>\n",
       "      <td>0</td>\n",
       "      <td>0</td>\n",
       "      <td>0</td>\n",
       "      <td>1</td>\n",
       "      <td>1</td>\n",
       "      <td>0</td>\n",
       "      <td>0</td>\n",
       "      <td>0</td>\n",
       "      <td>0</td>\n",
       "    </tr>\n",
       "  </tbody>\n",
       "</table>\n",
       "</div>"
      ],
      "text/plain": [
       "       file1  file2  file3  file4  file5  file6  file7  file8  file9  file10  \\\n",
       "kmer1      0      1      1      0      1      1      1      0      0       0   \n",
       "kmer2      0      0      0      1      0      0      0      0      0       0   \n",
       "kmer3      0      1      1      0      0      1      1      0      1       0   \n",
       "kmer4      0      1      1      0      0      0      0      0      1       0   \n",
       "kmer5      0      0      0      0      0      0      1      1      0       0   \n",
       "\n",
       "       file11  file12  \n",
       "kmer1       0       0  \n",
       "kmer2       0       0  \n",
       "kmer3       1       0  \n",
       "kmer4       0       0  \n",
       "kmer5       0       0  "
      ]
     },
     "execution_count": 5,
     "metadata": {},
     "output_type": "execute_result"
    }
   ],
   "source": [
    "# create test dataset\n",
    "data = pd.DataFrame([[0,1,1,0,1,1,1,0,0,0,0,0], [0,0,0,1,0,0,0,0,0,0,0,0], [0,1,1,0,0,1,1,0,1,0,1,0], [0,1,1,0,0,0,0,0,1,0,0,0],[0,0,0,0,0,0,1,1,0,0,0,0]],\n",
    "                    columns = [\"file1\", \"file2\",'file3','file4','file5','file6','file7','file8','file9','file10','file11','file12'],\n",
    "                   index = ['kmer1','kmer2','kmer3','kmer4','kmer5'],dtype = np.int8)\n",
    "data"
   ]
  },
  {
   "cell_type": "code",
   "execution_count": 116,
   "metadata": {},
   "outputs": [
    {
     "data": {
      "text/html": [
       "<div>\n",
       "<style scoped>\n",
       "    .dataframe tbody tr th:only-of-type {\n",
       "        vertical-align: middle;\n",
       "    }\n",
       "\n",
       "    .dataframe tbody tr th {\n",
       "        vertical-align: top;\n",
       "    }\n",
       "\n",
       "    .dataframe thead th {\n",
       "        text-align: right;\n",
       "    }\n",
       "</style>\n",
       "<table border=\"1\" class=\"dataframe\">\n",
       "  <thead>\n",
       "    <tr style=\"text-align: right;\">\n",
       "      <th></th>\n",
       "      <th>file1</th>\n",
       "      <th>file2</th>\n",
       "      <th>file3</th>\n",
       "      <th>file4</th>\n",
       "      <th>file5</th>\n",
       "      <th>file6</th>\n",
       "      <th>file7</th>\n",
       "      <th>file8</th>\n",
       "      <th>file9</th>\n",
       "      <th>file10</th>\n",
       "      <th>file11</th>\n",
       "      <th>file12</th>\n",
       "    </tr>\n",
       "  </thead>\n",
       "  <tbody>\n",
       "    <tr>\n",
       "      <th>kmer1</th>\n",
       "      <td>0</td>\n",
       "      <td>1</td>\n",
       "      <td>1</td>\n",
       "      <td>0</td>\n",
       "      <td>1</td>\n",
       "      <td>1</td>\n",
       "      <td>1</td>\n",
       "      <td>0</td>\n",
       "      <td>0</td>\n",
       "      <td>0</td>\n",
       "      <td>0</td>\n",
       "      <td>0</td>\n",
       "    </tr>\n",
       "    <tr>\n",
       "      <th>kmer2</th>\n",
       "      <td>0</td>\n",
       "      <td>0</td>\n",
       "      <td>0</td>\n",
       "      <td>1</td>\n",
       "      <td>0</td>\n",
       "      <td>0</td>\n",
       "      <td>0</td>\n",
       "      <td>0</td>\n",
       "      <td>0</td>\n",
       "      <td>0</td>\n",
       "      <td>0</td>\n",
       "      <td>0</td>\n",
       "    </tr>\n",
       "    <tr>\n",
       "      <th>kmer3</th>\n",
       "      <td>0</td>\n",
       "      <td>1</td>\n",
       "      <td>1</td>\n",
       "      <td>0</td>\n",
       "      <td>0</td>\n",
       "      <td>1</td>\n",
       "      <td>1</td>\n",
       "      <td>0</td>\n",
       "      <td>1</td>\n",
       "      <td>0</td>\n",
       "      <td>1</td>\n",
       "      <td>0</td>\n",
       "    </tr>\n",
       "    <tr>\n",
       "      <th>kmer4</th>\n",
       "      <td>0</td>\n",
       "      <td>1</td>\n",
       "      <td>1</td>\n",
       "      <td>0</td>\n",
       "      <td>0</td>\n",
       "      <td>0</td>\n",
       "      <td>0</td>\n",
       "      <td>0</td>\n",
       "      <td>1</td>\n",
       "      <td>0</td>\n",
       "      <td>0</td>\n",
       "      <td>0</td>\n",
       "    </tr>\n",
       "    <tr>\n",
       "      <th>kmer5</th>\n",
       "      <td>0</td>\n",
       "      <td>0</td>\n",
       "      <td>0</td>\n",
       "      <td>0</td>\n",
       "      <td>0</td>\n",
       "      <td>0</td>\n",
       "      <td>1</td>\n",
       "      <td>1</td>\n",
       "      <td>0</td>\n",
       "      <td>0</td>\n",
       "      <td>0</td>\n",
       "      <td>0</td>\n",
       "    </tr>\n",
       "  </tbody>\n",
       "</table>\n",
       "</div>"
      ],
      "text/plain": [
       "       file1  file2  file3  file4  file5  file6  file7  file8  file9  file10  \\\n",
       "kmer1      0      1      1      0      1      1      1      0      0       0   \n",
       "kmer2      0      0      0      1      0      0      0      0      0       0   \n",
       "kmer3      0      1      1      0      0      1      1      0      1       0   \n",
       "kmer4      0      1      1      0      0      0      0      0      1       0   \n",
       "kmer5      0      0      0      0      0      0      1      1      0       0   \n",
       "\n",
       "       file11  file12  \n",
       "kmer1       0       0  \n",
       "kmer2       0       0  \n",
       "kmer3       1       0  \n",
       "kmer4       0       0  \n",
       "kmer5       0       0  "
      ]
     },
     "execution_count": 116,
     "metadata": {},
     "output_type": "execute_result"
    }
   ],
   "source": [
    "data"
   ]
  },
  {
   "cell_type": "code",
   "execution_count": 117,
   "metadata": {},
   "outputs": [
    {
     "name": "stdout",
     "output_type": "stream",
     "text": [
      "ANOVA_before_transpose.csv     final_concat_data.csv\r\n",
      "ANOVA_col_file.csv             final_df_transposed.csv\r\n",
      "ANOVA.csv                      final_df_transposed_test.csv\r\n",
      "brucella_species_metadata.csv  no_species.csv\r\n"
     ]
    }
   ],
   "source": [
    "ls *.csv"
   ]
  },
  {
   "cell_type": "code",
   "execution_count": null,
   "metadata": {},
   "outputs": [],
   "source": [
    "dat = pd.read_csv(\"no_species.csv\", nrows = 1, usecols = ['GATAATGATCGCCGGGCCGGTAACA'])\n",
    "dat = dat.astype('int8')"
   ]
  },
  {
   "cell_type": "code",
   "execution_count": null,
   "metadata": {},
   "outputs": [],
   "source": [
    "df_species = pd.read_parquet('final_df_species.parquet')\n",
    "df_species = df_species.T"
   ]
  },
  {
   "cell_type": "code",
   "execution_count": null,
   "metadata": {},
   "outputs": [],
   "source": [
    "df_species.rename(columns={0: 'species'}, inplace=True)\n",
    "df_species"
   ]
  },
  {
   "cell_type": "code",
   "execution_count": null,
   "metadata": {},
   "outputs": [],
   "source": [
    "data = dat.join(df_species)\n",
    "data"
   ]
  },
  {
   "cell_type": "code",
   "execution_count": null,
   "metadata": {},
   "outputs": [],
   "source": [
    "table = pa.Table.from_pandas(data)\n",
    "pq.write_table(table, 'temp_df.parquet')"
   ]
  },
  {
   "cell_type": "code",
   "execution_count": null,
   "metadata": {},
   "outputs": [],
   "source": [
    "ls *.parquet"
   ]
  },
  {
   "cell_type": "code",
   "execution_count": null,
   "metadata": {},
   "outputs": [],
   "source": [
    "df = pd.read_parquet('temp_df.parquet')\n",
    "df"
   ]
  },
  {
   "cell_type": "code",
   "execution_count": null,
   "metadata": {},
   "outputs": [],
   "source": [
    "df.info(memory_usage=\"deep\")"
   ]
  },
  {
   "cell_type": "code",
   "execution_count": 6,
   "metadata": {},
   "outputs": [
    {
     "data": {
      "text/html": [
       "<div>\n",
       "<style scoped>\n",
       "    .dataframe tbody tr th:only-of-type {\n",
       "        vertical-align: middle;\n",
       "    }\n",
       "\n",
       "    .dataframe tbody tr th {\n",
       "        vertical-align: top;\n",
       "    }\n",
       "\n",
       "    .dataframe thead th {\n",
       "        text-align: right;\n",
       "    }\n",
       "</style>\n",
       "<table border=\"1\" class=\"dataframe\">\n",
       "  <thead>\n",
       "    <tr style=\"text-align: right;\">\n",
       "      <th></th>\n",
       "      <th>file2</th>\n",
       "      <th>file1</th>\n",
       "      <th>file3</th>\n",
       "      <th>file4</th>\n",
       "      <th>file5</th>\n",
       "      <th>file6</th>\n",
       "      <th>file7</th>\n",
       "      <th>file8</th>\n",
       "      <th>file9</th>\n",
       "      <th>file10</th>\n",
       "      <th>file11</th>\n",
       "      <th>file12</th>\n",
       "    </tr>\n",
       "  </thead>\n",
       "  <tbody>\n",
       "    <tr>\n",
       "      <th>species</th>\n",
       "      <td>B.m</td>\n",
       "      <td>B.a</td>\n",
       "      <td>B.m</td>\n",
       "      <td>B.a</td>\n",
       "      <td>B.a</td>\n",
       "      <td>B.b</td>\n",
       "      <td>B.b</td>\n",
       "      <td>B.a</td>\n",
       "      <td>B.m</td>\n",
       "      <td>B.a</td>\n",
       "      <td>B.a</td>\n",
       "      <td>B.a</td>\n",
       "    </tr>\n",
       "  </tbody>\n",
       "</table>\n",
       "</div>"
      ],
      "text/plain": [
       "        file2 file1 file3 file4 file5 file6 file7 file8 file9 file10 file11  \\\n",
       "species   B.m   B.a   B.m   B.a   B.a   B.b   B.b   B.a   B.m    B.a    B.a   \n",
       "\n",
       "        file12  \n",
       "species    B.a  "
      ]
     },
     "execution_count": 6,
     "metadata": {},
     "output_type": "execute_result"
    }
   ],
   "source": [
    "species_df = pd.DataFrame([['B.m', 'B.a', 'B.m', 'B.a', 'B.a', 'B.b','B.b', 'B.a', 'B.m','B.a','B.a','B.a']],columns = [\"file2\", \"file1\",'file3','file4','file5','file6','file7','file8','file9','file10','file11','file12'],index = ['species'])\n",
    "species_df"
   ]
  },
  {
   "cell_type": "code",
   "execution_count": 7,
   "metadata": {},
   "outputs": [
    {
     "data": {
      "text/html": [
       "<div>\n",
       "<style scoped>\n",
       "    .dataframe tbody tr th:only-of-type {\n",
       "        vertical-align: middle;\n",
       "    }\n",
       "\n",
       "    .dataframe tbody tr th {\n",
       "        vertical-align: top;\n",
       "    }\n",
       "\n",
       "    .dataframe thead th {\n",
       "        text-align: right;\n",
       "    }\n",
       "</style>\n",
       "<table border=\"1\" class=\"dataframe\">\n",
       "  <thead>\n",
       "    <tr style=\"text-align: right;\">\n",
       "      <th></th>\n",
       "      <th>file1</th>\n",
       "      <th>file2</th>\n",
       "      <th>file3</th>\n",
       "      <th>file4</th>\n",
       "      <th>file5</th>\n",
       "      <th>file6</th>\n",
       "      <th>file7</th>\n",
       "      <th>file8</th>\n",
       "      <th>file9</th>\n",
       "      <th>file10</th>\n",
       "      <th>file11</th>\n",
       "      <th>file12</th>\n",
       "    </tr>\n",
       "  </thead>\n",
       "  <tbody>\n",
       "    <tr>\n",
       "      <th>kmer1</th>\n",
       "      <td>0</td>\n",
       "      <td>1</td>\n",
       "      <td>1</td>\n",
       "      <td>0</td>\n",
       "      <td>1</td>\n",
       "      <td>1</td>\n",
       "      <td>1</td>\n",
       "      <td>0</td>\n",
       "      <td>0</td>\n",
       "      <td>0</td>\n",
       "      <td>0</td>\n",
       "      <td>0</td>\n",
       "    </tr>\n",
       "    <tr>\n",
       "      <th>kmer2</th>\n",
       "      <td>0</td>\n",
       "      <td>0</td>\n",
       "      <td>0</td>\n",
       "      <td>1</td>\n",
       "      <td>0</td>\n",
       "      <td>0</td>\n",
       "      <td>0</td>\n",
       "      <td>0</td>\n",
       "      <td>0</td>\n",
       "      <td>0</td>\n",
       "      <td>0</td>\n",
       "      <td>0</td>\n",
       "    </tr>\n",
       "    <tr>\n",
       "      <th>kmer3</th>\n",
       "      <td>0</td>\n",
       "      <td>1</td>\n",
       "      <td>1</td>\n",
       "      <td>0</td>\n",
       "      <td>0</td>\n",
       "      <td>1</td>\n",
       "      <td>1</td>\n",
       "      <td>0</td>\n",
       "      <td>1</td>\n",
       "      <td>0</td>\n",
       "      <td>1</td>\n",
       "      <td>0</td>\n",
       "    </tr>\n",
       "    <tr>\n",
       "      <th>kmer4</th>\n",
       "      <td>0</td>\n",
       "      <td>1</td>\n",
       "      <td>1</td>\n",
       "      <td>0</td>\n",
       "      <td>0</td>\n",
       "      <td>0</td>\n",
       "      <td>0</td>\n",
       "      <td>0</td>\n",
       "      <td>1</td>\n",
       "      <td>0</td>\n",
       "      <td>0</td>\n",
       "      <td>0</td>\n",
       "    </tr>\n",
       "    <tr>\n",
       "      <th>kmer5</th>\n",
       "      <td>0</td>\n",
       "      <td>0</td>\n",
       "      <td>0</td>\n",
       "      <td>0</td>\n",
       "      <td>0</td>\n",
       "      <td>0</td>\n",
       "      <td>1</td>\n",
       "      <td>1</td>\n",
       "      <td>0</td>\n",
       "      <td>0</td>\n",
       "      <td>0</td>\n",
       "      <td>0</td>\n",
       "    </tr>\n",
       "    <tr>\n",
       "      <th>species</th>\n",
       "      <td>B.a</td>\n",
       "      <td>B.m</td>\n",
       "      <td>B.m</td>\n",
       "      <td>B.a</td>\n",
       "      <td>B.a</td>\n",
       "      <td>B.b</td>\n",
       "      <td>B.b</td>\n",
       "      <td>B.a</td>\n",
       "      <td>B.m</td>\n",
       "      <td>B.a</td>\n",
       "      <td>B.a</td>\n",
       "      <td>B.a</td>\n",
       "    </tr>\n",
       "  </tbody>\n",
       "</table>\n",
       "</div>"
      ],
      "text/plain": [
       "        file1 file2 file3 file4 file5 file6 file7 file8 file9 file10 file11  \\\n",
       "kmer1       0     1     1     0     1     1     1     0     0      0      0   \n",
       "kmer2       0     0     0     1     0     0     0     0     0      0      0   \n",
       "kmer3       0     1     1     0     0     1     1     0     1      0      1   \n",
       "kmer4       0     1     1     0     0     0     0     0     1      0      0   \n",
       "kmer5       0     0     0     0     0     0     1     1     0      0      0   \n",
       "species   B.a   B.m   B.m   B.a   B.a   B.b   B.b   B.a   B.m    B.a    B.a   \n",
       "\n",
       "        file12  \n",
       "kmer1        0  \n",
       "kmer2        0  \n",
       "kmer3        0  \n",
       "kmer4        0  \n",
       "kmer5        0  \n",
       "species    B.a  "
      ]
     },
     "execution_count": 7,
     "metadata": {},
     "output_type": "execute_result"
    }
   ],
   "source": [
    "data = pd.concat([data,species_df])\n",
    "data"
   ]
  },
  {
   "cell_type": "code",
   "execution_count": 8,
   "metadata": {},
   "outputs": [
    {
     "name": "stdout",
     "output_type": "stream",
     "text": [
      "<class 'pandas.core.frame.DataFrame'>\n",
      "Index: 6 entries, kmer1 to species\n",
      "Data columns (total 12 columns):\n",
      " #   Column  Non-Null Count  Dtype \n",
      "---  ------  --------------  ----- \n",
      " 0   file1   6 non-null      object\n",
      " 1   file2   6 non-null      object\n",
      " 2   file3   6 non-null      object\n",
      " 3   file4   6 non-null      object\n",
      " 4   file5   6 non-null      object\n",
      " 5   file6   6 non-null      object\n",
      " 6   file7   6 non-null      object\n",
      " 7   file8   6 non-null      object\n",
      " 8   file9   6 non-null      object\n",
      " 9   file10  6 non-null      object\n",
      " 10  file11  6 non-null      object\n",
      " 11  file12  6 non-null      object\n",
      "dtypes: object(12)\n",
      "memory usage: 3.0 KB\n"
     ]
    }
   ],
   "source": [
    "data.info(memory_usage = 'deep')"
   ]
  },
  {
   "cell_type": "code",
   "execution_count": 9,
   "metadata": {},
   "outputs": [
    {
     "data": {
      "text/html": [
       "<div>\n",
       "<style scoped>\n",
       "    .dataframe tbody tr th:only-of-type {\n",
       "        vertical-align: middle;\n",
       "    }\n",
       "\n",
       "    .dataframe tbody tr th {\n",
       "        vertical-align: top;\n",
       "    }\n",
       "\n",
       "    .dataframe thead th {\n",
       "        text-align: right;\n",
       "    }\n",
       "</style>\n",
       "<table border=\"1\" class=\"dataframe\">\n",
       "  <thead>\n",
       "    <tr style=\"text-align: right;\">\n",
       "      <th></th>\n",
       "      <th>kmer1</th>\n",
       "      <th>kmer2</th>\n",
       "      <th>kmer3</th>\n",
       "      <th>kmer4</th>\n",
       "      <th>kmer5</th>\n",
       "      <th>species</th>\n",
       "    </tr>\n",
       "  </thead>\n",
       "  <tbody>\n",
       "    <tr>\n",
       "      <th>file1</th>\n",
       "      <td>0</td>\n",
       "      <td>0</td>\n",
       "      <td>0</td>\n",
       "      <td>0</td>\n",
       "      <td>0</td>\n",
       "      <td>B.a</td>\n",
       "    </tr>\n",
       "    <tr>\n",
       "      <th>file2</th>\n",
       "      <td>1</td>\n",
       "      <td>0</td>\n",
       "      <td>1</td>\n",
       "      <td>1</td>\n",
       "      <td>0</td>\n",
       "      <td>B.m</td>\n",
       "    </tr>\n",
       "    <tr>\n",
       "      <th>file3</th>\n",
       "      <td>1</td>\n",
       "      <td>0</td>\n",
       "      <td>1</td>\n",
       "      <td>1</td>\n",
       "      <td>0</td>\n",
       "      <td>B.m</td>\n",
       "    </tr>\n",
       "    <tr>\n",
       "      <th>file4</th>\n",
       "      <td>0</td>\n",
       "      <td>1</td>\n",
       "      <td>0</td>\n",
       "      <td>0</td>\n",
       "      <td>0</td>\n",
       "      <td>B.a</td>\n",
       "    </tr>\n",
       "    <tr>\n",
       "      <th>file5</th>\n",
       "      <td>1</td>\n",
       "      <td>0</td>\n",
       "      <td>0</td>\n",
       "      <td>0</td>\n",
       "      <td>0</td>\n",
       "      <td>B.a</td>\n",
       "    </tr>\n",
       "    <tr>\n",
       "      <th>file6</th>\n",
       "      <td>1</td>\n",
       "      <td>0</td>\n",
       "      <td>1</td>\n",
       "      <td>0</td>\n",
       "      <td>0</td>\n",
       "      <td>B.b</td>\n",
       "    </tr>\n",
       "    <tr>\n",
       "      <th>file7</th>\n",
       "      <td>1</td>\n",
       "      <td>0</td>\n",
       "      <td>1</td>\n",
       "      <td>0</td>\n",
       "      <td>1</td>\n",
       "      <td>B.b</td>\n",
       "    </tr>\n",
       "    <tr>\n",
       "      <th>file8</th>\n",
       "      <td>0</td>\n",
       "      <td>0</td>\n",
       "      <td>0</td>\n",
       "      <td>0</td>\n",
       "      <td>1</td>\n",
       "      <td>B.a</td>\n",
       "    </tr>\n",
       "    <tr>\n",
       "      <th>file9</th>\n",
       "      <td>0</td>\n",
       "      <td>0</td>\n",
       "      <td>1</td>\n",
       "      <td>1</td>\n",
       "      <td>0</td>\n",
       "      <td>B.m</td>\n",
       "    </tr>\n",
       "    <tr>\n",
       "      <th>file10</th>\n",
       "      <td>0</td>\n",
       "      <td>0</td>\n",
       "      <td>0</td>\n",
       "      <td>0</td>\n",
       "      <td>0</td>\n",
       "      <td>B.a</td>\n",
       "    </tr>\n",
       "    <tr>\n",
       "      <th>file11</th>\n",
       "      <td>0</td>\n",
       "      <td>0</td>\n",
       "      <td>1</td>\n",
       "      <td>0</td>\n",
       "      <td>0</td>\n",
       "      <td>B.a</td>\n",
       "    </tr>\n",
       "    <tr>\n",
       "      <th>file12</th>\n",
       "      <td>0</td>\n",
       "      <td>0</td>\n",
       "      <td>0</td>\n",
       "      <td>0</td>\n",
       "      <td>0</td>\n",
       "      <td>B.a</td>\n",
       "    </tr>\n",
       "  </tbody>\n",
       "</table>\n",
       "</div>"
      ],
      "text/plain": [
       "       kmer1 kmer2 kmer3 kmer4 kmer5 species\n",
       "file1      0     0     0     0     0     B.a\n",
       "file2      1     0     1     1     0     B.m\n",
       "file3      1     0     1     1     0     B.m\n",
       "file4      0     1     0     0     0     B.a\n",
       "file5      1     0     0     0     0     B.a\n",
       "file6      1     0     1     0     0     B.b\n",
       "file7      1     0     1     0     1     B.b\n",
       "file8      0     0     0     0     1     B.a\n",
       "file9      0     0     1     1     0     B.m\n",
       "file10     0     0     0     0     0     B.a\n",
       "file11     0     0     1     0     0     B.a\n",
       "file12     0     0     0     0     0     B.a"
      ]
     },
     "execution_count": 9,
     "metadata": {},
     "output_type": "execute_result"
    }
   ],
   "source": [
    "data1 = data.T\n",
    "data1"
   ]
  },
  {
   "cell_type": "code",
   "execution_count": 10,
   "metadata": {},
   "outputs": [
    {
     "data": {
      "text/html": [
       "<div>\n",
       "<style scoped>\n",
       "    .dataframe tbody tr th:only-of-type {\n",
       "        vertical-align: middle;\n",
       "    }\n",
       "\n",
       "    .dataframe tbody tr th {\n",
       "        vertical-align: top;\n",
       "    }\n",
       "\n",
       "    .dataframe thead th {\n",
       "        text-align: right;\n",
       "    }\n",
       "</style>\n",
       "<table border=\"1\" class=\"dataframe\">\n",
       "  <thead>\n",
       "    <tr style=\"text-align: right;\">\n",
       "      <th></th>\n",
       "      <th>kmer1</th>\n",
       "      <th>kmer2</th>\n",
       "      <th>kmer3</th>\n",
       "      <th>kmer4</th>\n",
       "      <th>kmer5</th>\n",
       "      <th>species</th>\n",
       "    </tr>\n",
       "  </thead>\n",
       "  <tbody>\n",
       "    <tr>\n",
       "      <th>file5</th>\n",
       "      <td>1</td>\n",
       "      <td>0</td>\n",
       "      <td>0</td>\n",
       "      <td>0</td>\n",
       "      <td>0</td>\n",
       "      <td>B.a</td>\n",
       "    </tr>\n",
       "    <tr>\n",
       "      <th>file10</th>\n",
       "      <td>0</td>\n",
       "      <td>0</td>\n",
       "      <td>0</td>\n",
       "      <td>0</td>\n",
       "      <td>0</td>\n",
       "      <td>B.a</td>\n",
       "    </tr>\n",
       "    <tr>\n",
       "      <th>file9</th>\n",
       "      <td>0</td>\n",
       "      <td>0</td>\n",
       "      <td>1</td>\n",
       "      <td>1</td>\n",
       "      <td>0</td>\n",
       "      <td>B.m</td>\n",
       "    </tr>\n",
       "    <tr>\n",
       "      <th>file8</th>\n",
       "      <td>0</td>\n",
       "      <td>0</td>\n",
       "      <td>0</td>\n",
       "      <td>0</td>\n",
       "      <td>1</td>\n",
       "      <td>B.a</td>\n",
       "    </tr>\n",
       "    <tr>\n",
       "      <th>file11</th>\n",
       "      <td>0</td>\n",
       "      <td>0</td>\n",
       "      <td>1</td>\n",
       "      <td>0</td>\n",
       "      <td>0</td>\n",
       "      <td>B.a</td>\n",
       "    </tr>\n",
       "    <tr>\n",
       "      <th>file4</th>\n",
       "      <td>0</td>\n",
       "      <td>1</td>\n",
       "      <td>0</td>\n",
       "      <td>0</td>\n",
       "      <td>0</td>\n",
       "      <td>B.a</td>\n",
       "    </tr>\n",
       "    <tr>\n",
       "      <th>file2</th>\n",
       "      <td>1</td>\n",
       "      <td>0</td>\n",
       "      <td>1</td>\n",
       "      <td>1</td>\n",
       "      <td>0</td>\n",
       "      <td>B.m</td>\n",
       "    </tr>\n",
       "    <tr>\n",
       "      <th>file7</th>\n",
       "      <td>1</td>\n",
       "      <td>0</td>\n",
       "      <td>1</td>\n",
       "      <td>0</td>\n",
       "      <td>1</td>\n",
       "      <td>B.b</td>\n",
       "    </tr>\n",
       "    <tr>\n",
       "      <th>file12</th>\n",
       "      <td>0</td>\n",
       "      <td>0</td>\n",
       "      <td>0</td>\n",
       "      <td>0</td>\n",
       "      <td>0</td>\n",
       "      <td>B.a</td>\n",
       "    </tr>\n",
       "    <tr>\n",
       "      <th>file3</th>\n",
       "      <td>1</td>\n",
       "      <td>0</td>\n",
       "      <td>1</td>\n",
       "      <td>1</td>\n",
       "      <td>0</td>\n",
       "      <td>B.m</td>\n",
       "    </tr>\n",
       "  </tbody>\n",
       "</table>\n",
       "</div>"
      ],
      "text/plain": [
       "       kmer1 kmer2 kmer3 kmer4 kmer5 species\n",
       "file5      1     0     0     0     0     B.a\n",
       "file10     0     0     0     0     0     B.a\n",
       "file9      0     0     1     1     0     B.m\n",
       "file8      0     0     0     0     1     B.a\n",
       "file11     0     0     1     0     0     B.a\n",
       "file4      0     1     0     0     0     B.a\n",
       "file2      1     0     1     1     0     B.m\n",
       "file7      1     0     1     0     1     B.b\n",
       "file12     0     0     0     0     0     B.a\n",
       "file3      1     0     1     1     0     B.m"
      ]
     },
     "execution_count": 10,
     "metadata": {},
     "output_type": "execute_result"
    }
   ],
   "source": [
    "train_df, test_df = train_test_split(data1, test_size=0.10, random_state=123)\n",
    "train_df"
   ]
  },
  {
   "cell_type": "code",
   "execution_count": 11,
   "metadata": {},
   "outputs": [
    {
     "data": {
      "text/html": [
       "<div>\n",
       "<style scoped>\n",
       "    .dataframe tbody tr th:only-of-type {\n",
       "        vertical-align: middle;\n",
       "    }\n",
       "\n",
       "    .dataframe tbody tr th {\n",
       "        vertical-align: top;\n",
       "    }\n",
       "\n",
       "    .dataframe thead th {\n",
       "        text-align: right;\n",
       "    }\n",
       "</style>\n",
       "<table border=\"1\" class=\"dataframe\">\n",
       "  <thead>\n",
       "    <tr style=\"text-align: right;\">\n",
       "      <th></th>\n",
       "      <th>kmer1</th>\n",
       "      <th>kmer2</th>\n",
       "      <th>kmer3</th>\n",
       "      <th>kmer4</th>\n",
       "      <th>kmer5</th>\n",
       "      <th>species</th>\n",
       "    </tr>\n",
       "  </thead>\n",
       "  <tbody>\n",
       "    <tr>\n",
       "      <th>file6</th>\n",
       "      <td>1</td>\n",
       "      <td>0</td>\n",
       "      <td>1</td>\n",
       "      <td>0</td>\n",
       "      <td>0</td>\n",
       "      <td>B.b</td>\n",
       "    </tr>\n",
       "    <tr>\n",
       "      <th>file1</th>\n",
       "      <td>0</td>\n",
       "      <td>0</td>\n",
       "      <td>0</td>\n",
       "      <td>0</td>\n",
       "      <td>0</td>\n",
       "      <td>B.a</td>\n",
       "    </tr>\n",
       "  </tbody>\n",
       "</table>\n",
       "</div>"
      ],
      "text/plain": [
       "      kmer1 kmer2 kmer3 kmer4 kmer5 species\n",
       "file6     1     0     1     0     0     B.b\n",
       "file1     0     0     0     0     0     B.a"
      ]
     },
     "execution_count": 11,
     "metadata": {},
     "output_type": "execute_result"
    }
   ],
   "source": [
    "test_df"
   ]
  },
  {
   "cell_type": "code",
   "execution_count": 12,
   "metadata": {},
   "outputs": [],
   "source": [
    "x_train = train_df.drop(columns=[\"species\"])\n",
    "y_train = train_df[\"species\"]\n",
    "x_test = test_df.drop(columns=[\"species\"])\n",
    "y_test = test_df[\"species\"]"
   ]
  },
  {
   "cell_type": "code",
   "execution_count": 13,
   "metadata": {},
   "outputs": [],
   "source": [
    "from sklearn.ensemble import RandomForestClassifier\n",
    "from sklearn.compose import ColumnTransformer, make_column_transformer\n",
    "from sklearn.pipeline import Pipeline, make_pipeline\n",
    "from sklearn.impute import SimpleImputer\n",
    "from sklearn.preprocessing import OneHotEncoder, OrdinalEncoder, StandardScaler, LabelEncoder\n",
    "from sklearn.svm import SVC\n",
    "from sklearn.decomposition import PCA"
   ]
  },
  {
   "cell_type": "code",
   "execution_count": 14,
   "metadata": {},
   "outputs": [],
   "source": [
    "def mean_std_cross_val_scores(model, x_train, y_train, **kwargs):\n",
    "    \"\"\"\n",
    "    Returns mean and std of cross validation\n",
    "\n",
    "    Parameters\n",
    "    ----------\n",
    "    model :\n",
    "        scikit-learn model\n",
    "    X_train : numpy array or pandas DataFrame\n",
    "        X in the training data\n",
    "    y_train :\n",
    "        y in the training data\n",
    "\n",
    "    Returns\n",
    "    ----------\n",
    "        pandas Series with mean scores from cross_validation\n",
    "    \"\"\"\n",
    "\n",
    "    scores = cross_validate(model, x_train, y_train, **kwargs)\n",
    "\n",
    "    mean_scores = pd.DataFrame(scores).mean()\n",
    "    std_scores = pd.DataFrame(scores).std()\n",
    "    out_col = []\n",
    "\n",
    "    for i in range(len(mean_scores)):\n",
    "        out_col.append((f\"%0.3f (+/- %0.3f)\" % (mean_scores[i], std_scores[i])))\n",
    "\n",
    "    return pd.Series(data=out_col, index=mean_scores.index)"
   ]
  },
  {
   "cell_type": "code",
   "execution_count": 15,
   "metadata": {},
   "outputs": [],
   "source": [
    "pipe_svm = make_pipeline(SVC(gamma=0.01, kernel=\"rbf\", C=10)) "
   ]
  },
  {
   "cell_type": "code",
   "execution_count": 16,
   "metadata": {},
   "outputs": [],
   "source": [
    "pipe_rf = make_pipeline(RandomForestClassifier(random_state=123, n_jobs=-1))"
   ]
  },
  {
   "cell_type": "code",
   "execution_count": 17,
   "metadata": {},
   "outputs": [
    {
     "name": "stderr",
     "output_type": "stream",
     "text": [
      "/hobbitholes/waymoot/hchen/micromamba/envs/ach.0.8/lib/python3.7/site-packages/sklearn/model_selection/_split.py:668: UserWarning: The least populated class in y has only 1 members, which is less than n_splits=5.\n",
      "  % (min_groups, self.n_splits)), UserWarning)\n"
     ]
    },
    {
     "data": {
      "text/html": [
       "<div>\n",
       "<style scoped>\n",
       "    .dataframe tbody tr th:only-of-type {\n",
       "        vertical-align: middle;\n",
       "    }\n",
       "\n",
       "    .dataframe tbody tr th {\n",
       "        vertical-align: top;\n",
       "    }\n",
       "\n",
       "    .dataframe thead th {\n",
       "        text-align: right;\n",
       "    }\n",
       "</style>\n",
       "<table border=\"1\" class=\"dataframe\">\n",
       "  <thead>\n",
       "    <tr style=\"text-align: right;\">\n",
       "      <th></th>\n",
       "      <th>fit_time</th>\n",
       "      <th>score_time</th>\n",
       "      <th>test_score</th>\n",
       "      <th>train_score</th>\n",
       "    </tr>\n",
       "  </thead>\n",
       "  <tbody>\n",
       "    <tr>\n",
       "      <th>Random forests</th>\n",
       "      <td>0.782 (+/- 0.912)</td>\n",
       "      <td>0.115 (+/- 0.003)</td>\n",
       "      <td>0.900 (+/- 0.224)</td>\n",
       "      <td>1.000 (+/- 0.000)</td>\n",
       "    </tr>\n",
       "  </tbody>\n",
       "</table>\n",
       "</div>"
      ],
      "text/plain": [
       "                         fit_time         score_time         test_score  \\\n",
       "Random forests  0.782 (+/- 0.912)  0.115 (+/- 0.003)  0.900 (+/- 0.224)   \n",
       "\n",
       "                      train_score  \n",
       "Random forests  1.000 (+/- 0.000)  "
      ]
     },
     "execution_count": 17,
     "metadata": {},
     "output_type": "execute_result"
    }
   ],
   "source": [
    "results = {}\n",
    "results[\"Random forests\"] = mean_std_cross_val_scores(\n",
    "    pipe_rf, x_train, y_train, return_train_score=True, scoring='accuracy'\n",
    ")\n",
    "pd.DataFrame(results).T"
   ]
  },
  {
   "cell_type": "code",
   "execution_count": 18,
   "metadata": {},
   "outputs": [
    {
     "name": "stderr",
     "output_type": "stream",
     "text": [
      "/hobbitholes/waymoot/hchen/micromamba/envs/ach.0.8/lib/python3.7/site-packages/sklearn/model_selection/_split.py:668: UserWarning: The least populated class in y has only 1 members, which is less than n_splits=5.\n",
      "  % (min_groups, self.n_splits)), UserWarning)\n"
     ]
    },
    {
     "data": {
      "text/html": [
       "<div>\n",
       "<style scoped>\n",
       "    .dataframe tbody tr th:only-of-type {\n",
       "        vertical-align: middle;\n",
       "    }\n",
       "\n",
       "    .dataframe tbody tr th {\n",
       "        vertical-align: top;\n",
       "    }\n",
       "\n",
       "    .dataframe thead th {\n",
       "        text-align: right;\n",
       "    }\n",
       "</style>\n",
       "<table border=\"1\" class=\"dataframe\">\n",
       "  <thead>\n",
       "    <tr style=\"text-align: right;\">\n",
       "      <th></th>\n",
       "      <th>fit_time</th>\n",
       "      <th>score_time</th>\n",
       "      <th>test_score</th>\n",
       "      <th>train_score</th>\n",
       "    </tr>\n",
       "  </thead>\n",
       "  <tbody>\n",
       "    <tr>\n",
       "      <th>Random forests</th>\n",
       "      <td>0.782 (+/- 0.912)</td>\n",
       "      <td>0.115 (+/- 0.003)</td>\n",
       "      <td>0.900 (+/- 0.224)</td>\n",
       "      <td>1.000 (+/- 0.000)</td>\n",
       "    </tr>\n",
       "    <tr>\n",
       "      <th>SVC</th>\n",
       "      <td>0.006 (+/- 0.002)</td>\n",
       "      <td>0.004 (+/- 0.000)</td>\n",
       "      <td>0.600 (+/- 0.224)</td>\n",
       "      <td>0.725 (+/- 0.137)</td>\n",
       "    </tr>\n",
       "  </tbody>\n",
       "</table>\n",
       "</div>"
      ],
      "text/plain": [
       "                         fit_time         score_time         test_score  \\\n",
       "Random forests  0.782 (+/- 0.912)  0.115 (+/- 0.003)  0.900 (+/- 0.224)   \n",
       "SVC             0.006 (+/- 0.002)  0.004 (+/- 0.000)  0.600 (+/- 0.224)   \n",
       "\n",
       "                      train_score  \n",
       "Random forests  1.000 (+/- 0.000)  \n",
       "SVC             0.725 (+/- 0.137)  "
      ]
     },
     "execution_count": 18,
     "metadata": {},
     "output_type": "execute_result"
    }
   ],
   "source": [
    "results[\"SVC\"] = mean_std_cross_val_scores(\n",
    "    pipe_svm, x_train, y_train, return_train_score=True, scoring='accuracy'\n",
    ")\n",
    "pd.DataFrame(results).T"
   ]
  },
  {
   "cell_type": "code",
   "execution_count": 19,
   "metadata": {},
   "outputs": [],
   "source": [
    "x_train = x_train.astype('int8')\n",
    "x_test = x_test.astype('int8')"
   ]
  },
  {
   "cell_type": "code",
   "execution_count": 20,
   "metadata": {},
   "outputs": [
    {
     "data": {
      "text/html": [
       "<div>\n",
       "<style scoped>\n",
       "    .dataframe tbody tr th:only-of-type {\n",
       "        vertical-align: middle;\n",
       "    }\n",
       "\n",
       "    .dataframe tbody tr th {\n",
       "        vertical-align: top;\n",
       "    }\n",
       "\n",
       "    .dataframe thead th {\n",
       "        text-align: right;\n",
       "    }\n",
       "</style>\n",
       "<table border=\"1\" class=\"dataframe\">\n",
       "  <thead>\n",
       "    <tr style=\"text-align: right;\">\n",
       "      <th></th>\n",
       "      <th>kmer1</th>\n",
       "      <th>kmer2</th>\n",
       "      <th>kmer3</th>\n",
       "      <th>kmer4</th>\n",
       "      <th>kmer5</th>\n",
       "    </tr>\n",
       "  </thead>\n",
       "  <tbody>\n",
       "    <tr>\n",
       "      <th>file5</th>\n",
       "      <td>1</td>\n",
       "      <td>0</td>\n",
       "      <td>0</td>\n",
       "      <td>0</td>\n",
       "      <td>0</td>\n",
       "    </tr>\n",
       "    <tr>\n",
       "      <th>file10</th>\n",
       "      <td>0</td>\n",
       "      <td>0</td>\n",
       "      <td>0</td>\n",
       "      <td>0</td>\n",
       "      <td>0</td>\n",
       "    </tr>\n",
       "    <tr>\n",
       "      <th>file9</th>\n",
       "      <td>0</td>\n",
       "      <td>0</td>\n",
       "      <td>1</td>\n",
       "      <td>1</td>\n",
       "      <td>0</td>\n",
       "    </tr>\n",
       "    <tr>\n",
       "      <th>file8</th>\n",
       "      <td>0</td>\n",
       "      <td>0</td>\n",
       "      <td>0</td>\n",
       "      <td>0</td>\n",
       "      <td>1</td>\n",
       "    </tr>\n",
       "    <tr>\n",
       "      <th>file11</th>\n",
       "      <td>0</td>\n",
       "      <td>0</td>\n",
       "      <td>1</td>\n",
       "      <td>0</td>\n",
       "      <td>0</td>\n",
       "    </tr>\n",
       "    <tr>\n",
       "      <th>file4</th>\n",
       "      <td>0</td>\n",
       "      <td>1</td>\n",
       "      <td>0</td>\n",
       "      <td>0</td>\n",
       "      <td>0</td>\n",
       "    </tr>\n",
       "    <tr>\n",
       "      <th>file2</th>\n",
       "      <td>1</td>\n",
       "      <td>0</td>\n",
       "      <td>1</td>\n",
       "      <td>1</td>\n",
       "      <td>0</td>\n",
       "    </tr>\n",
       "    <tr>\n",
       "      <th>file7</th>\n",
       "      <td>1</td>\n",
       "      <td>0</td>\n",
       "      <td>1</td>\n",
       "      <td>0</td>\n",
       "      <td>1</td>\n",
       "    </tr>\n",
       "    <tr>\n",
       "      <th>file12</th>\n",
       "      <td>0</td>\n",
       "      <td>0</td>\n",
       "      <td>0</td>\n",
       "      <td>0</td>\n",
       "      <td>0</td>\n",
       "    </tr>\n",
       "    <tr>\n",
       "      <th>file3</th>\n",
       "      <td>1</td>\n",
       "      <td>0</td>\n",
       "      <td>1</td>\n",
       "      <td>1</td>\n",
       "      <td>0</td>\n",
       "    </tr>\n",
       "  </tbody>\n",
       "</table>\n",
       "</div>"
      ],
      "text/plain": [
       "        kmer1  kmer2  kmer3  kmer4  kmer5\n",
       "file5       1      0      0      0      0\n",
       "file10      0      0      0      0      0\n",
       "file9       0      0      1      1      0\n",
       "file8       0      0      0      0      1\n",
       "file11      0      0      1      0      0\n",
       "file4       0      1      0      0      0\n",
       "file2       1      0      1      1      0\n",
       "file7       1      0      1      0      1\n",
       "file12      0      0      0      0      0\n",
       "file3       1      0      1      1      0"
      ]
     },
     "execution_count": 20,
     "metadata": {},
     "output_type": "execute_result"
    }
   ],
   "source": [
    "x_train"
   ]
  },
  {
   "cell_type": "code",
   "execution_count": 21,
   "metadata": {},
   "outputs": [],
   "source": [
    "categorical_features = ['species']\n",
    "categorical_transformer = make_pipeline(\n",
    "    SimpleImputer(strategy=\"constant\", fill_value=\"missing\"),\n",
    "    OneHotEncoder(handle_unknown=\"ignore\", sparse=False),\n",
    ")\n",
    "preprocessor = make_column_transformer(\n",
    "    (categorical_transformer, categorical_features),\n",
    ")"
   ]
  },
  {
   "cell_type": "code",
   "execution_count": 22,
   "metadata": {},
   "outputs": [],
   "source": [
    "pipe_xgb = make_pipeline(XGBClassifier(eval_metric = 'mlogloss'))"
   ]
  },
  {
   "cell_type": "code",
   "execution_count": 23,
   "metadata": {},
   "outputs": [
    {
     "data": {
      "text/plain": [
       "file5     B.a\n",
       "file10    B.a\n",
       "file9     B.m\n",
       "file8     B.a\n",
       "file11    B.a\n",
       "file4     B.a\n",
       "file2     B.m\n",
       "file7     B.b\n",
       "file12    B.a\n",
       "file3     B.m\n",
       "Name: species, dtype: object"
      ]
     },
     "execution_count": 23,
     "metadata": {},
     "output_type": "execute_result"
    }
   ],
   "source": [
    "y_train"
   ]
  },
  {
   "cell_type": "code",
   "execution_count": 24,
   "metadata": {},
   "outputs": [
    {
     "data": {
      "text/html": [
       "<div>\n",
       "<style scoped>\n",
       "    .dataframe tbody tr th:only-of-type {\n",
       "        vertical-align: middle;\n",
       "    }\n",
       "\n",
       "    .dataframe tbody tr th {\n",
       "        vertical-align: top;\n",
       "    }\n",
       "\n",
       "    .dataframe thead th {\n",
       "        text-align: right;\n",
       "    }\n",
       "</style>\n",
       "<table border=\"1\" class=\"dataframe\">\n",
       "  <thead>\n",
       "    <tr style=\"text-align: right;\">\n",
       "      <th></th>\n",
       "      <th>species</th>\n",
       "    </tr>\n",
       "  </thead>\n",
       "  <tbody>\n",
       "    <tr>\n",
       "      <th>0</th>\n",
       "      <td>0</td>\n",
       "    </tr>\n",
       "    <tr>\n",
       "      <th>1</th>\n",
       "      <td>0</td>\n",
       "    </tr>\n",
       "    <tr>\n",
       "      <th>2</th>\n",
       "      <td>2</td>\n",
       "    </tr>\n",
       "    <tr>\n",
       "      <th>3</th>\n",
       "      <td>0</td>\n",
       "    </tr>\n",
       "    <tr>\n",
       "      <th>4</th>\n",
       "      <td>0</td>\n",
       "    </tr>\n",
       "    <tr>\n",
       "      <th>5</th>\n",
       "      <td>0</td>\n",
       "    </tr>\n",
       "    <tr>\n",
       "      <th>6</th>\n",
       "      <td>2</td>\n",
       "    </tr>\n",
       "    <tr>\n",
       "      <th>7</th>\n",
       "      <td>1</td>\n",
       "    </tr>\n",
       "    <tr>\n",
       "      <th>8</th>\n",
       "      <td>0</td>\n",
       "    </tr>\n",
       "    <tr>\n",
       "      <th>9</th>\n",
       "      <td>2</td>\n",
       "    </tr>\n",
       "  </tbody>\n",
       "</table>\n",
       "</div>"
      ],
      "text/plain": [
       "   species\n",
       "0        0\n",
       "1        0\n",
       "2        2\n",
       "3        0\n",
       "4        0\n",
       "5        0\n",
       "6        2\n",
       "7        1\n",
       "8        0\n",
       "9        2"
      ]
     },
     "execution_count": 24,
     "metadata": {},
     "output_type": "execute_result"
    }
   ],
   "source": [
    "y_train_encoded = LabelEncoder().fit_transform(y_train)\n",
    "y_train_encoded_df = pd.DataFrame(y_train_encoded, columns = ['species'])\n",
    "y_train_encoded_df"
   ]
  },
  {
   "cell_type": "code",
   "execution_count": 25,
   "metadata": {},
   "outputs": [
    {
     "data": {
      "text/html": [
       "<div>\n",
       "<style scoped>\n",
       "    .dataframe tbody tr th:only-of-type {\n",
       "        vertical-align: middle;\n",
       "    }\n",
       "\n",
       "    .dataframe tbody tr th {\n",
       "        vertical-align: top;\n",
       "    }\n",
       "\n",
       "    .dataframe thead th {\n",
       "        text-align: right;\n",
       "    }\n",
       "</style>\n",
       "<table border=\"1\" class=\"dataframe\">\n",
       "  <thead>\n",
       "    <tr style=\"text-align: right;\">\n",
       "      <th></th>\n",
       "      <th>kmer1</th>\n",
       "      <th>kmer2</th>\n",
       "      <th>kmer3</th>\n",
       "      <th>kmer4</th>\n",
       "      <th>kmer5</th>\n",
       "    </tr>\n",
       "  </thead>\n",
       "  <tbody>\n",
       "    <tr>\n",
       "      <th>file5</th>\n",
       "      <td>1</td>\n",
       "      <td>0</td>\n",
       "      <td>0</td>\n",
       "      <td>0</td>\n",
       "      <td>0</td>\n",
       "    </tr>\n",
       "    <tr>\n",
       "      <th>file10</th>\n",
       "      <td>0</td>\n",
       "      <td>0</td>\n",
       "      <td>0</td>\n",
       "      <td>0</td>\n",
       "      <td>0</td>\n",
       "    </tr>\n",
       "    <tr>\n",
       "      <th>file9</th>\n",
       "      <td>0</td>\n",
       "      <td>0</td>\n",
       "      <td>1</td>\n",
       "      <td>1</td>\n",
       "      <td>0</td>\n",
       "    </tr>\n",
       "    <tr>\n",
       "      <th>file8</th>\n",
       "      <td>0</td>\n",
       "      <td>0</td>\n",
       "      <td>0</td>\n",
       "      <td>0</td>\n",
       "      <td>1</td>\n",
       "    </tr>\n",
       "    <tr>\n",
       "      <th>file11</th>\n",
       "      <td>0</td>\n",
       "      <td>0</td>\n",
       "      <td>1</td>\n",
       "      <td>0</td>\n",
       "      <td>0</td>\n",
       "    </tr>\n",
       "    <tr>\n",
       "      <th>file4</th>\n",
       "      <td>0</td>\n",
       "      <td>1</td>\n",
       "      <td>0</td>\n",
       "      <td>0</td>\n",
       "      <td>0</td>\n",
       "    </tr>\n",
       "    <tr>\n",
       "      <th>file2</th>\n",
       "      <td>1</td>\n",
       "      <td>0</td>\n",
       "      <td>1</td>\n",
       "      <td>1</td>\n",
       "      <td>0</td>\n",
       "    </tr>\n",
       "    <tr>\n",
       "      <th>file7</th>\n",
       "      <td>1</td>\n",
       "      <td>0</td>\n",
       "      <td>1</td>\n",
       "      <td>0</td>\n",
       "      <td>1</td>\n",
       "    </tr>\n",
       "    <tr>\n",
       "      <th>file12</th>\n",
       "      <td>0</td>\n",
       "      <td>0</td>\n",
       "      <td>0</td>\n",
       "      <td>0</td>\n",
       "      <td>0</td>\n",
       "    </tr>\n",
       "    <tr>\n",
       "      <th>file3</th>\n",
       "      <td>1</td>\n",
       "      <td>0</td>\n",
       "      <td>1</td>\n",
       "      <td>1</td>\n",
       "      <td>0</td>\n",
       "    </tr>\n",
       "  </tbody>\n",
       "</table>\n",
       "</div>"
      ],
      "text/plain": [
       "        kmer1  kmer2  kmer3  kmer4  kmer5\n",
       "file5       1      0      0      0      0\n",
       "file10      0      0      0      0      0\n",
       "file9       0      0      1      1      0\n",
       "file8       0      0      0      0      1\n",
       "file11      0      0      1      0      0\n",
       "file4       0      1      0      0      0\n",
       "file2       1      0      1      1      0\n",
       "file7       1      0      1      0      1\n",
       "file12      0      0      0      0      0\n",
       "file3       1      0      1      1      0"
      ]
     },
     "execution_count": 25,
     "metadata": {},
     "output_type": "execute_result"
    }
   ],
   "source": [
    "x_train"
   ]
  },
  {
   "cell_type": "code",
   "execution_count": 26,
   "metadata": {},
   "outputs": [
    {
     "name": "stderr",
     "output_type": "stream",
     "text": [
      "/hobbitholes/waymoot/hchen/micromamba/envs/ach.0.8/lib/python3.7/site-packages/sklearn/model_selection/_split.py:668: UserWarning: The least populated class in y has only 1 members, which is less than n_splits=5.\n",
      "  % (min_groups, self.n_splits)), UserWarning)\n",
      "/hobbitholes/waymoot/hchen/micromamba/envs/ach.0.8/lib/python3.7/site-packages/xgboost/sklearn.py:888: UserWarning: The use of label encoder in XGBClassifier is deprecated and will be removed in a future release. To remove this warning, do the following: 1) Pass option use_label_encoder=False when constructing XGBClassifier object; and 2) Encode your labels (y) as integers starting with 0, i.e. 0, 1, 2, ..., [num_class - 1].\n",
      "  warnings.warn(label_encoder_deprecation_msg, UserWarning)\n",
      "/hobbitholes/waymoot/hchen/micromamba/envs/ach.0.8/lib/python3.7/site-packages/sklearn/utils/validation.py:63: DataConversionWarning: A column-vector y was passed when a 1d array was expected. Please change the shape of y to (n_samples, ), for example using ravel().\n",
      "  return f(*args, **kwargs)\n",
      "/hobbitholes/waymoot/hchen/micromamba/envs/ach.0.8/lib/python3.7/site-packages/xgboost/sklearn.py:888: UserWarning: The use of label encoder in XGBClassifier is deprecated and will be removed in a future release. To remove this warning, do the following: 1) Pass option use_label_encoder=False when constructing XGBClassifier object; and 2) Encode your labels (y) as integers starting with 0, i.e. 0, 1, 2, ..., [num_class - 1].\n",
      "  warnings.warn(label_encoder_deprecation_msg, UserWarning)\n",
      "/hobbitholes/waymoot/hchen/micromamba/envs/ach.0.8/lib/python3.7/site-packages/sklearn/utils/validation.py:63: DataConversionWarning: A column-vector y was passed when a 1d array was expected. Please change the shape of y to (n_samples, ), for example using ravel().\n",
      "  return f(*args, **kwargs)\n",
      "/hobbitholes/waymoot/hchen/micromamba/envs/ach.0.8/lib/python3.7/site-packages/xgboost/sklearn.py:888: UserWarning: The use of label encoder in XGBClassifier is deprecated and will be removed in a future release. To remove this warning, do the following: 1) Pass option use_label_encoder=False when constructing XGBClassifier object; and 2) Encode your labels (y) as integers starting with 0, i.e. 0, 1, 2, ..., [num_class - 1].\n",
      "  warnings.warn(label_encoder_deprecation_msg, UserWarning)\n",
      "/hobbitholes/waymoot/hchen/micromamba/envs/ach.0.8/lib/python3.7/site-packages/sklearn/utils/validation.py:63: DataConversionWarning: A column-vector y was passed when a 1d array was expected. Please change the shape of y to (n_samples, ), for example using ravel().\n",
      "  return f(*args, **kwargs)\n",
      "/hobbitholes/waymoot/hchen/micromamba/envs/ach.0.8/lib/python3.7/site-packages/xgboost/sklearn.py:888: UserWarning: The use of label encoder in XGBClassifier is deprecated and will be removed in a future release. To remove this warning, do the following: 1) Pass option use_label_encoder=False when constructing XGBClassifier object; and 2) Encode your labels (y) as integers starting with 0, i.e. 0, 1, 2, ..., [num_class - 1].\n",
      "  warnings.warn(label_encoder_deprecation_msg, UserWarning)\n",
      "/hobbitholes/waymoot/hchen/micromamba/envs/ach.0.8/lib/python3.7/site-packages/sklearn/utils/validation.py:63: DataConversionWarning: A column-vector y was passed when a 1d array was expected. Please change the shape of y to (n_samples, ), for example using ravel().\n",
      "  return f(*args, **kwargs)\n",
      "/hobbitholes/waymoot/hchen/micromamba/envs/ach.0.8/lib/python3.7/site-packages/xgboost/sklearn.py:888: UserWarning: The use of label encoder in XGBClassifier is deprecated and will be removed in a future release. To remove this warning, do the following: 1) Pass option use_label_encoder=False when constructing XGBClassifier object; and 2) Encode your labels (y) as integers starting with 0, i.e. 0, 1, 2, ..., [num_class - 1].\n",
      "  warnings.warn(label_encoder_deprecation_msg, UserWarning)\n",
      "/hobbitholes/waymoot/hchen/micromamba/envs/ach.0.8/lib/python3.7/site-packages/sklearn/utils/validation.py:63: DataConversionWarning: A column-vector y was passed when a 1d array was expected. Please change the shape of y to (n_samples, ), for example using ravel().\n",
      "  return f(*args, **kwargs)\n"
     ]
    },
    {
     "data": {
      "text/html": [
       "<div>\n",
       "<style scoped>\n",
       "    .dataframe tbody tr th:only-of-type {\n",
       "        vertical-align: middle;\n",
       "    }\n",
       "\n",
       "    .dataframe tbody tr th {\n",
       "        vertical-align: top;\n",
       "    }\n",
       "\n",
       "    .dataframe thead th {\n",
       "        text-align: right;\n",
       "    }\n",
       "</style>\n",
       "<table border=\"1\" class=\"dataframe\">\n",
       "  <thead>\n",
       "    <tr style=\"text-align: right;\">\n",
       "      <th></th>\n",
       "      <th>fit_time</th>\n",
       "      <th>score_time</th>\n",
       "      <th>test_score</th>\n",
       "      <th>train_score</th>\n",
       "    </tr>\n",
       "  </thead>\n",
       "  <tbody>\n",
       "    <tr>\n",
       "      <th>Random forests</th>\n",
       "      <td>0.782 (+/- 0.912)</td>\n",
       "      <td>0.115 (+/- 0.003)</td>\n",
       "      <td>0.900 (+/- 0.224)</td>\n",
       "      <td>1.000 (+/- 0.000)</td>\n",
       "    </tr>\n",
       "    <tr>\n",
       "      <th>SVC</th>\n",
       "      <td>0.006 (+/- 0.002)</td>\n",
       "      <td>0.004 (+/- 0.000)</td>\n",
       "      <td>0.600 (+/- 0.224)</td>\n",
       "      <td>0.725 (+/- 0.137)</td>\n",
       "    </tr>\n",
       "    <tr>\n",
       "      <th>XGboost</th>\n",
       "      <td>0.095 (+/- 0.042)</td>\n",
       "      <td>0.004 (+/- 0.003)</td>\n",
       "      <td>0.700 (+/- 0.274)</td>\n",
       "      <td>0.825 (+/- 0.143)</td>\n",
       "    </tr>\n",
       "  </tbody>\n",
       "</table>\n",
       "</div>"
      ],
      "text/plain": [
       "                         fit_time         score_time         test_score  \\\n",
       "Random forests  0.782 (+/- 0.912)  0.115 (+/- 0.003)  0.900 (+/- 0.224)   \n",
       "SVC             0.006 (+/- 0.002)  0.004 (+/- 0.000)  0.600 (+/- 0.224)   \n",
       "XGboost         0.095 (+/- 0.042)  0.004 (+/- 0.003)  0.700 (+/- 0.274)   \n",
       "\n",
       "                      train_score  \n",
       "Random forests  1.000 (+/- 0.000)  \n",
       "SVC             0.725 (+/- 0.137)  \n",
       "XGboost         0.825 (+/- 0.143)  "
      ]
     },
     "execution_count": 26,
     "metadata": {},
     "output_type": "execute_result"
    }
   ],
   "source": [
    "results[\"XGboost\"] = mean_std_cross_val_scores(\n",
    "    pipe_xgb, x_train, y_train_encoded_df, return_train_score=True, scoring='accuracy'\n",
    ")\n",
    "pd.DataFrame(results).T"
   ]
  },
  {
   "cell_type": "code",
   "execution_count": 27,
   "metadata": {},
   "outputs": [],
   "source": [
    "from catboost import CatBoostClassifier\n"
   ]
  },
  {
   "cell_type": "code",
   "execution_count": 28,
   "metadata": {},
   "outputs": [],
   "source": [
    "pipe_catboost = make_pipeline(CatBoostClassifier(verbose=0, random_state=123))"
   ]
  },
  {
   "cell_type": "code",
   "execution_count": 143,
   "metadata": {},
   "outputs": [
    {
     "name": "stderr",
     "output_type": "stream",
     "text": [
      "The least populated class in y has only 1 members, which is less than n_splits=5.\n"
     ]
    },
    {
     "data": {
      "text/html": [
       "<div>\n",
       "<style scoped>\n",
       "    .dataframe tbody tr th:only-of-type {\n",
       "        vertical-align: middle;\n",
       "    }\n",
       "\n",
       "    .dataframe tbody tr th {\n",
       "        vertical-align: top;\n",
       "    }\n",
       "\n",
       "    .dataframe thead th {\n",
       "        text-align: right;\n",
       "    }\n",
       "</style>\n",
       "<table border=\"1\" class=\"dataframe\">\n",
       "  <thead>\n",
       "    <tr style=\"text-align: right;\">\n",
       "      <th></th>\n",
       "      <th>fit_time</th>\n",
       "      <th>score_time</th>\n",
       "      <th>test_score</th>\n",
       "      <th>train_score</th>\n",
       "    </tr>\n",
       "  </thead>\n",
       "  <tbody>\n",
       "    <tr>\n",
       "      <th>Random forests</th>\n",
       "      <td>0.818 (+/- 0.961)</td>\n",
       "      <td>0.115 (+/- 0.002)</td>\n",
       "      <td>0.900 (+/- 0.224)</td>\n",
       "      <td>1.000 (+/- 0.000)</td>\n",
       "    </tr>\n",
       "    <tr>\n",
       "      <th>SVC</th>\n",
       "      <td>0.006 (+/- 0.001)</td>\n",
       "      <td>0.004 (+/- 0.000)</td>\n",
       "      <td>0.600 (+/- 0.224)</td>\n",
       "      <td>0.725 (+/- 0.137)</td>\n",
       "    </tr>\n",
       "    <tr>\n",
       "      <th>XGboost</th>\n",
       "      <td>0.090 (+/- 0.032)</td>\n",
       "      <td>0.004 (+/- 0.001)</td>\n",
       "      <td>0.700 (+/- 0.274)</td>\n",
       "      <td>0.825 (+/- 0.143)</td>\n",
       "    </tr>\n",
       "    <tr>\n",
       "      <th>Catboost</th>\n",
       "      <td>0.356 (+/- 0.157)</td>\n",
       "      <td>0.002 (+/- 0.000)</td>\n",
       "      <td>0.700 (+/- 0.274)</td>\n",
       "      <td>1.000 (+/- 0.000)</td>\n",
       "    </tr>\n",
       "  </tbody>\n",
       "</table>\n",
       "</div>"
      ],
      "text/plain": [
       "                         fit_time         score_time         test_score  \\\n",
       "Random forests  0.818 (+/- 0.961)  0.115 (+/- 0.002)  0.900 (+/- 0.224)   \n",
       "SVC             0.006 (+/- 0.001)  0.004 (+/- 0.000)  0.600 (+/- 0.224)   \n",
       "XGboost         0.090 (+/- 0.032)  0.004 (+/- 0.001)  0.700 (+/- 0.274)   \n",
       "Catboost        0.356 (+/- 0.157)  0.002 (+/- 0.000)  0.700 (+/- 0.274)   \n",
       "\n",
       "                      train_score  \n",
       "Random forests  1.000 (+/- 0.000)  \n",
       "SVC             0.725 (+/- 0.137)  \n",
       "XGboost         0.825 (+/- 0.143)  \n",
       "Catboost        1.000 (+/- 0.000)  "
      ]
     },
     "execution_count": 143,
     "metadata": {},
     "output_type": "execute_result"
    }
   ],
   "source": [
    "results[\"Catboost\"] = mean_std_cross_val_scores(\n",
    "    pipe_catboost, x_train, y_train_encoded_df, return_train_score=True, scoring='accuracy'\n",
    ")\n",
    "pd.DataFrame(results).T"
   ]
  },
  {
   "cell_type": "markdown",
   "metadata": {},
   "source": [
    "# ANOVA version 60 20 20 split"
   ]
  },
  {
   "cell_type": "code",
   "execution_count": null,
   "metadata": {},
   "outputs": [],
   "source": [
    "train_df, test_df = train_test_split(data1, test_size=0.20, random_state=123)"
   ]
  },
  {
   "cell_type": "code",
   "execution_count": null,
   "metadata": {},
   "outputs": [],
   "source": [
    "train_df.index.values.tolist()"
   ]
  },
  {
   "cell_type": "code",
   "execution_count": null,
   "metadata": {},
   "outputs": [],
   "source": [
    "train_df, ANOVA_df = train_test_split(train_df, test_size=0.25, random_state=123)"
   ]
  },
  {
   "cell_type": "code",
   "execution_count": null,
   "metadata": {},
   "outputs": [],
   "source": [
    "train_df.shape"
   ]
  },
  {
   "cell_type": "code",
   "execution_count": null,
   "metadata": {},
   "outputs": [],
   "source": [
    "ANOVA_df.shape"
   ]
  },
  {
   "cell_type": "code",
   "execution_count": null,
   "metadata": {},
   "outputs": [],
   "source": [
    "test_df.shape"
   ]
  },
  {
   "cell_type": "code",
   "execution_count": null,
   "metadata": {},
   "outputs": [],
   "source": [
    "from sklearn.datasets import load_iris\n",
    "from sklearn.feature_selection import SelectKBest\n",
    "from sklearn.feature_selection import f_classif\n",
    "import pandas as pd\n",
    "import matplotlib.pyplot as plt"
   ]
  },
  {
   "cell_type": "code",
   "execution_count": null,
   "metadata": {},
   "outputs": [],
   "source": [
    "x_train = train_df.drop(columns=[\"species\"])\n",
    "y_train = train_df[\"species\"]\n",
    "x_ANOVA = train_df.drop(columns=[\"species\"])\n",
    "y_ANOVA = train_df[\"species\"]\n",
    "x_test = test_df.drop(columns=[\"species\"])\n",
    "y_test = test_df[\"species\"]"
   ]
  },
  {
   "cell_type": "code",
   "execution_count": null,
   "metadata": {},
   "outputs": [],
   "source": [
    "fvalue_Best = SelectKBest(f_classif, k=3)"
   ]
  },
  {
   "cell_type": "code",
   "execution_count": null,
   "metadata": {},
   "outputs": [],
   "source": [
    "ANOVA_data = fvalue_Best.fit_transform(x_ANOVA, y_ANOVA)\n",
    "ANOVA_data"
   ]
  },
  {
   "cell_type": "code",
   "execution_count": null,
   "metadata": {},
   "outputs": [],
   "source": [
    "print('feature importance: ', fvalue_Best.scores_)"
   ]
  },
  {
   "cell_type": "code",
   "execution_count": null,
   "metadata": {},
   "outputs": [],
   "source": [
    "print('pvalues: ', fvalue_Best.pvalues_)"
   ]
  },
  {
   "cell_type": "code",
   "execution_count": null,
   "metadata": {},
   "outputs": [],
   "source": [
    "columns = x_ANOVA.columns\n",
    "columns"
   ]
  },
  {
   "cell_type": "code",
   "execution_count": null,
   "metadata": {},
   "outputs": [],
   "source": [
    "feature_scores = list(zip(fvalue_Best.scores_,columns))\n",
    "sorted_feature_scores = sorted(feature_scores,reverse=True)\n",
    "sorted_feature_scores"
   ]
  },
  {
   "cell_type": "code",
   "execution_count": null,
   "metadata": {},
   "outputs": [],
   "source": [
    "num_list = []\n",
    "col_list = []\n",
    "for i in range(len(sorted_feature_scores)):\n",
    "   num_list.append((sorted_feature_scores[i])[0])\n",
    "   col_list.append((sorted_feature_scores [i])[1])\n",
    "plt.bar(col_list[:10],num_list[:10])\n",
    "plt.xticks(rotation=90)"
   ]
  },
  {
   "cell_type": "code",
   "execution_count": null,
   "metadata": {},
   "outputs": [],
   "source": [
    "pd.DataFrame(num_list,index=col_list,columns=['importance'])"
   ]
  },
  {
   "cell_type": "code",
   "execution_count": null,
   "metadata": {},
   "outputs": [],
   "source": []
  },
  {
   "cell_type": "markdown",
   "metadata": {},
   "source": [
    "# hyperparameter optimization"
   ]
  },
  {
   "cell_type": "code",
   "execution_count": 144,
   "metadata": {},
   "outputs": [],
   "source": [
    "from sklearn.model_selection import RandomizedSearchCV\n",
    "from sklearn.model_selection import GridSearchCV"
   ]
  },
  {
   "cell_type": "code",
   "execution_count": null,
   "metadata": {},
   "outputs": [],
   "source": [
    "param_grid = {\n",
    "#     \"learning_rate\": [0.1, 0.3, 0.6],\n",
    "    \"xgbclassifier__max_depth\": [3,6,9],\n",
    "    \"xgbclassifier__n_estimators\": [50, 90],\n",
    "#     \"subsample\": [0.6, 1],\n",
    "#     \"colsample_bytree\": [0.6,1],\n",
    "}\n",
    "\n",
    "print(\"Grid size: %d\" % (np.prod(list(map(len, param_grid.values())))))\n",
    "param_grid"
   ]
  },
  {
   "cell_type": "code",
   "execution_count": null,
   "metadata": {},
   "outputs": [],
   "source": [
    "random_search = RandomizedSearchCV(\n",
    "    pipe_xgb, param_distributions=param_grid, n_jobs=-1, n_iter=20, cv=5, random_state=123\n",
    ")\n",
    "random_search.fit(x_train, y_train)"
   ]
  },
  {
   "cell_type": "code",
   "execution_count": null,
   "metadata": {},
   "outputs": [],
   "source": [
    "pd.DataFrame(random_search.cv_results_)[\n",
    "    [\n",
    "        \"mean_test_score\",\n",
    "        \"param_xgbclassifier__max_depth\",\n",
    "        \"param_xgbclassifier__n_estimators\",\n",
    "        \"mean_fit_time\",\n",
    "        \"rank_test_score\",\n",
    "    ]\n",
    "].set_index(\"rank_test_score\").sort_index().T"
   ]
  },
  {
   "cell_type": "code",
   "execution_count": null,
   "metadata": {},
   "outputs": [],
   "source": [
    "import mglearn"
   ]
  },
  {
   "cell_type": "code",
   "execution_count": null,
   "metadata": {},
   "outputs": [],
   "source": [
    "def display_heatmap(param_grid, pipe, X_train, y_train):\n",
    "    grid_search = GridSearchCV(\n",
    "        pipe, param_grid, cv=5, n_jobs=-1, return_train_score=True\n",
    "    )\n",
    "    grid_search.fit(X_train, y_train)\n",
    "    results = pd.DataFrame(grid_search.cv_results_)\n",
    "    scores = np.array(results.mean_test_score).reshape(4, 4)\n",
    "\n",
    "    # plot the mean cross-validation scores\n",
    "    mglearn.tools.heatmap(\n",
    "        scores,\n",
    "        xlabel=\"max_depth\",\n",
    "        xticklabels=param_grid[\"xgbclassifier__max_depth\"],\n",
    "        ylabel=\"n_estimators\",\n",
    "        yticklabels=param_grid[\"xgbclassifier__n_estimators\"],\n",
    "        cmap=\"viridis\",\n",
    "    );"
   ]
  },
  {
   "cell_type": "code",
   "execution_count": null,
   "metadata": {},
   "outputs": [],
   "source": [
    "param_grid1 = {\n",
    "    \"xgbclassifier__max_depth\": [3,6,9,12], \n",
    "    \"xgbclassifier__n_estimators\": [50, 90, 150, 200],\n",
    "}\n",
    "display_heatmap(param_grid1, pipe_xgb, x_train, y_train)"
   ]
  },
  {
   "cell_type": "code",
   "execution_count": null,
   "metadata": {},
   "outputs": [],
   "source": [
    "def display_heatmap(param_grid, pipe, X_train, y_train):\n",
    "    grid_search = GridSearchCV(\n",
    "        pipe, param_grid, cv=5, n_jobs=-1, return_train_score=True\n",
    "    )\n",
    "    grid_search.fit(X_train, y_train)\n",
    "    results = pd.DataFrame(grid_search.cv_results_)\n",
    "    scores = np.array(results.mean_test_score).reshape(4, 4)\n",
    "\n",
    "    # plot the mean cross-validation scores\n",
    "    mglearn.tools.heatmap(\n",
    "        scores,\n",
    "        xlabel=\"max_depth\",\n",
    "        xticklabels=param_grid[\"xgbclassifier__max_depth\"],\n",
    "        ylabel=\"n_estimators\",\n",
    "        yticklabels=param_grid[\"xgbclassifier__gamma\"],\n",
    "        cmap=\"viridis\",\n",
    "    );"
   ]
  },
  {
   "cell_type": "code",
   "execution_count": null,
   "metadata": {},
   "outputs": [],
   "source": [
    "param_grid1 = {\n",
    "    \"xgbclassifier__max_depth\": [3,6,9,12], \n",
    "    'xgbclassifier__gamma': np.logspace(-3, 2, 4)\n",
    "}\n",
    "display_heatmap(param_grid1, pipe_xgb, x_train, y_train)"
   ]
  },
  {
   "cell_type": "markdown",
   "metadata": {},
   "source": [
    "# feature importance"
   ]
  },
  {
   "cell_type": "code",
   "execution_count": 31,
   "metadata": {},
   "outputs": [
    {
     "name": "stderr",
     "output_type": "stream",
     "text": [
      "/hobbitholes/waymoot/hchen/micromamba/envs/ach.0.8/lib/python3.7/site-packages/sklearn/model_selection/_split.py:668: UserWarning: The least populated class in y has only 1 members, which is less than n_splits=5.\n",
      "  % (min_groups, self.n_splits)), UserWarning)\n",
      "/hobbitholes/waymoot/hchen/micromamba/envs/ach.0.8/lib/python3.7/site-packages/xgboost/sklearn.py:888: UserWarning: The use of label encoder in XGBClassifier is deprecated and will be removed in a future release. To remove this warning, do the following: 1) Pass option use_label_encoder=False when constructing XGBClassifier object; and 2) Encode your labels (y) as integers starting with 0, i.e. 0, 1, 2, ..., [num_class - 1].\n",
      "  warnings.warn(label_encoder_deprecation_msg, UserWarning)\n",
      "/hobbitholes/waymoot/hchen/micromamba/envs/ach.0.8/lib/python3.7/site-packages/xgboost/sklearn.py:888: UserWarning: The use of label encoder in XGBClassifier is deprecated and will be removed in a future release. To remove this warning, do the following: 1) Pass option use_label_encoder=False when constructing XGBClassifier object; and 2) Encode your labels (y) as integers starting with 0, i.e. 0, 1, 2, ..., [num_class - 1].\n",
      "  warnings.warn(label_encoder_deprecation_msg, UserWarning)\n",
      "/hobbitholes/waymoot/hchen/micromamba/envs/ach.0.8/lib/python3.7/site-packages/xgboost/sklearn.py:888: UserWarning: The use of label encoder in XGBClassifier is deprecated and will be removed in a future release. To remove this warning, do the following: 1) Pass option use_label_encoder=False when constructing XGBClassifier object; and 2) Encode your labels (y) as integers starting with 0, i.e. 0, 1, 2, ..., [num_class - 1].\n",
      "  warnings.warn(label_encoder_deprecation_msg, UserWarning)\n",
      "/hobbitholes/waymoot/hchen/micromamba/envs/ach.0.8/lib/python3.7/site-packages/xgboost/sklearn.py:888: UserWarning: The use of label encoder in XGBClassifier is deprecated and will be removed in a future release. To remove this warning, do the following: 1) Pass option use_label_encoder=False when constructing XGBClassifier object; and 2) Encode your labels (y) as integers starting with 0, i.e. 0, 1, 2, ..., [num_class - 1].\n",
      "  warnings.warn(label_encoder_deprecation_msg, UserWarning)\n",
      "/hobbitholes/waymoot/hchen/micromamba/envs/ach.0.8/lib/python3.7/site-packages/xgboost/sklearn.py:888: UserWarning: The use of label encoder in XGBClassifier is deprecated and will be removed in a future release. To remove this warning, do the following: 1) Pass option use_label_encoder=False when constructing XGBClassifier object; and 2) Encode your labels (y) as integers starting with 0, i.e. 0, 1, 2, ..., [num_class - 1].\n",
      "  warnings.warn(label_encoder_deprecation_msg, UserWarning)\n"
     ]
    },
    {
     "data": {
      "text/html": [
       "<div>\n",
       "<style scoped>\n",
       "    .dataframe tbody tr th:only-of-type {\n",
       "        vertical-align: middle;\n",
       "    }\n",
       "\n",
       "    .dataframe tbody tr th {\n",
       "        vertical-align: top;\n",
       "    }\n",
       "\n",
       "    .dataframe thead th {\n",
       "        text-align: right;\n",
       "    }\n",
       "</style>\n",
       "<table border=\"1\" class=\"dataframe\">\n",
       "  <thead>\n",
       "    <tr style=\"text-align: right;\">\n",
       "      <th></th>\n",
       "      <th>fit_time</th>\n",
       "      <th>score_time</th>\n",
       "      <th>test_score</th>\n",
       "      <th>train_score</th>\n",
       "    </tr>\n",
       "  </thead>\n",
       "  <tbody>\n",
       "    <tr>\n",
       "      <th>XGboost</th>\n",
       "      <td>0.062 (+/- 0.019)</td>\n",
       "      <td>0.006 (+/- 0.007)</td>\n",
       "      <td>0.700 (+/- 0.274)</td>\n",
       "      <td>0.825 (+/- 0.143)</td>\n",
       "    </tr>\n",
       "  </tbody>\n",
       "</table>\n",
       "</div>"
      ],
      "text/plain": [
       "                  fit_time         score_time         test_score  \\\n",
       "XGboost  0.062 (+/- 0.019)  0.006 (+/- 0.007)  0.700 (+/- 0.274)   \n",
       "\n",
       "               train_score  \n",
       "XGboost  0.825 (+/- 0.143)  "
      ]
     },
     "execution_count": 31,
     "metadata": {},
     "output_type": "execute_result"
    }
   ],
   "source": [
    "pipe_final = make_pipeline(XGBClassifier(eval_metric = 'mlogloss', random_state = 123, max_depth = 9, n_estimators = 50))\n",
    "results = {}\n",
    "results[\"XGboost\"] = mean_std_cross_val_scores(\n",
    "    pipe_xgb, x_train, y_train, return_train_score=True, scoring='accuracy'\n",
    ")\n",
    "pd.DataFrame(results).T"
   ]
  },
  {
   "cell_type": "code",
   "execution_count": 32,
   "metadata": {},
   "outputs": [
    {
     "ename": "AttributeError",
     "evalue": "Feature importance is not defined for Booster type None",
     "output_type": "error",
     "traceback": [
      "\u001B[0;31m---------------------------------------------------------------------------\u001B[0m",
      "\u001B[0;31mAttributeError\u001B[0m                            Traceback (most recent call last)",
      "\u001B[0;32m/tmp/ipykernel_2418935/2547066539.py\u001B[0m in \u001B[0;36m<module>\u001B[0;34m\u001B[0m\n\u001B[1;32m      1\u001B[0m data = {\n\u001B[0;32m----> 2\u001B[0;31m     \u001B[0;34m\"Importance\"\u001B[0m\u001B[0;34m:\u001B[0m \u001B[0mpipe_final\u001B[0m\u001B[0;34m.\u001B[0m\u001B[0mnamed_steps\u001B[0m\u001B[0;34m[\u001B[0m\u001B[0;34m\"xgbclassifier\"\u001B[0m\u001B[0;34m]\u001B[0m\u001B[0;34m.\u001B[0m\u001B[0mfeature_importances_\u001B[0m\u001B[0;34m,\u001B[0m\u001B[0;34m\u001B[0m\u001B[0;34m\u001B[0m\u001B[0m\n\u001B[0m\u001B[1;32m      3\u001B[0m }\n\u001B[1;32m      4\u001B[0m xgb_imp_df = pd.DataFrame(\n\u001B[1;32m      5\u001B[0m     \u001B[0mdata\u001B[0m\u001B[0;34m=\u001B[0m\u001B[0mdata\u001B[0m\u001B[0;34m,\u001B[0m\u001B[0;34m\u001B[0m\u001B[0;34m\u001B[0m\u001B[0m\n",
      "\u001B[0;32m~/micromamba/envs/ach.0.8/lib/python3.7/site-packages/xgboost/sklearn.py\u001B[0m in \u001B[0;36mfeature_importances_\u001B[0;34m(self)\u001B[0m\n\u001B[1;32m    738\u001B[0m             raise AttributeError(\n\u001B[1;32m    739\u001B[0m                 \u001B[0;34m'Feature importance is not defined for Booster type {}'\u001B[0m\u001B[0;34m\u001B[0m\u001B[0;34m\u001B[0m\u001B[0m\n\u001B[0;32m--> 740\u001B[0;31m                 .format(self.booster))\n\u001B[0m\u001B[1;32m    741\u001B[0m         \u001B[0mb\u001B[0m \u001B[0;34m=\u001B[0m \u001B[0mself\u001B[0m\u001B[0;34m.\u001B[0m\u001B[0mget_booster\u001B[0m\u001B[0;34m(\u001B[0m\u001B[0;34m)\u001B[0m\u001B[0;34m\u001B[0m\u001B[0;34m\u001B[0m\u001B[0m\n\u001B[1;32m    742\u001B[0m         \u001B[0mscore\u001B[0m \u001B[0;34m=\u001B[0m \u001B[0mb\u001B[0m\u001B[0;34m.\u001B[0m\u001B[0mget_score\u001B[0m\u001B[0;34m(\u001B[0m\u001B[0mimportance_type\u001B[0m\u001B[0;34m=\u001B[0m\u001B[0mself\u001B[0m\u001B[0;34m.\u001B[0m\u001B[0mimportance_type\u001B[0m\u001B[0;34m)\u001B[0m\u001B[0;34m\u001B[0m\u001B[0;34m\u001B[0m\u001B[0m\n",
      "\u001B[0;31mAttributeError\u001B[0m: Feature importance is not defined for Booster type None"
     ]
    }
   ],
   "source": [
    "data = {\n",
    "    \"Importance\": pipe_final.named_steps[\"xgbclassifier\"].feature_importances_,\n",
    "}\n",
    "xgb_imp_df = pd.DataFrame(\n",
    "    data=data,\n",
    "    index=feature_names,\n",
    ").sort_values(by=\"Importance\", ascending=False)"
   ]
  },
  {
   "cell_type": "code",
   "execution_count": 33,
   "metadata": {},
   "outputs": [],
   "source": [
    "import eli5"
   ]
  },
  {
   "cell_type": "code",
   "execution_count": 34,
   "metadata": {},
   "outputs": [
    {
     "name": "stderr",
     "output_type": "stream",
     "text": [
      "/hobbitholes/waymoot/hchen/micromamba/envs/ach.0.8/lib/python3.7/site-packages/xgboost/sklearn.py:888: UserWarning: The use of label encoder in XGBClassifier is deprecated and will be removed in a future release. To remove this warning, do the following: 1) Pass option use_label_encoder=False when constructing XGBClassifier object; and 2) Encode your labels (y) as integers starting with 0, i.e. 0, 1, 2, ..., [num_class - 1].\n",
      "  warnings.warn(label_encoder_deprecation_msg, UserWarning)\n"
     ]
    },
    {
     "data": {
      "text/plain": [
       "Pipeline(steps=[('xgbclassifier',\n",
       "                 XGBClassifier(base_score=0.5, booster='gbtree',\n",
       "                               colsample_bylevel=1, colsample_bynode=1,\n",
       "                               colsample_bytree=1, eval_metric='mlogloss',\n",
       "                               gamma=0, gpu_id=-1, importance_type='gain',\n",
       "                               interaction_constraints='',\n",
       "                               learning_rate=0.300000012, max_delta_step=0,\n",
       "                               max_depth=9, min_child_weight=1, missing=nan,\n",
       "                               monotone_constraints='()', n_estimators=50,\n",
       "                               n_jobs=24, num_parallel_tree=1,\n",
       "                               objective='multi:softprob', random_state=123,\n",
       "                               reg_alpha=0, reg_lambda=1, scale_pos_weight=None,\n",
       "                               subsample=1, tree_method='exact',\n",
       "                               validate_parameters=1, verbosity=None))])"
      ]
     },
     "execution_count": 34,
     "metadata": {},
     "output_type": "execute_result"
    }
   ],
   "source": [
    "pipe_final.fit(x_train, y_train)"
   ]
  },
  {
   "cell_type": "code",
   "execution_count": 37,
   "metadata": {},
   "outputs": [
    {
     "data": {
      "text/html": [
       "\n",
       "    <style>\n",
       "    table.eli5-weights tr:hover {\n",
       "        filter: brightness(85%);\n",
       "    }\n",
       "</style>\n",
       "\n",
       "\n",
       "\n",
       "    \n",
       "\n",
       "    \n",
       "\n",
       "    \n",
       "\n",
       "    \n",
       "\n",
       "    \n",
       "\n",
       "    \n",
       "\n",
       "\n",
       "    \n",
       "\n",
       "    \n",
       "\n",
       "    \n",
       "\n",
       "    \n",
       "\n",
       "    \n",
       "\n",
       "    \n",
       "\n",
       "\n",
       "    \n",
       "\n",
       "    \n",
       "\n",
       "    \n",
       "\n",
       "    \n",
       "\n",
       "    \n",
       "        <table class=\"eli5-weights eli5-feature-importances\" style=\"border-collapse: collapse; border: none; margin-top: 0em; table-layout: auto;\">\n",
       "    <thead>\n",
       "    <tr style=\"border: none;\">\n",
       "        <th style=\"padding: 0 1em 0 0.5em; text-align: right; border: none;\">Weight</th>\n",
       "        <th style=\"padding: 0 0.5em 0 0.5em; text-align: left; border: none;\">Feature</th>\n",
       "    </tr>\n",
       "    </thead>\n",
       "    <tbody>\n",
       "    \n",
       "        <tr style=\"background-color: hsl(120, 100.00%, 80.00%); border: none;\">\n",
       "            <td style=\"padding: 0 1em 0 0.5em; text-align: right; border: none;\">\n",
       "                0.6312\n",
       "                \n",
       "            </td>\n",
       "            <td style=\"padding: 0 0.5em 0 0.5em; text-align: left; border: none;\">\n",
       "                kmer4\n",
       "            </td>\n",
       "        </tr>\n",
       "    \n",
       "        <tr style=\"background-color: hsl(120, 100.00%, 87.74%); border: none;\">\n",
       "            <td style=\"padding: 0 1em 0 0.5em; text-align: right; border: none;\">\n",
       "                0.3138\n",
       "                \n",
       "            </td>\n",
       "            <td style=\"padding: 0 0.5em 0 0.5em; text-align: left; border: none;\">\n",
       "                kmer3\n",
       "            </td>\n",
       "        </tr>\n",
       "    \n",
       "        <tr style=\"background-color: hsl(120, 100.00%, 96.38%); border: none;\">\n",
       "            <td style=\"padding: 0 1em 0 0.5em; text-align: right; border: none;\">\n",
       "                0.0550\n",
       "                \n",
       "            </td>\n",
       "            <td style=\"padding: 0 0.5em 0 0.5em; text-align: left; border: none;\">\n",
       "                kmer1\n",
       "            </td>\n",
       "        </tr>\n",
       "    \n",
       "        <tr style=\"background-color: hsl(0, 100.00%, 100.00%); border: none;\">\n",
       "            <td style=\"padding: 0 1em 0 0.5em; text-align: right; border: none;\">\n",
       "                0\n",
       "                \n",
       "            </td>\n",
       "            <td style=\"padding: 0 0.5em 0 0.5em; text-align: left; border: none;\">\n",
       "                kmer5\n",
       "            </td>\n",
       "        </tr>\n",
       "    \n",
       "        <tr style=\"background-color: hsl(0, 100.00%, 100.00%); border: none;\">\n",
       "            <td style=\"padding: 0 1em 0 0.5em; text-align: right; border: none;\">\n",
       "                0\n",
       "                \n",
       "            </td>\n",
       "            <td style=\"padding: 0 0.5em 0 0.5em; text-align: left; border: none;\">\n",
       "                kmer2\n",
       "            </td>\n",
       "        </tr>\n",
       "    \n",
       "    \n",
       "    </tbody>\n",
       "</table>\n",
       "    \n",
       "\n",
       "    \n",
       "\n",
       "\n",
       "    \n",
       "\n",
       "    \n",
       "\n",
       "    \n",
       "\n",
       "    \n",
       "\n",
       "    \n",
       "\n",
       "    \n",
       "\n",
       "\n",
       "\n"
      ],
      "text/plain": [
       "Explanation(estimator=\"XGBClassifier(base_score=0.5, booster='gbtree', colsample_bylevel=1,\\n              colsample_bynode=1, colsample_bytree=1, eval_metric='mlogloss',\\n              gamma=0, gpu_id=-1, importance_type='gain',\\n              interaction_constraints='', learning_rate=0.300000012,\\n              max_delta_step=0, max_depth=9, min_child_weight=1, missing=nan,\\n              monotone_constraints='()', n_estimators=50, n_jobs=24,\\n              num_parallel_tree=1, objective='multi:softprob', random_state=123,\\n              reg_alpha=0, reg_lambda=1, scale_pos_weight=None, subsample=1,\\n              tree_method='exact', validate_parameters=1, verbosity=None)\", description='\\nXGBoost feature importances; values are numbers 0 <= x <= 1;\\nall values sum to 1.\\n', error=None, method='feature importances', is_regression=False, targets=None, feature_importances=FeatureImportances(importances=[FeatureWeight(feature='kmer4', weight=0.6311861, std=None, value=None), FeatureWeight(feature='kmer3', weight=0.3138389, std=None, value=None), FeatureWeight(feature='kmer1', weight=0.054974988, std=None, value=None), FeatureWeight(feature='kmer5', weight=0.0, std=None, value=None), FeatureWeight(feature='kmer2', weight=0.0, std=None, value=None)], remaining=0), decision_tree=None, highlight_spaces=None, transition_features=None, image=None)"
      ]
     },
     "execution_count": 37,
     "metadata": {},
     "output_type": "execute_result"
    }
   ],
   "source": [
    "eli5_table = eli5.explain_weights(\n",
    "    pipe_final.named_steps[\"xgbclassifier\"]\n",
    ")\n",
    "eli5_table"
   ]
  },
  {
   "cell_type": "code",
   "execution_count": 52,
   "metadata": {},
   "outputs": [
    {
     "data": {
      "text/plain": [
       "['kmer4', 'kmer3', 'kmer1', 'kmer5', 'kmer2']"
      ]
     },
     "execution_count": 52,
     "metadata": {},
     "output_type": "execute_result"
    }
   ],
   "source": [
    "eli5_table = eli5.formatters.as_dataframe.explain_weights_df(\n",
    "    pipe_final.named_steps[\"xgbclassifier\"]\n",
    ")\n",
    "list(eli5_table.values[:10,0])"
   ]
  },
  {
   "cell_type": "markdown",
   "metadata": {},
   "source": [
    "# SHAP"
   ]
  },
  {
   "cell_type": "code",
   "execution_count": 164,
   "metadata": {},
   "outputs": [
    {
     "data": {
      "text/html": [
       "<div>\n",
       "<style scoped>\n",
       "    .dataframe tbody tr th:only-of-type {\n",
       "        vertical-align: middle;\n",
       "    }\n",
       "\n",
       "    .dataframe tbody tr th {\n",
       "        vertical-align: top;\n",
       "    }\n",
       "\n",
       "    .dataframe thead th {\n",
       "        text-align: right;\n",
       "    }\n",
       "</style>\n",
       "<table border=\"1\" class=\"dataframe\">\n",
       "  <thead>\n",
       "    <tr style=\"text-align: right;\">\n",
       "      <th></th>\n",
       "      <th>kmer1</th>\n",
       "      <th>kmer2</th>\n",
       "      <th>kmer3</th>\n",
       "      <th>kmer4</th>\n",
       "      <th>kmer5</th>\n",
       "    </tr>\n",
       "  </thead>\n",
       "  <tbody>\n",
       "    <tr>\n",
       "      <th>file6</th>\n",
       "      <td>1</td>\n",
       "      <td>0</td>\n",
       "      <td>1</td>\n",
       "      <td>0</td>\n",
       "      <td>0</td>\n",
       "    </tr>\n",
       "    <tr>\n",
       "      <th>file1</th>\n",
       "      <td>0</td>\n",
       "      <td>0</td>\n",
       "      <td>0</td>\n",
       "      <td>0</td>\n",
       "      <td>0</td>\n",
       "    </tr>\n",
       "  </tbody>\n",
       "</table>\n",
       "</div>"
      ],
      "text/plain": [
       "       kmer1  kmer2  kmer3  kmer4  kmer5\n",
       "file6      1      0      1      0      0\n",
       "file1      0      0      0      0      0"
      ]
     },
     "execution_count": 164,
     "metadata": {},
     "output_type": "execute_result"
    }
   ],
   "source": [
    "x_test"
   ]
  },
  {
   "cell_type": "code",
   "execution_count": 165,
   "metadata": {},
   "outputs": [
    {
     "data": {
      "text/plain": [
       "0    0\n",
       "1    0\n",
       "2    2\n",
       "3    0\n",
       "4    0\n",
       "5    0\n",
       "6    2\n",
       "7    1\n",
       "8    0\n",
       "9    2\n",
       "dtype: int64"
      ]
     },
     "execution_count": 165,
     "metadata": {},
     "output_type": "execute_result"
    }
   ],
   "source": [
    "le = LabelEncoder()\n",
    "y_train_enc = pd.Series(le.fit_transform(y_train))\n",
    "y_train_enc"
   ]
  },
  {
   "cell_type": "code",
   "execution_count": 149,
   "metadata": {},
   "outputs": [
    {
     "data": {
      "text/plain": [
       "0    1\n",
       "1    0\n",
       "dtype: int64"
      ]
     },
     "execution_count": 149,
     "metadata": {},
     "output_type": "execute_result"
    }
   ],
   "source": [
    "y_test_enc = pd.Series(le.fit_transform(y_test))\n",
    "y_test_enc"
   ]
  },
  {
   "cell_type": "code",
   "execution_count": 150,
   "metadata": {},
   "outputs": [],
   "source": [
    "import shap"
   ]
  },
  {
   "cell_type": "code",
   "execution_count": 151,
   "metadata": {},
   "outputs": [
    {
     "name": "stderr",
     "output_type": "stream",
     "text": [
      "The use of label encoder in XGBClassifier is deprecated and will be removed in a future release. To remove this warning, do the following: 1) Pass option use_label_encoder=False when constructing XGBClassifier object; and 2) Encode your labels (y) as integers starting with 0, i.e. 0, 1, 2, ..., [num_class - 1].\n"
     ]
    },
    {
     "data": {
      "text/plain": [
       "Pipeline(steps=[('xgbclassifier',\n",
       "                 XGBClassifier(base_score=0.5, booster='gbtree',\n",
       "                               colsample_bylevel=1, colsample_bynode=1,\n",
       "                               colsample_bytree=1, eval_metric='mlogloss',\n",
       "                               gamma=0, gpu_id=-1, importance_type='gain',\n",
       "                               interaction_constraints='',\n",
       "                               learning_rate=0.300000012, max_delta_step=0,\n",
       "                               max_depth=9, min_child_weight=1, missing=nan,\n",
       "                               monotone_constraints='()', n_estimators=50,\n",
       "                               n_jobs=24, num_parallel_tree=1,\n",
       "                               objective='multi:softprob', random_state=123,\n",
       "                               reg_alpha=0, reg_lambda=1, scale_pos_weight=None,\n",
       "                               subsample=1, tree_method='exact',\n",
       "                               validate_parameters=1, verbosity=None))])"
      ]
     },
     "execution_count": 151,
     "metadata": {},
     "output_type": "execute_result"
    }
   ],
   "source": [
    "pipe_final.fit(x_train, y_train_enc)"
   ]
  },
  {
   "cell_type": "code",
   "execution_count": 152,
   "metadata": {},
   "outputs": [],
   "source": [
    "xgb_explainer = shap.TreeExplainer(pipe_final.named_steps[\"xgbclassifier\"])\n",
    "train_xgb_shap_values = xgb_explainer.shap_values(x_train)"
   ]
  },
  {
   "cell_type": "code",
   "execution_count": 153,
   "metadata": {},
   "outputs": [
    {
     "data": {
      "text/plain": [
       "array([[-0.8088318 ,  0.        ,  0.8778009 ,  0.11884171,  0.        ],\n",
       "       [ 0.71026844,  0.        ,  0.8778009 ,  0.11884171,  0.        ],\n",
       "       [ 0.71026844,  0.        , -0.9071228 , -0.27729732,  0.        ],\n",
       "       [ 0.71026844,  0.        ,  0.8778009 ,  0.11884171,  0.        ],\n",
       "       [ 0.71026844,  0.        , -0.9071228 ,  0.11884171,  0.        ],\n",
       "       [ 0.71026844,  0.        ,  0.8778009 ,  0.11884171,  0.        ],\n",
       "       [-0.8088318 ,  0.        , -0.9071228 , -0.27729732,  0.        ],\n",
       "       [-0.8088318 ,  0.        , -0.9071228 ,  0.11884171,  0.        ],\n",
       "       [ 0.71026844,  0.        ,  0.8778009 ,  0.11884171,  0.        ],\n",
       "       [-0.8088318 ,  0.        , -0.9071228 , -0.27729732,  0.        ]],\n",
       "      dtype=float32)"
      ]
     },
     "execution_count": 153,
     "metadata": {},
     "output_type": "execute_result"
    }
   ],
   "source": [
    "train_xgb_shap_values[0]"
   ]
  },
  {
   "cell_type": "code",
   "execution_count": 154,
   "metadata": {},
   "outputs": [
    {
     "data": {
      "text/plain": [
       "(10, 5)"
      ]
     },
     "execution_count": 154,
     "metadata": {},
     "output_type": "execute_result"
    }
   ],
   "source": [
    "train_xgb_shap_values[0].shape"
   ]
  },
  {
   "cell_type": "code",
   "execution_count": 163,
   "metadata": {},
   "outputs": [
    {
     "data": {
      "text/plain": [
       "[array([[-0.8088318 ,  0.        , -0.9071228 ,  0.11884171,  0.        ],\n",
       "        [ 0.71026844,  0.        ,  0.8778009 ,  0.11884171,  0.        ]],\n",
       "       dtype=float32),\n",
       " array([[ 0.5252492 ,  0.        ,  0.        ,  0.        ,  0.        ],\n",
       "        [-0.46651122,  0.        ,  0.        ,  0.        ,  0.        ]],\n",
       "       dtype=float32),\n",
       " array([[ 0.       ,  0.       ,  0.       , -1.1114029,  0.       ],\n",
       "        [ 0.       ,  0.       ,  0.       , -1.1114029,  0.       ]],\n",
       "       dtype=float32)]"
      ]
     },
     "execution_count": 163,
     "metadata": {},
     "output_type": "execute_result"
    }
   ],
   "source": [
    "test_xgb_shap_values = xgb_explainer.shap_values(x_test)\n",
    "test_xgb_shap_values"
   ]
  },
  {
   "cell_type": "code",
   "execution_count": null,
   "metadata": {},
   "outputs": [],
   "source": [
    "test_xgb_shap_values"
   ]
  },
  {
   "cell_type": "code",
   "execution_count": 184,
   "metadata": {},
   "outputs": [
    {
     "ename": "AttributeError",
     "evalue": "'EntryPoints' object has no attribute 'get'",
     "output_type": "error",
     "traceback": [
      "\u001B[0;31m---------------------------------------------------------------------------\u001B[0m",
      "\u001B[0;31mAttributeError\u001B[0m                            Traceback (most recent call last)",
      "\u001B[0;32m/tmp/ipykernel_280945/2057050109.py\u001B[0m in \u001B[0;36m<module>\u001B[0;34m\u001B[0m\n\u001B[0;32m----> 1\u001B[0;31m \u001B[0;32mimport\u001B[0m \u001B[0meli5\u001B[0m\u001B[0;34m\u001B[0m\u001B[0;34m\u001B[0m\u001B[0m\n\u001B[0m",
      "\u001B[0;32m~/micromamba/envs/ach.0.8/lib/python3.7/site-packages/eli5/__init__.py\u001B[0m in \u001B[0;36m<module>\u001B[0;34m\u001B[0m\n\u001B[1;32m     70\u001B[0m \u001B[0;34m\u001B[0m\u001B[0m\n\u001B[1;32m     71\u001B[0m \u001B[0;32mtry\u001B[0m\u001B[0;34m:\u001B[0m\u001B[0;34m\u001B[0m\u001B[0;34m\u001B[0m\u001B[0m\n\u001B[0;32m---> 72\u001B[0;31m     from .lightgbm import (\n\u001B[0m\u001B[1;32m     73\u001B[0m         \u001B[0mexplain_weights_lightgbm\u001B[0m\u001B[0;34m,\u001B[0m\u001B[0;34m\u001B[0m\u001B[0;34m\u001B[0m\u001B[0m\n\u001B[1;32m     74\u001B[0m         \u001B[0mexplain_prediction_lightgbm\u001B[0m\u001B[0;34m\u001B[0m\u001B[0;34m\u001B[0m\u001B[0m\n",
      "\u001B[0;32m~/micromamba/envs/ach.0.8/lib/python3.7/site-packages/eli5/lightgbm.py\u001B[0m in \u001B[0;36m<module>\u001B[0;34m\u001B[0m\n\u001B[1;32m      5\u001B[0m \u001B[0;34m\u001B[0m\u001B[0m\n\u001B[1;32m      6\u001B[0m \u001B[0;32mimport\u001B[0m \u001B[0mnumpy\u001B[0m \u001B[0;32mas\u001B[0m \u001B[0mnp\u001B[0m\u001B[0;34m\u001B[0m\u001B[0;34m\u001B[0m\u001B[0m\n\u001B[0;32m----> 7\u001B[0;31m \u001B[0;32mimport\u001B[0m \u001B[0mlightgbm\u001B[0m\u001B[0;34m\u001B[0m\u001B[0;34m\u001B[0m\u001B[0m\n\u001B[0m\u001B[1;32m      8\u001B[0m \u001B[0;34m\u001B[0m\u001B[0m\n\u001B[1;32m      9\u001B[0m \u001B[0;32mfrom\u001B[0m \u001B[0meli5\u001B[0m\u001B[0;34m.\u001B[0m\u001B[0mexplain\u001B[0m \u001B[0;32mimport\u001B[0m \u001B[0mexplain_weights\u001B[0m\u001B[0;34m,\u001B[0m \u001B[0mexplain_prediction\u001B[0m\u001B[0;34m\u001B[0m\u001B[0;34m\u001B[0m\u001B[0m\n",
      "\u001B[0;32m~/micromamba/envs/ach.0.8/lib/python3.7/site-packages/lightgbm/__init__.py\u001B[0m in \u001B[0;36m<module>\u001B[0;34m\u001B[0m\n\u001B[1;32m      6\u001B[0m \u001B[0;32mfrom\u001B[0m \u001B[0mpathlib\u001B[0m \u001B[0;32mimport\u001B[0m \u001B[0mPath\u001B[0m\u001B[0;34m\u001B[0m\u001B[0;34m\u001B[0m\u001B[0m\n\u001B[1;32m      7\u001B[0m \u001B[0;34m\u001B[0m\u001B[0m\n\u001B[0;32m----> 8\u001B[0;31m \u001B[0;32mfrom\u001B[0m \u001B[0;34m.\u001B[0m\u001B[0mbasic\u001B[0m \u001B[0;32mimport\u001B[0m \u001B[0mBooster\u001B[0m\u001B[0;34m,\u001B[0m \u001B[0mDataset\u001B[0m\u001B[0;34m,\u001B[0m \u001B[0mSequence\u001B[0m\u001B[0;34m,\u001B[0m \u001B[0mregister_logger\u001B[0m\u001B[0;34m\u001B[0m\u001B[0;34m\u001B[0m\u001B[0m\n\u001B[0m\u001B[1;32m      9\u001B[0m \u001B[0;32mfrom\u001B[0m \u001B[0;34m.\u001B[0m\u001B[0mcallback\u001B[0m \u001B[0;32mimport\u001B[0m \u001B[0mearly_stopping\u001B[0m\u001B[0;34m,\u001B[0m \u001B[0mlog_evaluation\u001B[0m\u001B[0;34m,\u001B[0m \u001B[0mprint_evaluation\u001B[0m\u001B[0;34m,\u001B[0m \u001B[0mrecord_evaluation\u001B[0m\u001B[0;34m,\u001B[0m \u001B[0mreset_parameter\u001B[0m\u001B[0;34m\u001B[0m\u001B[0;34m\u001B[0m\u001B[0m\n\u001B[1;32m     10\u001B[0m \u001B[0;32mfrom\u001B[0m \u001B[0;34m.\u001B[0m\u001B[0mengine\u001B[0m \u001B[0;32mimport\u001B[0m \u001B[0mCVBooster\u001B[0m\u001B[0;34m,\u001B[0m \u001B[0mcv\u001B[0m\u001B[0;34m,\u001B[0m \u001B[0mtrain\u001B[0m\u001B[0;34m\u001B[0m\u001B[0;34m\u001B[0m\u001B[0m\n",
      "\u001B[0;32m~/micromamba/envs/ach.0.8/lib/python3.7/site-packages/lightgbm/basic.py\u001B[0m in \u001B[0;36m<module>\u001B[0;34m\u001B[0m\n\u001B[1;32m     18\u001B[0m \u001B[0;32mimport\u001B[0m \u001B[0mscipy\u001B[0m\u001B[0;34m.\u001B[0m\u001B[0msparse\u001B[0m\u001B[0;34m\u001B[0m\u001B[0;34m\u001B[0m\u001B[0m\n\u001B[1;32m     19\u001B[0m \u001B[0;34m\u001B[0m\u001B[0m\n\u001B[0;32m---> 20\u001B[0;31m \u001B[0;32mfrom\u001B[0m \u001B[0;34m.\u001B[0m\u001B[0mcompat\u001B[0m \u001B[0;32mimport\u001B[0m \u001B[0mPANDAS_INSTALLED\u001B[0m\u001B[0;34m,\u001B[0m \u001B[0mconcat\u001B[0m\u001B[0;34m,\u001B[0m \u001B[0mdt_DataTable\u001B[0m\u001B[0;34m,\u001B[0m \u001B[0mis_dtype_sparse\u001B[0m\u001B[0;34m,\u001B[0m \u001B[0mpd_DataFrame\u001B[0m\u001B[0;34m,\u001B[0m \u001B[0mpd_Series\u001B[0m\u001B[0;34m\u001B[0m\u001B[0;34m\u001B[0m\u001B[0m\n\u001B[0m\u001B[1;32m     21\u001B[0m \u001B[0;32mfrom\u001B[0m \u001B[0;34m.\u001B[0m\u001B[0mlibpath\u001B[0m \u001B[0;32mimport\u001B[0m \u001B[0mfind_lib_path\u001B[0m\u001B[0;34m\u001B[0m\u001B[0;34m\u001B[0m\u001B[0m\n\u001B[1;32m     22\u001B[0m \u001B[0;34m\u001B[0m\u001B[0m\n",
      "\u001B[0;32m~/micromamba/envs/ach.0.8/lib/python3.7/site-packages/lightgbm/compat.py\u001B[0m in \u001B[0;36m<module>\u001B[0;34m\u001B[0m\n\u001B[1;32m    125\u001B[0m \u001B[0;32mtry\u001B[0m\u001B[0;34m:\u001B[0m\u001B[0;34m\u001B[0m\u001B[0;34m\u001B[0m\u001B[0m\n\u001B[1;32m    126\u001B[0m     \u001B[0;32mfrom\u001B[0m \u001B[0mdask\u001B[0m \u001B[0;32mimport\u001B[0m \u001B[0mdelayed\u001B[0m\u001B[0;34m\u001B[0m\u001B[0;34m\u001B[0m\u001B[0m\n\u001B[0;32m--> 127\u001B[0;31m     \u001B[0;32mfrom\u001B[0m \u001B[0mdask\u001B[0m\u001B[0;34m.\u001B[0m\u001B[0marray\u001B[0m \u001B[0;32mimport\u001B[0m \u001B[0mArray\u001B[0m \u001B[0;32mas\u001B[0m \u001B[0mdask_Array\u001B[0m\u001B[0;34m\u001B[0m\u001B[0;34m\u001B[0m\u001B[0m\n\u001B[0m\u001B[1;32m    128\u001B[0m     \u001B[0;32mfrom\u001B[0m \u001B[0mdask\u001B[0m\u001B[0;34m.\u001B[0m\u001B[0marray\u001B[0m \u001B[0;32mimport\u001B[0m \u001B[0mfrom_delayed\u001B[0m \u001B[0;32mas\u001B[0m \u001B[0mdask_array_from_delayed\u001B[0m\u001B[0;34m\u001B[0m\u001B[0;34m\u001B[0m\u001B[0m\n\u001B[1;32m    129\u001B[0m     \u001B[0;32mfrom\u001B[0m \u001B[0mdask\u001B[0m\u001B[0;34m.\u001B[0m\u001B[0mbag\u001B[0m \u001B[0;32mimport\u001B[0m \u001B[0mfrom_delayed\u001B[0m \u001B[0;32mas\u001B[0m \u001B[0mdask_bag_from_delayed\u001B[0m\u001B[0;34m\u001B[0m\u001B[0;34m\u001B[0m\u001B[0m\n",
      "\u001B[0;32m~/micromamba/envs/ach.0.8/lib/python3.7/site-packages/dask/array/__init__.py\u001B[0m in \u001B[0;36m<module>\u001B[0;34m\u001B[0m\n\u001B[1;32m      1\u001B[0m \u001B[0;32mtry\u001B[0m\u001B[0;34m:\u001B[0m\u001B[0;34m\u001B[0m\u001B[0;34m\u001B[0m\u001B[0m\n\u001B[1;32m      2\u001B[0m     \u001B[0;32mfrom\u001B[0m \u001B[0;34m.\u001B[0m\u001B[0;34m.\u001B[0m\u001B[0mbase\u001B[0m \u001B[0;32mimport\u001B[0m \u001B[0mcompute\u001B[0m\u001B[0;34m\u001B[0m\u001B[0;34m\u001B[0m\u001B[0m\n\u001B[0;32m----> 3\u001B[0;31m     \u001B[0;32mfrom\u001B[0m \u001B[0;34m.\u001B[0m \u001B[0;32mimport\u001B[0m \u001B[0mbackends\u001B[0m\u001B[0;34m,\u001B[0m \u001B[0mfft\u001B[0m\u001B[0;34m,\u001B[0m \u001B[0mlib\u001B[0m\u001B[0;34m,\u001B[0m \u001B[0mlinalg\u001B[0m\u001B[0;34m,\u001B[0m \u001B[0mma\u001B[0m\u001B[0;34m,\u001B[0m \u001B[0moverlap\u001B[0m\u001B[0;34m,\u001B[0m \u001B[0mrandom\u001B[0m\u001B[0;34m\u001B[0m\u001B[0;34m\u001B[0m\u001B[0m\n\u001B[0m\u001B[1;32m      4\u001B[0m     \u001B[0;32mfrom\u001B[0m \u001B[0;34m.\u001B[0m\u001B[0mblockwise\u001B[0m \u001B[0;32mimport\u001B[0m \u001B[0matop\u001B[0m\u001B[0;34m,\u001B[0m \u001B[0mblockwise\u001B[0m\u001B[0;34m\u001B[0m\u001B[0;34m\u001B[0m\u001B[0m\n\u001B[1;32m      5\u001B[0m     \u001B[0;32mfrom\u001B[0m \u001B[0;34m.\u001B[0m\u001B[0mchunk_types\u001B[0m \u001B[0;32mimport\u001B[0m \u001B[0mregister_chunk_type\u001B[0m\u001B[0;34m\u001B[0m\u001B[0;34m\u001B[0m\u001B[0m\n",
      "\u001B[0;32m~/micromamba/envs/ach.0.8/lib/python3.7/site-packages/dask/array/backends.py\u001B[0m in \u001B[0;36m<module>\u001B[0;34m\u001B[0m\n\u001B[1;32m     11\u001B[0m \u001B[0;32mfrom\u001B[0m \u001B[0;34m.\u001B[0m\u001B[0mnumpy_compat\u001B[0m \u001B[0;32mimport\u001B[0m \u001B[0mdivide\u001B[0m \u001B[0;32mas\u001B[0m \u001B[0mnp_divide\u001B[0m\u001B[0;34m\u001B[0m\u001B[0;34m\u001B[0m\u001B[0m\n\u001B[1;32m     12\u001B[0m \u001B[0;32mfrom\u001B[0m \u001B[0;34m.\u001B[0m\u001B[0mnumpy_compat\u001B[0m \u001B[0;32mimport\u001B[0m \u001B[0mma_divide\u001B[0m\u001B[0;34m\u001B[0m\u001B[0;34m\u001B[0m\u001B[0m\n\u001B[0;32m---> 13\u001B[0;31m \u001B[0;32mfrom\u001B[0m \u001B[0;34m.\u001B[0m\u001B[0mpercentile\u001B[0m \u001B[0;32mimport\u001B[0m \u001B[0m_percentile\u001B[0m\u001B[0;34m\u001B[0m\u001B[0;34m\u001B[0m\u001B[0m\n\u001B[0m\u001B[1;32m     14\u001B[0m \u001B[0;34m\u001B[0m\u001B[0m\n\u001B[1;32m     15\u001B[0m \u001B[0mconcatenate_lookup\u001B[0m\u001B[0;34m.\u001B[0m\u001B[0mregister\u001B[0m\u001B[0;34m(\u001B[0m\u001B[0;34m(\u001B[0m\u001B[0mobject\u001B[0m\u001B[0;34m,\u001B[0m \u001B[0mnp\u001B[0m\u001B[0;34m.\u001B[0m\u001B[0mndarray\u001B[0m\u001B[0;34m)\u001B[0m\u001B[0;34m,\u001B[0m \u001B[0mnp\u001B[0m\u001B[0;34m.\u001B[0m\u001B[0mconcatenate\u001B[0m\u001B[0;34m)\u001B[0m\u001B[0;34m\u001B[0m\u001B[0;34m\u001B[0m\u001B[0m\n",
      "\u001B[0;32m~/micromamba/envs/ach.0.8/lib/python3.7/site-packages/dask/array/percentile.py\u001B[0m in \u001B[0;36m<module>\u001B[0;34m\u001B[0m\n\u001B[1;32m      9\u001B[0m \u001B[0;32mfrom\u001B[0m \u001B[0;34m.\u001B[0m\u001B[0;34m.\u001B[0m\u001B[0mbase\u001B[0m \u001B[0;32mimport\u001B[0m \u001B[0mtokenize\u001B[0m\u001B[0;34m\u001B[0m\u001B[0;34m\u001B[0m\u001B[0m\n\u001B[1;32m     10\u001B[0m \u001B[0;32mfrom\u001B[0m \u001B[0;34m.\u001B[0m\u001B[0;34m.\u001B[0m\u001B[0mhighlevelgraph\u001B[0m \u001B[0;32mimport\u001B[0m \u001B[0mHighLevelGraph\u001B[0m\u001B[0;34m\u001B[0m\u001B[0;34m\u001B[0m\u001B[0m\n\u001B[0;32m---> 11\u001B[0;31m \u001B[0;32mfrom\u001B[0m \u001B[0;34m.\u001B[0m\u001B[0mcore\u001B[0m \u001B[0;32mimport\u001B[0m \u001B[0mArray\u001B[0m\u001B[0;34m\u001B[0m\u001B[0;34m\u001B[0m\u001B[0m\n\u001B[0m\u001B[1;32m     12\u001B[0m \u001B[0;32mfrom\u001B[0m \u001B[0;34m.\u001B[0m\u001B[0mnumpy_compat\u001B[0m \u001B[0;32mimport\u001B[0m \u001B[0m_numpy_122\u001B[0m\u001B[0;34m\u001B[0m\u001B[0;34m\u001B[0m\u001B[0m\n\u001B[1;32m     13\u001B[0m \u001B[0;32mfrom\u001B[0m \u001B[0;34m.\u001B[0m\u001B[0mnumpy_compat\u001B[0m \u001B[0;32mimport\u001B[0m \u001B[0mpercentile\u001B[0m \u001B[0;32mas\u001B[0m \u001B[0mnp_percentile\u001B[0m\u001B[0;34m\u001B[0m\u001B[0;34m\u001B[0m\u001B[0m\n",
      "\u001B[0;32m~/micromamba/envs/ach.0.8/lib/python3.7/site-packages/dask/array/core.py\u001B[0m in \u001B[0;36m<module>\u001B[0;34m\u001B[0m\n\u001B[1;32m     29\u001B[0m \u001B[0;34m\u001B[0m\u001B[0m\n\u001B[1;32m     30\u001B[0m \u001B[0;32mimport\u001B[0m \u001B[0mnumpy\u001B[0m \u001B[0;32mas\u001B[0m \u001B[0mnp\u001B[0m\u001B[0;34m\u001B[0m\u001B[0;34m\u001B[0m\u001B[0m\n\u001B[0;32m---> 31\u001B[0;31m \u001B[0;32mfrom\u001B[0m \u001B[0mfsspec\u001B[0m \u001B[0;32mimport\u001B[0m \u001B[0mget_mapper\u001B[0m\u001B[0;34m\u001B[0m\u001B[0;34m\u001B[0m\u001B[0m\n\u001B[0m\u001B[1;32m     32\u001B[0m \u001B[0;32mfrom\u001B[0m \u001B[0mtlz\u001B[0m \u001B[0;32mimport\u001B[0m \u001B[0maccumulate\u001B[0m\u001B[0;34m,\u001B[0m \u001B[0mconcat\u001B[0m\u001B[0;34m,\u001B[0m \u001B[0mfirst\u001B[0m\u001B[0;34m,\u001B[0m \u001B[0mfrequencies\u001B[0m\u001B[0;34m,\u001B[0m \u001B[0mgroupby\u001B[0m\u001B[0;34m,\u001B[0m \u001B[0mpartition\u001B[0m\u001B[0;34m\u001B[0m\u001B[0;34m\u001B[0m\u001B[0m\n\u001B[1;32m     33\u001B[0m \u001B[0;32mfrom\u001B[0m \u001B[0mtlz\u001B[0m\u001B[0;34m.\u001B[0m\u001B[0mcurried\u001B[0m \u001B[0;32mimport\u001B[0m \u001B[0mpluck\u001B[0m\u001B[0;34m\u001B[0m\u001B[0;34m\u001B[0m\u001B[0m\n",
      "\u001B[0;32m~/micromamba/envs/ach.0.8/lib/python3.7/site-packages/fsspec/__init__.py\u001B[0m in \u001B[0;36m<module>\u001B[0;34m\u001B[0m\n\u001B[1;32m     47\u001B[0m         \u001B[0;32mpass\u001B[0m  \u001B[0;31m# importlib-metadata < 0.8\u001B[0m\u001B[0;34m\u001B[0m\u001B[0;34m\u001B[0m\u001B[0m\n\u001B[1;32m     48\u001B[0m     \u001B[0;32melse\u001B[0m\u001B[0;34m:\u001B[0m\u001B[0;34m\u001B[0m\u001B[0;34m\u001B[0m\u001B[0m\n\u001B[0;32m---> 49\u001B[0;31m         \u001B[0;32mfor\u001B[0m \u001B[0mspec\u001B[0m \u001B[0;32min\u001B[0m \u001B[0mentry_points\u001B[0m\u001B[0;34m.\u001B[0m\u001B[0mget\u001B[0m\u001B[0;34m(\u001B[0m\u001B[0;34m\"fsspec.specs\"\u001B[0m\u001B[0;34m,\u001B[0m \u001B[0;34m[\u001B[0m\u001B[0;34m]\u001B[0m\u001B[0;34m)\u001B[0m\u001B[0;34m:\u001B[0m\u001B[0;34m\u001B[0m\u001B[0;34m\u001B[0m\u001B[0m\n\u001B[0m\u001B[1;32m     50\u001B[0m             \u001B[0merr_msg\u001B[0m \u001B[0;34m=\u001B[0m \u001B[0;34mf\"Unable to load filesystem from {spec}\"\u001B[0m\u001B[0;34m\u001B[0m\u001B[0;34m\u001B[0m\u001B[0m\n\u001B[1;32m     51\u001B[0m             register_implementation(\n",
      "\u001B[0;31mAttributeError\u001B[0m: 'EntryPoints' object has no attribute 'get'"
     ]
    }
   ],
   "source": [
    "import eli5"
   ]
  },
  {
   "cell_type": "code",
   "execution_count": 183,
   "metadata": {},
   "outputs": [
    {
     "data": {
      "text/html": [
       "<div>\n",
       "<style scoped>\n",
       "    .dataframe tbody tr th:only-of-type {\n",
       "        vertical-align: middle;\n",
       "    }\n",
       "\n",
       "    .dataframe tbody tr th {\n",
       "        vertical-align: top;\n",
       "    }\n",
       "\n",
       "    .dataframe thead th {\n",
       "        text-align: right;\n",
       "    }\n",
       "</style>\n",
       "<table border=\"1\" class=\"dataframe\">\n",
       "  <thead>\n",
       "    <tr style=\"text-align: right;\">\n",
       "      <th></th>\n",
       "      <th>column_name</th>\n",
       "      <th>shap_importance</th>\n",
       "    </tr>\n",
       "  </thead>\n",
       "  <tbody>\n",
       "    <tr>\n",
       "      <th>2</th>\n",
       "      <td>kmer3</td>\n",
       "      <td>0.892462</td>\n",
       "    </tr>\n",
       "    <tr>\n",
       "      <th>0</th>\n",
       "      <td>kmer1</td>\n",
       "      <td>0.75955</td>\n",
       "    </tr>\n",
       "    <tr>\n",
       "      <th>3</th>\n",
       "      <td>kmer4</td>\n",
       "      <td>0.118842</td>\n",
       "    </tr>\n",
       "    <tr>\n",
       "      <th>1</th>\n",
       "      <td>kmer2</td>\n",
       "      <td>0.0</td>\n",
       "    </tr>\n",
       "    <tr>\n",
       "      <th>4</th>\n",
       "      <td>kmer5</td>\n",
       "      <td>0.0</td>\n",
       "    </tr>\n",
       "  </tbody>\n",
       "</table>\n",
       "</div>"
      ],
      "text/plain": [
       "  column_name shap_importance\n",
       "2       kmer3        0.892462\n",
       "0       kmer1         0.75955\n",
       "3       kmer4        0.118842\n",
       "1       kmer2             0.0\n",
       "4       kmer5             0.0"
      ]
     },
     "execution_count": 183,
     "metadata": {},
     "output_type": "execute_result"
    }
   ],
   "source": [
    "shap_sum_test = np.abs(test_xgb_shap_values[0]).mean(0)\n",
    "importance_df = pd.DataFrame([x_test.columns.tolist(), shap_sum_test.tolist()]).T\n",
    "importance_df.columns = ['column_name', 'shap_importance']\n",
    "importance_df = importance_df.sort_values('shap_importance', ascending=False)\n",
    "importance_df"
   ]
  },
  {
   "cell_type": "code",
   "execution_count": null,
   "metadata": {},
   "outputs": [],
   "source": [
    "y_test_reset = y_test_enc.reset_index(drop=True)\n",
    "y_test_reset"
   ]
  },
  {
   "cell_type": "code",
   "execution_count": null,
   "metadata": {},
   "outputs": [],
   "source": [
    "pipe_final.named_steps[\"xgbclassifier\"].predict_proba(x_test)[1]"
   ]
  },
  {
   "cell_type": "code",
   "execution_count": null,
   "metadata": {},
   "outputs": [],
   "source": [
    "pipe_final.named_steps[\"xgbclassifier\"].predict(x_test)[0]  # raw score of the model"
   ]
  },
  {
   "cell_type": "code",
   "execution_count": null,
   "metadata": {},
   "outputs": [],
   "source": [
    "pipe_final.named_steps[\"xgbclassifier\"].predict(x_test)"
   ]
  },
  {
   "cell_type": "code",
   "execution_count": null,
   "metadata": {},
   "outputs": [],
   "source": [
    "pipe_final.named_steps[\"xgbclassifier\"].predict(x_train).mean()"
   ]
  },
  {
   "cell_type": "code",
   "execution_count": null,
   "metadata": {},
   "outputs": [],
   "source": [
    "xgb_explainer.expected_value[1]  # on average this is the raw score for class 1"
   ]
  },
  {
   "cell_type": "code",
   "execution_count": null,
   "metadata": {},
   "outputs": [],
   "source": [
    "xgb_explainer.expected_value"
   ]
  },
  {
   "cell_type": "code",
   "execution_count": null,
   "metadata": {},
   "outputs": [],
   "source": [
    "x_test = round(x_test, 3)  # for better visualization"
   ]
  },
  {
   "cell_type": "code",
   "execution_count": null,
   "metadata": {},
   "outputs": [],
   "source": [
    "x_test"
   ]
  },
  {
   "cell_type": "code",
   "execution_count": null,
   "metadata": {},
   "outputs": [],
   "source": [
    "shap.force_plot(\n",
    "    xgb_explainer.expected_value[0],\n",
    "    test_xgb_shap_values[0][0, :],\n",
    "    x_test.iloc[1, :],\n",
    "    matplotlib=True,\n",
    ")"
   ]
  },
  {
   "cell_type": "code",
   "execution_count": null,
   "metadata": {},
   "outputs": [],
   "source": [
    "feature_names = x_train.columns.values.tolist()\n",
    "feature_names"
   ]
  },
  {
   "cell_type": "code",
   "execution_count": null,
   "metadata": {},
   "outputs": [],
   "source": [
    "pd.DataFrame(\n",
    "    test_xgb_shap_values[0][0, :],\n",
    "    index=feature_names,\n",
    "    columns=[\"SHAP values\"],\n",
    ").sort_values('SHAP values', ascending=False)"
   ]
  },
  {
   "cell_type": "code",
   "execution_count": null,
   "metadata": {},
   "outputs": [],
   "source": [
    "train_xgb_shap_values"
   ]
  },
  {
   "cell_type": "code",
   "execution_count": null,
   "metadata": {},
   "outputs": [],
   "source": [
    "values = np.abs(train_xgb_shap_values[0]).mean(\n",
    "    0\n",
    ")  # mean of shapely values in each column\n",
    "pd.DataFrame(data=values, index=feature_names, columns=[\"SHAP\"]).sort_values(\n",
    "    by=\"SHAP\", ascending=False\n",
    ")[:10]"
   ]
  },
  {
   "cell_type": "code",
   "execution_count": null,
   "metadata": {},
   "outputs": [],
   "source": [
    "#global feature importances\n",
    "shap.summary_plot(train_xgb_shap_values[0], x_train, plot_type=\"bar\")"
   ]
  },
  {
   "cell_type": "code",
   "execution_count": null,
   "metadata": {},
   "outputs": [],
   "source": [
    "shap.summary_plot(train_xgb_shap_values[0], x_train)"
   ]
  },
  {
   "cell_type": "markdown",
   "metadata": {},
   "source": [
    "# Kmer counting using LOOP"
   ]
  },
  {
   "cell_type": "code",
   "execution_count": null,
   "metadata": {},
   "outputs": [],
   "source": [
    "def count_kmers(read, k):\n",
    "    \"\"\"Count kmer occurrences in a given read.\n",
    "\n",
    "    Parameters\n",
    "    ----------\n",
    "    read : string\n",
    "        A single DNA sequence.\n",
    "    k : int\n",
    "        The value of k for which to count kmers.\n",
    "\n",
    "    Returns\n",
    "    -------\n",
    "    counts : dictionary, {'string': int}\n",
    "        A dictionary of counts keyed by their individual kmers (strings\n",
    "        of length k).\n",
    "\n",
    "    Examples\n",
    "    --------\n",
    "    >>> count_kmers(\"GATGAT\", 3)\n",
    "    {'ATG': 1, 'GAT': 2, 'TGA': 1}\n",
    "    \"\"\"\n",
    "    # Start with an empty dictionary\n",
    "    counts = {}\n",
    "    # Calculate how many kmers of length k there are\n",
    "    num_kmers = len(read) - k + 1\n",
    "    # Loop over the kmer start positions\n",
    "    for i in range(num_kmers):\n",
    "        # Slice the string to get the kmer\n",
    "        kmer = read[i:i+k]\n",
    "        # Add the kmer to the dictionary if it's not there\n",
    "        if kmer not in counts:\n",
    "            counts[kmer] = 0\n",
    "        # Increment the count for this kmer\n",
    "        counts[kmer] += 1\n",
    "    # Return the final counts\n",
    "    return counts"
   ]
  },
  {
   "cell_type": "code",
   "execution_count": null,
   "metadata": {},
   "outputs": [],
   "source": [
    "# experimental cell for \n",
    "pdd1 = pd.DataFrame([[1,2,2], [1,2,2]], columns = ['yes','no','haha'])\n",
    "pdd2 = pd.DataFrame([[1,2,2],[10,15,18]], columns = ['no', 'yes', 'waha'])\n",
    "# pd.concat([pdd1,pdd2], ignore_index = True)\n",
    "print(pdd1)\n",
    "print(pdd2)\n",
    "merged = pd.merge(pdd1, pdd2, how = 'outer').fillna(0)\n",
    "if np.shape(merged)[1]%2 != 0:\n",
    "    print(\"you screwed up\")\n",
    "print(merged)\n",
    "updated_pdd1 = merged.head(int(np.shape(merged)[1]/2)).reset_index(drop = True)\n",
    "updated_pdd2 = merged.tail(int(np.shape(merged)[1]/2)).reset_index(drop = True)\n",
    "merged.head(int(np.shape(merged)[1]/2)).reset_index(drop = True) + merged.tail(int(np.shape(merged)[1]/2)).reset_index(drop = True)\n",
    "# updated_pdd1 + updated_pdd2"
   ]
  },
  {
   "cell_type": "code",
   "execution_count": null,
   "metadata": {},
   "outputs": [],
   "source": [
    "k = 6\n",
    "fastaFile = gzip.open(all_file_directories[0], \"rt\", encoding='utf-8')\n",
    "print(fastaFile)\n",
    "kmerCmd = '../kmer-counter --fasta --k=%d %s' % (k, fastaFile)\n",
    "try:\n",
    "    output = subprocess.check_output(kmerCmd, shell=True)\n",
    "    print(output)\n",
    "    result = {}\n",
    "    for line in output.splitlines():\n",
    "        (header, counts) = line.strip().split('\\t')\n",
    "        header = header[1:]\n",
    "        kmers = dict((k,int(v)) for (k,v) in [d.split(':') for d in counts.split(' ')])\n",
    "        result[header] = kmers\n",
    "    sys.stdout.write(\"%s\\n\" % (str(result)))\n",
    "except subprocess.CalledProcessError as error:\n",
    "    sys.stderr.write(\"%s\\n\" % (str(error)))\n"
   ]
  },
  {
   "cell_type": "code",
   "execution_count": null,
   "metadata": {},
   "outputs": [],
   "source": [
    "%%time\n",
    "\n",
    "final_df = pd.DataFrame([{}])\n",
    "for file in all_file_directories[0:1]:\n",
    "    with gzip.open(file, \"rt\") as unzipped_files:\n",
    "        loop_count = 0\n",
    "#         seq_list = []\n",
    "        combine_df = pd.DataFrame([{}])\n",
    "        for data in SeqIO.parse(unzipped_files, 'fasta'):\n",
    "            df = pd.DataFrame([{'test': 0}])\n",
    "            species = []\n",
    "            kmers = ['test']\n",
    "            counts = [0]\n",
    "            loop_count += 1\n",
    "#             print('now it is in loop: {}.'.format(loop_count))\n",
    "            identifier = data.id\n",
    "            description = data.description\n",
    "            sequence = data.seq\n",
    "#             print('Processing the record {}:'.format(identifier))\n",
    "#             species = description.split()[1:3].join()\n",
    "#             print('Its description is: \\n{}'.format(description))\n",
    "#             amount_of_nucleotides = len(sequence)\n",
    "#             print('Its sequence contains {} nucleotides.'.format(amount_of_nucleotides))\n",
    "            seq_list = list(sequence)\n",
    "            sequence_data = ''.join(seq_list)\n",
    "#             print(count_kmers(sequence_data, 25))\n",
    "            for key, value in count_kmers(sequence_data, 25).items():\n",
    "                kmers.append(key)\n",
    "                counts.append(value)\n",
    "#             print(species)\n",
    "#             print(kmers)\n",
    "#             print(counts)\n",
    "            df1 = pd.DataFrame([counts], columns = kmers)\n",
    "#             print(df1)\n",
    "            merged = pd.merge(df, df1, how = 'outer').fillna(0)  #pd.concat([df1, df], ignote_index = True)\n",
    "#             if np.shape(merged)[0]%2 != 0: # base test if we can merge the correct dfs correctly\n",
    "#                 print(\"you screwed up!!!!!!!!!!!!!!!!!!\")\n",
    "            \n",
    "#             print(merged)\n",
    "#             updated_df = merged.head(int(np.shape(merged)[0]/2)).reset_index(drop = True)\n",
    "#             updated_df1 = merged.tail(int(np.shape(merged)[0]/2)).reset_index(drop = True)\n",
    "#             df = updated_df + updated_df1\n",
    "            df = merged\n",
    "#             print(df)\n",
    "            combine_df = combine_df.append(df)\n",
    "#             print(combine_df)\n",
    "    combine_df = combine_df.fillna(0)\n",
    "    final_row = combine_df.iloc[[1]]\n",
    "#     print(final_row)\n",
    "    for i in range(np.shape(combine_df)[0])[2:]:\n",
    "#         print(\"finished processing this file, adding up and append this single row on to final_df\")\n",
    "        final_row = final_row + combine_df.iloc[[i]]\n",
    "#         print(final_row)\n",
    "    species = \"{in1} {in2}\".format(in1=description.split()[1], in2=description.split()[2])\n",
    "    final_row['species'] = species\n",
    "    final_df = final_df.append(final_row)  #remember to remove first row before data analysis!\n",
    "#     print(final_df)"
   ]
  },
  {
   "cell_type": "code",
   "execution_count": null,
   "metadata": {},
   "outputs": [],
   "source": [
    "t_list = []\n",
    "for t in df:\n",
    "    t_list.append(t)\n",
    "print(len(t_list))"
   ]
  }
 ],
 "metadata": {
  "kernelspec": {
   "display_name": "Python 3 (ipykernel)",
   "language": "python",
   "name": "python3"
  },
  "language_info": {
   "codemirror_mode": {
    "name": "ipython",
    "version": 3
   },
   "file_extension": ".py",
   "mimetype": "text/x-python",
   "name": "python",
   "nbconvert_exporter": "python",
   "pygments_lexer": "ipython3",
   "version": "3.7.10"
  }
 },
 "nbformat": 4,
 "nbformat_minor": 1
}
