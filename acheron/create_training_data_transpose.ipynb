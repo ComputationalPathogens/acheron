{
 "cells": [
  {
   "cell_type": "code",
   "execution_count": null,
   "metadata": {
    "collapsed": true
   },
   "outputs": [],
   "source": [
    "import pyarrow.parquet as pq\n",
    "import pandas as pd\n",
    "import pyarrow as pa"
   ]
  },
  {
   "cell_type": "code",
   "execution_count": null,
   "outputs": [],
   "source": [
    "input_file = 'final_df_final.parquet'\n",
    "output_file = 'final_df_transposed.parquet'"
   ],
   "metadata": {
    "collapsed": false
   }
  },
  {
   "cell_type": "code",
   "execution_count": null,
   "outputs": [],
   "source": [
    "parquet_file = pq.ParquetFile(input_file)\n",
    "metadata = parquet_file.metadata\n",
    "schema = parquet_file.schema"
   ],
   "metadata": {
    "collapsed": false
   }
  },
  {
   "cell_type": "code",
   "execution_count": null,
   "outputs": [],
   "source": [
    "df_transposed = pd.DataFrame(columns = schema.names)"
   ],
   "metadata": {
    "collapsed": false
   }
  },
  {
   "cell_type": "code",
   "execution_count": null,
   "outputs": [],
   "source": [
    "for col_name in schema.names:\n",
    "    print(\"printing col_name: {}\".format(col_name))\n",
    "    par = parquet_file.read(columns = [col_name])\n",
    "    print(\"printing dataframe\")\n",
    "    print(par)\n",
    "    col_data = par.column(0)\n",
    "    col_series = col_data.to_pandas()\n",
    "    row_df = pd.DataFrame(col_series).T\n",
    "    row_df.columns = schema.names\n",
    "    df_transposed = pd.concat([df_transposed, row_df], ignore_index = True)\n",
    "    print(\"dealed with \" + str(schema.names))"
   ],
   "metadata": {
    "collapsed": false
   }
  },
  {
   "cell_type": "code",
   "execution_count": null,
   "outputs": [],
   "source": [
    "table_transposed = pa.Table.from_pandas(df_transposed)"
   ],
   "metadata": {
    "collapsed": false
   }
  },
  {
   "cell_type": "code",
   "execution_count": null,
   "outputs": [],
   "source": [
    "pq.write_table(table_transposed, output_file)"
   ],
   "metadata": {
    "collapsed": false
   }
  }
 ],
 "metadata": {
  "kernelspec": {
   "display_name": "Python 3",
   "language": "python",
   "name": "python3"
  },
  "language_info": {
   "codemirror_mode": {
    "name": "ipython",
    "version": 2
   },
   "file_extension": ".py",
   "mimetype": "text/x-python",
   "name": "python",
   "nbconvert_exporter": "python",
   "pygments_lexer": "ipython2",
   "version": "2.7.6"
  }
 },
 "nbformat": 4,
 "nbformat_minor": 0
}
